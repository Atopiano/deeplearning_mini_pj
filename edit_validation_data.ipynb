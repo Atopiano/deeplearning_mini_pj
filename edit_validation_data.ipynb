{
 "cells": [
  {
   "cell_type": "code",
   "execution_count": 9,
   "metadata": {},
   "outputs": [],
   "source": [
    "import pandas as pd\n"
   ]
  },
  {
   "cell_type": "code",
   "execution_count": 10,
   "metadata": {},
   "outputs": [],
   "source": [
    "df = pd.read_csv('감성대화말뭉치(최종데이터)_Validation.csv')"
   ]
  },
  {
   "cell_type": "code",
   "execution_count": 11,
   "metadata": {},
   "outputs": [
    {
     "name": "stdout",
     "output_type": "stream",
     "text": [
      "<class 'pandas.core.frame.DataFrame'>\n",
      "RangeIndex: 6641 entries, 0 to 6640\n",
      "Data columns (total 13 columns):\n",
      " #   Column      Non-Null Count  Dtype \n",
      "---  ------      --------------  ----- \n",
      " 0   Unnamed: 0  6641 non-null   int64 \n",
      " 1   연령          6641 non-null   object\n",
      " 2   성별          6641 non-null   object\n",
      " 3   상황키워드       6641 non-null   object\n",
      " 4   신체질환        6641 non-null   object\n",
      " 5   감정_대분류      6641 non-null   object\n",
      " 6   감정_소분류      6641 non-null   object\n",
      " 7   사람문장1       6641 non-null   object\n",
      " 8   시스템문장1      6641 non-null   object\n",
      " 9   사람문장2       6641 non-null   object\n",
      " 10  시스템문장2      6641 non-null   object\n",
      " 11  사람문장3       4686 non-null   object\n",
      " 12  시스템문장3      4686 non-null   object\n",
      "dtypes: int64(1), object(12)\n",
      "memory usage: 674.6+ KB\n"
     ]
    }
   ],
   "source": [
    "df.info()"
   ]
  },
  {
   "cell_type": "code",
   "execution_count": 12,
   "metadata": {},
   "outputs": [
    {
     "data": {
      "text/plain": [
       "분노    1257\n",
       "기쁨    1213\n",
       "불안    1113\n",
       "당황    1048\n",
       "상처    1007\n",
       "슬픔    1003\n",
       "Name: 감정_대분류, dtype: int64"
      ]
     },
     "execution_count": 12,
     "metadata": {},
     "output_type": "execute_result"
    }
   ],
   "source": [
    "df['감정_대분류'].value_counts()"
   ]
  },
  {
   "cell_type": "code",
   "execution_count": 13,
   "metadata": {},
   "outputs": [
    {
     "data": {
      "text/plain": [
       "58"
      ]
     },
     "execution_count": 13,
     "metadata": {},
     "output_type": "execute_result"
    }
   ],
   "source": [
    "len(df['감정_소분류'].value_counts())"
   ]
  },
  {
   "cell_type": "code",
   "execution_count": 14,
   "metadata": {},
   "outputs": [
    {
     "data": {
      "text/plain": [
       "혼란스러운          217\n",
       "고립된            205\n",
       "분노             183\n",
       "편안한            181\n",
       "신뢰하는           156\n",
       "실망한            152\n",
       "스트레스 받는        148\n",
       "두려운            135\n",
       "당혹스러운          134\n",
       "당황             134\n",
       "악의적인           133\n",
       "좌절한            133\n",
       "불안             132\n",
       "충격 받은          131\n",
       "구역질 나는         130\n",
       "감사하는           130\n",
       "안달하는           129\n",
       "죄책감의           127\n",
       "툴툴대는           127\n",
       "외로운            127\n",
       "한심한            126\n",
       "짜증내는           125\n",
       "안도             124\n",
       "만족스러운          124\n",
       "노여워하는          124\n",
       "눈물이 나는         121\n",
       "자신하는           117\n",
       "환멸을 느끼는        115\n",
       "신이 난           114\n",
       "부끄러운           113\n",
       "걱정스러운          107\n",
       "후회되는           107\n",
       "우울한            107\n",
       "질투하는           106\n",
       "남의 시선을 의식하는    104\n",
       "초조한            104\n",
       "조심스러운          103\n",
       "기쁨             103\n",
       "느긋             102\n",
       "희생된            102\n",
       "억울한             98\n",
       "괴로워하는           96\n",
       "낙담한             96\n",
       "버려진             92\n",
       "상처              91\n",
       "방어적인            91\n",
       "회의적인            88\n",
       "슬픔              86\n",
       "염세적인            84\n",
       "배신당한            83\n",
       "마비된             83\n",
       "성가신             82\n",
       "취약한             77\n",
       "혐오스러운           73\n",
       "가난한, 불우한        67\n",
       "흥분              62\n",
       "비통한             52\n",
       "열등감             48\n",
       "Name: 감정_소분류, dtype: int64"
      ]
     },
     "execution_count": 14,
     "metadata": {},
     "output_type": "execute_result"
    }
   ],
   "source": [
    "df['감정_소분류'].value_counts()"
   ]
  },
  {
   "cell_type": "code",
   "execution_count": 15,
   "metadata": {},
   "outputs": [
    {
     "data": {
      "text/plain": [
       "12"
      ]
     },
     "execution_count": 15,
     "metadata": {},
     "output_type": "execute_result"
    }
   ],
   "source": [
    "len(df['상황키워드'].value_counts())"
   ]
  },
  {
   "cell_type": "code",
   "execution_count": 16,
   "metadata": {},
   "outputs": [
    {
     "data": {
      "text/plain": [
       "대인관계            1363\n",
       "건강,죽음            761\n",
       "진로,취업,직장         569\n",
       "재정               557\n",
       "학교폭력/따돌림         551\n",
       "학업 및 진로          496\n",
       "대인관계(부부, 자녀)     452\n",
       "직장, 업무 스트레스      433\n",
       "가족관계             390\n",
       "건강               380\n",
       "연애,결혼,출산         376\n",
       "재정,은퇴,노후준비       313\n",
       "Name: 상황키워드, dtype: int64"
      ]
     },
     "execution_count": 16,
     "metadata": {},
     "output_type": "execute_result"
    }
   ],
   "source": [
    "df['상황키워드'].value_counts()"
   ]
  },
  {
   "cell_type": "code",
   "execution_count": 17,
   "metadata": {},
   "outputs": [
    {
     "name": "stdout",
     "output_type": "stream",
     "text": [
      "<class 'pandas.core.frame.DataFrame'>\n",
      "RangeIndex: 6641 entries, 0 to 6640\n",
      "Data columns (total 13 columns):\n",
      " #   Column      Non-Null Count  Dtype \n",
      "---  ------      --------------  ----- \n",
      " 0   Unnamed: 0  6641 non-null   int64 \n",
      " 1   연령          6641 non-null   object\n",
      " 2   성별          6641 non-null   object\n",
      " 3   상황키워드       6641 non-null   object\n",
      " 4   신체질환        6641 non-null   object\n",
      " 5   감정_대분류      6641 non-null   object\n",
      " 6   감정_소분류      6641 non-null   object\n",
      " 7   사람문장1       6641 non-null   object\n",
      " 8   시스템문장1      6641 non-null   object\n",
      " 9   사람문장2       6641 non-null   object\n",
      " 10  시스템문장2      6641 non-null   object\n",
      " 11  사람문장3       4686 non-null   object\n",
      " 12  시스템문장3      4686 non-null   object\n",
      "dtypes: int64(1), object(12)\n",
      "memory usage: 674.6+ KB\n"
     ]
    }
   ],
   "source": [
    "df.info()"
   ]
  },
  {
   "cell_type": "code",
   "execution_count": 18,
   "metadata": {},
   "outputs": [],
   "source": [
    "new_df = df[['상황키워드','감정_대분류','사람문장1','사람문장2','사람문장3']]"
   ]
  },
  {
   "cell_type": "code",
   "execution_count": 19,
   "metadata": {},
   "outputs": [],
   "source": [
    "new_df_drop_surprize = new_df[new_df['감정_대분류']!='당황']"
   ]
  },
  {
   "cell_type": "code",
   "execution_count": 20,
   "metadata": {},
   "outputs": [
    {
     "name": "stdout",
     "output_type": "stream",
     "text": [
      "<class 'pandas.core.frame.DataFrame'>\n",
      "Int64Index: 5593 entries, 0 to 6635\n",
      "Data columns (total 5 columns):\n",
      " #   Column  Non-Null Count  Dtype \n",
      "---  ------  --------------  ----- \n",
      " 0   상황키워드   5593 non-null   object\n",
      " 1   감정_대분류  5593 non-null   object\n",
      " 2   사람문장1   5593 non-null   object\n",
      " 3   사람문장2   5593 non-null   object\n",
      " 4   사람문장3   3988 non-null   object\n",
      "dtypes: object(5)\n",
      "memory usage: 262.2+ KB\n"
     ]
    }
   ],
   "source": [
    "new_df_drop_surprize.info()"
   ]
  },
  {
   "cell_type": "code",
   "execution_count": 21,
   "metadata": {},
   "outputs": [
    {
     "name": "stderr",
     "output_type": "stream",
     "text": [
      "/var/folders/s0/5rhprztj2xs1kzwd87bwg_y00000gn/T/ipykernel_63835/3181115813.py:3: SettingWithCopyWarning: \n",
      "A value is trying to be set on a copy of a slice from a DataFrame.\n",
      "Try using .loc[row_indexer,col_indexer] = value instead\n",
      "\n",
      "See the caveats in the documentation: https://pandas.pydata.org/pandas-docs/stable/user_guide/indexing.html#returning-a-view-versus-a-copy\n",
      "  new_df_merge_sentence['사람문장'] = new_df_drop_surprize[['사람문장1','사람문장2']].apply(' '.join, axis=1)\n"
     ]
    }
   ],
   "source": [
    "# df['Full Name'] = df[['First', 'Last']].apply(' '.join, axis=1)\n",
    "new_df_merge_sentence = new_df_drop_surprize\n",
    "new_df_merge_sentence['사람문장'] = new_df_drop_surprize[['사람문장1','사람문장2']].apply(' '.join, axis=1)"
   ]
  },
  {
   "cell_type": "code",
   "execution_count": 22,
   "metadata": {},
   "outputs": [
    {
     "name": "stderr",
     "output_type": "stream",
     "text": [
      "/var/folders/s0/5rhprztj2xs1kzwd87bwg_y00000gn/T/ipykernel_63835/1349727833.py:1: SettingWithCopyWarning: \n",
      "A value is trying to be set on a copy of a slice from a DataFrame\n",
      "\n",
      "See the caveats in the documentation: https://pandas.pydata.org/pandas-docs/stable/user_guide/indexing.html#returning-a-view-versus-a-copy\n",
      "  new_df_merge_sentence['사람문장3'].fillna('.', inplace=True)\n"
     ]
    }
   ],
   "source": [
    "new_df_merge_sentence['사람문장3'].fillna('.', inplace=True)"
   ]
  },
  {
   "cell_type": "code",
   "execution_count": 23,
   "metadata": {},
   "outputs": [
    {
     "name": "stderr",
     "output_type": "stream",
     "text": [
      "/var/folders/s0/5rhprztj2xs1kzwd87bwg_y00000gn/T/ipykernel_63835/708296713.py:1: SettingWithCopyWarning: \n",
      "A value is trying to be set on a copy of a slice from a DataFrame.\n",
      "Try using .loc[row_indexer,col_indexer] = value instead\n",
      "\n",
      "See the caveats in the documentation: https://pandas.pydata.org/pandas-docs/stable/user_guide/indexing.html#returning-a-view-versus-a-copy\n",
      "  new_df_merge_sentence['사람문장'] = new_df_merge_sentence[['사람문장','사람문장3']].apply(' '.join, axis=1)\n"
     ]
    }
   ],
   "source": [
    "new_df_merge_sentence['사람문장'] = new_df_merge_sentence[['사람문장','사람문장3']].apply(' '.join, axis=1)"
   ]
  },
  {
   "cell_type": "code",
   "execution_count": 24,
   "metadata": {},
   "outputs": [
    {
     "name": "stdout",
     "output_type": "stream",
     "text": [
      "<class 'pandas.core.frame.DataFrame'>\n",
      "Int64Index: 5593 entries, 0 to 6635\n",
      "Data columns (total 6 columns):\n",
      " #   Column  Non-Null Count  Dtype \n",
      "---  ------  --------------  ----- \n",
      " 0   상황키워드   5593 non-null   object\n",
      " 1   감정_대분류  5593 non-null   object\n",
      " 2   사람문장1   5593 non-null   object\n",
      " 3   사람문장2   5593 non-null   object\n",
      " 4   사람문장3   5593 non-null   object\n",
      " 5   사람문장    5593 non-null   object\n",
      "dtypes: object(6)\n",
      "memory usage: 305.9+ KB\n"
     ]
    }
   ],
   "source": [
    "new_df_merge_sentence.info()"
   ]
  },
  {
   "cell_type": "code",
   "execution_count": 25,
   "metadata": {},
   "outputs": [],
   "source": [
    "final_df = new_df_merge_sentence[['상황키워드', '감정_대분류', '사람문장']]"
   ]
  },
  {
   "cell_type": "code",
   "execution_count": 26,
   "metadata": {},
   "outputs": [],
   "source": [
    "final_df.to_csv('keyword_emotion_sentence_only_validation.csv')"
   ]
  },
  {
   "cell_type": "code",
   "execution_count": 27,
   "metadata": {},
   "outputs": [
    {
     "name": "stdout",
     "output_type": "stream",
     "text": [
      "<class 'pandas.core.frame.DataFrame'>\n",
      "Int64Index: 5593 entries, 0 to 6635\n",
      "Data columns (total 3 columns):\n",
      " #   Column  Non-Null Count  Dtype \n",
      "---  ------  --------------  ----- \n",
      " 0   상황키워드   5593 non-null   object\n",
      " 1   감정_대분류  5593 non-null   object\n",
      " 2   사람문장    5593 non-null   object\n",
      "dtypes: object(3)\n",
      "memory usage: 174.8+ KB\n"
     ]
    }
   ],
   "source": [
    "final_df.info()"
   ]
  },
  {
   "cell_type": "code",
   "execution_count": null,
   "metadata": {},
   "outputs": [],
   "source": []
  },
  {
   "cell_type": "code",
   "execution_count": null,
   "metadata": {},
   "outputs": [],
   "source": []
  },
  {
   "cell_type": "code",
   "execution_count": null,
   "metadata": {},
   "outputs": [],
   "source": []
  },
  {
   "cell_type": "code",
   "execution_count": null,
   "metadata": {},
   "outputs": [],
   "source": []
  },
  {
   "cell_type": "code",
   "execution_count": null,
   "metadata": {},
   "outputs": [],
   "source": []
  }
 ],
 "metadata": {
  "kernelspec": {
   "display_name": "tf-learning",
   "language": "python",
   "name": "python3"
  },
  "language_info": {
   "codemirror_mode": {
    "name": "ipython",
    "version": 3
   },
   "file_extension": ".py",
   "mimetype": "text/x-python",
   "name": "python",
   "nbconvert_exporter": "python",
   "pygments_lexer": "ipython3",
   "version": "3.8.16"
  },
  "orig_nbformat": 4,
  "vscode": {
   "interpreter": {
    "hash": "669b9d02bcf94e5aa624eb44586bbf73b14f511db4905eee9a657608229042dc"
   }
  }
 },
 "nbformat": 4,
 "nbformat_minor": 2
}
