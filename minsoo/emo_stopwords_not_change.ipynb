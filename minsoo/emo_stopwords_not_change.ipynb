{
  "cells": [
    {
      "cell_type": "code",
      "execution_count": 128,
      "metadata": {
        "id": "oZxdQ9OiDoiB"
      },
      "outputs": [],
      "source": [
        "# 라이브러리 임포트\n",
        "import pandas as pd\n",
        "import numpy as np"
      ]
    },
    {
      "cell_type": "code",
      "execution_count": 129,
      "metadata": {
        "colab": {
          "base_uri": "https://localhost:8080/"
        },
        "id": "PhTDc4BVFyQf",
        "outputId": "67fb9b3c-3084-4ead-a9e6-3bda3ebbb274"
      },
      "outputs": [
        {
          "name": "stdout",
          "output_type": "stream",
          "text": [
            "Requirement already satisfied: konlpy in /Users/kimminsoo/miniconda/envs/tensorflow/lib/python3.8/site-packages (0.6.0)\n",
            "Requirement already satisfied: numpy>=1.6 in /Users/kimminsoo/miniconda/envs/tensorflow/lib/python3.8/site-packages (from konlpy) (1.22.3)\n",
            "Requirement already satisfied: JPype1>=0.7.0 in /Users/kimminsoo/miniconda/envs/tensorflow/lib/python3.8/site-packages (from konlpy) (1.4.1)\n",
            "Requirement already satisfied: lxml>=4.1.0 in /Users/kimminsoo/miniconda/envs/tensorflow/lib/python3.8/site-packages (from konlpy) (4.9.2)\n",
            "Requirement already satisfied: packaging in /Users/kimminsoo/miniconda/envs/tensorflow/lib/python3.8/site-packages (from JPype1>=0.7.0->konlpy) (23.0)\n",
            "Note: you may need to restart the kernel to use updated packages.\n"
          ]
        }
      ],
      "source": [
        "#pip install konlpy"
      ]
    },
    {
      "cell_type": "markdown",
      "metadata": {
        "id": "ksKI4ZUrDoiD"
      },
      "source": [
        "# 1. 데이터 불러오기"
      ]
    },
    {
      "cell_type": "code",
      "execution_count": 130,
      "metadata": {
        "id": "OWoMwcCGDoiE"
      },
      "outputs": [],
      "source": [
        "df = pd.read_csv('./가공데이터/keyword_emotion_sentence_only_train.csv', index_col=0)"
      ]
    },
    {
      "cell_type": "code",
      "execution_count": 131,
      "metadata": {
        "colab": {
          "base_uri": "https://localhost:8080/",
          "height": 659
        },
        "id": "08MK5oWUDoiF",
        "outputId": "de0468a2-5ce3-4612-a529-41a95912299d"
      },
      "outputs": [
        {
          "data": {
            "text/html": [
              "<div>\n",
              "<style scoped>\n",
              "    .dataframe tbody tr th:only-of-type {\n",
              "        vertical-align: middle;\n",
              "    }\n",
              "\n",
              "    .dataframe tbody tr th {\n",
              "        vertical-align: top;\n",
              "    }\n",
              "\n",
              "    .dataframe thead th {\n",
              "        text-align: right;\n",
              "    }\n",
              "</style>\n",
              "<table border=\"1\" class=\"dataframe\">\n",
              "  <thead>\n",
              "    <tr style=\"text-align: right;\">\n",
              "      <th></th>\n",
              "      <th>상황키워드</th>\n",
              "      <th>감정_대분류</th>\n",
              "      <th>사람문장</th>\n",
              "    </tr>\n",
              "  </thead>\n",
              "  <tbody>\n",
              "    <tr>\n",
              "      <th>0</th>\n",
              "      <td>진로,취업,직장</td>\n",
              "      <td>분노</td>\n",
              "      <td>일은 왜 해도 해도 끝이 없을까? 화가 난다. 그냥 내가 해결하는 게 나아. 남들한...</td>\n",
              "    </tr>\n",
              "    <tr>\n",
              "      <th>1</th>\n",
              "      <td>진로,취업,직장</td>\n",
              "      <td>분노</td>\n",
              "      <td>이번 달에 또 급여가 깎였어! 물가는 오르는데 월급만 자꾸 깎이니까 너무 화가 나....</td>\n",
              "    </tr>\n",
              "    <tr>\n",
              "      <th>2</th>\n",
              "      <td>진로,취업,직장</td>\n",
              "      <td>분노</td>\n",
              "      <td>회사에 신입이 들어왔는데 말투가 거슬려. 그런 애를 매일 봐야 한다고 생각하니까 스...</td>\n",
              "    </tr>\n",
              "    <tr>\n",
              "      <th>3</th>\n",
              "      <td>진로,취업,직장</td>\n",
              "      <td>분노</td>\n",
              "      <td>직장에서 막내라는 이유로 나에게만 온갖 심부름을 시켜. 일도 많은 데 정말 분하고 ...</td>\n",
              "    </tr>\n",
              "    <tr>\n",
              "      <th>4</th>\n",
              "      <td>진로,취업,직장</td>\n",
              "      <td>분노</td>\n",
              "      <td>얼마 전 입사한 신입사원이 나를 무시하는 것 같아서 너무 화가 나. 상사인 나에게 ...</td>\n",
              "    </tr>\n",
              "    <tr>\n",
              "      <th>...</th>\n",
              "      <td>...</td>\n",
              "      <td>...</td>\n",
              "      <td>...</td>\n",
              "    </tr>\n",
              "    <tr>\n",
              "      <th>51625</th>\n",
              "      <td>재정</td>\n",
              "      <td>분노</td>\n",
              "      <td>나이가 먹고 이제 돈도 못 벌어 오니까 어떻게 살아가야 할지 막막해. 능력도 없고....</td>\n",
              "    </tr>\n",
              "    <tr>\n",
              "      <th>51626</th>\n",
              "      <td>재정</td>\n",
              "      <td>불안</td>\n",
              "      <td>몸이 많이 약해졌나 봐. 이제 전과 같이 일하지 못할 것 같아 너무 짜증 나. 마음...</td>\n",
              "    </tr>\n",
              "    <tr>\n",
              "      <th>51627</th>\n",
              "      <td>재정</td>\n",
              "      <td>상처</td>\n",
              "      <td>이제 어떻게 해야 할지 모르겠어. 남편도 그렇고 노후 준비도 안 되어서 미래가 걱정...</td>\n",
              "    </tr>\n",
              "    <tr>\n",
              "      <th>51628</th>\n",
              "      <td>대인관계</td>\n",
              "      <td>불안</td>\n",
              "      <td>몇십 년을 함께 살았던 남편과 이혼했어. 그동안의 세월에 배신감을 느끼고 너무 화가...</td>\n",
              "    </tr>\n",
              "    <tr>\n",
              "      <th>51629</th>\n",
              "      <td>대인관계</td>\n",
              "      <td>상처</td>\n",
              "      <td>남편과 결혼한 지 사십 년이야. 이제 사람 만나는 것도 버겁고 알던 사람도 점점 사...</td>\n",
              "    </tr>\n",
              "  </tbody>\n",
              "</table>\n",
              "<p>42874 rows × 3 columns</p>\n",
              "</div>"
            ],
            "text/plain": [
              "          상황키워드 감정_대분류                                               사람문장\n",
              "0      진로,취업,직장     분노  일은 왜 해도 해도 끝이 없을까? 화가 난다. 그냥 내가 해결하는 게 나아. 남들한...\n",
              "1      진로,취업,직장     분노  이번 달에 또 급여가 깎였어! 물가는 오르는데 월급만 자꾸 깎이니까 너무 화가 나....\n",
              "2      진로,취업,직장     분노  회사에 신입이 들어왔는데 말투가 거슬려. 그런 애를 매일 봐야 한다고 생각하니까 스...\n",
              "3      진로,취업,직장     분노  직장에서 막내라는 이유로 나에게만 온갖 심부름을 시켜. 일도 많은 데 정말 분하고 ...\n",
              "4      진로,취업,직장     분노  얼마 전 입사한 신입사원이 나를 무시하는 것 같아서 너무 화가 나. 상사인 나에게 ...\n",
              "...         ...    ...                                                ...\n",
              "51625        재정     분노  나이가 먹고 이제 돈도 못 벌어 오니까 어떻게 살아가야 할지 막막해. 능력도 없고....\n",
              "51626        재정     불안  몸이 많이 약해졌나 봐. 이제 전과 같이 일하지 못할 것 같아 너무 짜증 나. 마음...\n",
              "51627        재정     상처  이제 어떻게 해야 할지 모르겠어. 남편도 그렇고 노후 준비도 안 되어서 미래가 걱정...\n",
              "51628      대인관계     불안  몇십 년을 함께 살았던 남편과 이혼했어. 그동안의 세월에 배신감을 느끼고 너무 화가...\n",
              "51629      대인관계     상처  남편과 결혼한 지 사십 년이야. 이제 사람 만나는 것도 버겁고 알던 사람도 점점 사...\n",
              "\n",
              "[42874 rows x 3 columns]"
            ]
          },
          "execution_count": 131,
          "metadata": {},
          "output_type": "execute_result"
        }
      ],
      "source": [
        "df"
      ]
    },
    {
      "cell_type": "code",
      "execution_count": 132,
      "metadata": {
        "colab": {
          "base_uri": "https://localhost:8080/"
        },
        "id": "WtTTpfAVDoiF",
        "outputId": "e09c4357-a7ca-4339-ce94-17c893b50c0d"
      },
      "outputs": [
        {
          "name": "stdout",
          "output_type": "stream",
          "text": [
            "<class 'pandas.core.frame.DataFrame'>\n",
            "Int64Index: 42874 entries, 0 to 51629\n",
            "Data columns (total 3 columns):\n",
            " #   Column  Non-Null Count  Dtype \n",
            "---  ------  --------------  ----- \n",
            " 0   상황키워드   42874 non-null  object\n",
            " 1   감정_대분류  42874 non-null  object\n",
            " 2   사람문장    42874 non-null  object\n",
            "dtypes: object(3)\n",
            "memory usage: 1.3+ MB\n"
          ]
        }
      ],
      "source": [
        "df.info()"
      ]
    },
    {
      "cell_type": "code",
      "execution_count": 133,
      "metadata": {
        "colab": {
          "base_uri": "https://localhost:8080/"
        },
        "id": "vadZfDjnDoiG",
        "outputId": "bc3a7e1f-eb47-4c2a-b2fa-7727de380836"
      },
      "outputs": [
        {
          "data": {
            "text/plain": [
              "불안    9320\n",
              "분노    9160\n",
              "상처    9143\n",
              "슬픔    9125\n",
              "기쁨    6126\n",
              "Name: 감정_대분류, dtype: int64"
            ]
          },
          "execution_count": 133,
          "metadata": {},
          "output_type": "execute_result"
        }
      ],
      "source": [
        "df['감정_대분류'].value_counts()"
      ]
    },
    {
      "cell_type": "code",
      "execution_count": 134,
      "metadata": {
        "colab": {
          "base_uri": "https://localhost:8080/"
        },
        "id": "hHB2vX1MDoiG",
        "outputId": "d972cb0a-85d2-488f-f179-d0396903d652"
      },
      "outputs": [
        {
          "name": "stderr",
          "output_type": "stream",
          "text": [
            "/var/folders/cy/sw8s66dd02l8b9dj7pqk2ljm0000gn/T/ipykernel_92612/2314435747.py:1: FutureWarning: The default value of regex will change from True to False in a future version.\n",
            "  df['사람문장'] = df['사람문장'].str.replace('[^ㄱ-ㅎㅏ-ㅣ가-힣 ]', \"\")\n"
          ]
        }
      ],
      "source": [
        "df['사람문장'] = df['사람문장'].str.replace('[^ㄱ-ㅎㅏ-ㅣ가-힣 ]', \"\")"
      ]
    },
    {
      "cell_type": "code",
      "execution_count": 135,
      "metadata": {
        "colab": {
          "base_uri": "https://localhost:8080/"
        },
        "id": "Lfpo4qKqDoiG",
        "outputId": "78e5ebbb-70a3-4fac-ccb6-c6d0b90e5062"
      },
      "outputs": [
        {
          "data": {
            "text/plain": [
              "0    일은 왜 해도 해도 끝이 없을까 화가 난다 그냥 내가 해결하는 게 나아 남들한테 부...\n",
              "1    이번 달에 또 급여가 깎였어 물가는 오르는데 월급만 자꾸 깎이니까 너무 화가 나 최...\n",
              "2    회사에 신입이 들어왔는데 말투가 거슬려 그런 애를 매일 봐야 한다고 생각하니까 스트...\n",
              "3    직장에서 막내라는 이유로 나에게만 온갖 심부름을 시켜 일도 많은 데 정말 분하고 섭...\n",
              "4    얼마 전 입사한 신입사원이 나를 무시하는 것 같아서 너무 화가 나 상사인 나에게 먼...\n",
              "5    직장에 다니고 있지만 시간만 버리는 거 같아 진지하게 진로에 대한 고민이 생겨 직장...\n",
              "6    성인인데도 진로를 아직도 못 정했다고 부모님이 노여워하셔 나도 섭섭해 부모님께 좀 ...\n",
              "7    퇴사한 지 얼마 안 됐지만 천천히 직장을 구해보려고 더 좋은 회사가 기다리고 있을지...\n",
              "8    졸업반이라서 취업을 생각해야 하는데 지금 너무 느긋해서 이래도 되나 싶어 응 느긋함...\n",
              "9    요즘 직장생활이 너무 편하고 좋은 것 같아 우리 회사는 복지가 정말 좋아 내가 곧 ...\n",
              "Name: 사람문장, dtype: object"
            ]
          },
          "execution_count": 135,
          "metadata": {},
          "output_type": "execute_result"
        }
      ],
      "source": [
        "df['사람문장'].head(10)"
      ]
    },
    {
      "cell_type": "markdown",
      "metadata": {
        "id": "aTA-Kr5LDoiH"
      },
      "source": [
        "# 2. 감정 분류"
      ]
    },
    {
      "cell_type": "code",
      "execution_count": 136,
      "metadata": {
        "id": "IInRxqAiDoiH"
      },
      "outputs": [],
      "source": [
        "emo_df = df"
      ]
    },
    {
      "cell_type": "code",
      "execution_count": 137,
      "metadata": {
        "id": "6ZEcmmOyDoiH"
      },
      "outputs": [],
      "source": [
        "emo_target_df = emo_df['감정_대분류']"
      ]
    },
    {
      "cell_type": "code",
      "execution_count": 138,
      "metadata": {
        "id": "l1seNfuJDoiH"
      },
      "outputs": [],
      "source": [
        "emo_sentence_df = emo_df['사람문장']"
      ]
    },
    {
      "cell_type": "code",
      "execution_count": 139,
      "metadata": {
        "colab": {
          "base_uri": "https://localhost:8080/"
        },
        "id": "_D3cNJeVDoiI",
        "outputId": "0ce93fca-421c-4fea-d588-168a04c460f3"
      },
      "outputs": [
        {
          "data": {
            "text/plain": [
              "불안    9320\n",
              "분노    9160\n",
              "상처    9143\n",
              "슬픔    9125\n",
              "기쁨    6126\n",
              "Name: 감정_대분류, dtype: int64"
            ]
          },
          "execution_count": 139,
          "metadata": {},
          "output_type": "execute_result"
        }
      ],
      "source": [
        "emo_target_df.value_counts()"
      ]
    },
    {
      "cell_type": "code",
      "execution_count": 140,
      "metadata": {
        "id": "lV6rSjchDoiI"
      },
      "outputs": [],
      "source": [
        "emo_df.loc[(emo_df['감정_대분류']=='불안'), '감정_대분류'] = 0\n",
        "emo_df.loc[(emo_df['감정_대분류']=='분노'), '감정_대분류'] = 1\n",
        "emo_df.loc[(emo_df['감정_대분류']=='상처'), '감정_대분류'] = 2 \n",
        "emo_df.loc[(emo_df['감정_대분류']=='슬픔'), '감정_대분류'] = 3 \n",
        "emo_df.loc[(emo_df['감정_대분류']=='기쁨'), '감정_대분류'] = 4 "
      ]
    },
    {
      "cell_type": "code",
      "execution_count": 141,
      "metadata": {
        "colab": {
          "base_uri": "https://localhost:8080/"
        },
        "id": "8yGhDkQQDoiJ",
        "outputId": "8dfbe1a7-efcc-429f-fe61-5f4bcf70b101"
      },
      "outputs": [
        {
          "data": {
            "text/plain": [
              "0    9320\n",
              "1    9160\n",
              "2    9143\n",
              "3    9125\n",
              "4    6126\n",
              "Name: 감정_대분류, dtype: int64"
            ]
          },
          "execution_count": 141,
          "metadata": {},
          "output_type": "execute_result"
        }
      ],
      "source": [
        "emo_df['감정_대분류'].value_counts()"
      ]
    },
    {
      "cell_type": "code",
      "execution_count": 142,
      "metadata": {
        "id": "O1ph56ioDoiJ"
      },
      "outputs": [],
      "source": [
        "emo_target_df = emo_df['감정_대분류']"
      ]
    },
    {
      "cell_type": "code",
      "execution_count": 143,
      "metadata": {
        "colab": {
          "base_uri": "https://localhost:8080/"
        },
        "id": "7gfwkGGjDoiJ",
        "outputId": "6ea83f9d-fac3-494c-e1f6-0480a0138faa"
      },
      "outputs": [
        {
          "data": {
            "text/plain": [
              "0    9320\n",
              "1    9160\n",
              "2    9143\n",
              "3    9125\n",
              "4    6126\n",
              "Name: 감정_대분류, dtype: int64"
            ]
          },
          "execution_count": 143,
          "metadata": {},
          "output_type": "execute_result"
        }
      ],
      "source": [
        "emo_target_df.value_counts()"
      ]
    },
    {
      "cell_type": "markdown",
      "metadata": {
        "id": "BLhnzlpSDoiK"
      },
      "source": [
        "# 3. 텍스트 토큰화 및 Pad_Sequences"
      ]
    },
    {
      "cell_type": "code",
      "execution_count": 144,
      "metadata": {
        "id": "p9ld9w6wDoiK"
      },
      "outputs": [],
      "source": [
        "from konlpy.tag import Okt\n",
        "from tqdm import tqdm"
      ]
    },
    {
      "cell_type": "code",
      "execution_count": 145,
      "metadata": {
        "id": "d5nzp0WqDoiK"
      },
      "outputs": [],
      "source": [
        "from sklearn.feature_extraction.text import CountVectorizer, TfidfVectorizer\n",
        "from sklearn.pipeline import Pipeline\n",
        "\n",
        "from sklearn.linear_model import LogisticRegression\n",
        "from sklearn.metrics import accuracy_score, roc_auc_score"
      ]
    },
    {
      "cell_type": "code",
      "execution_count": 146,
      "metadata": {
        "id": "NVvw6k6KDoiK"
      },
      "outputs": [],
      "source": [
        "stopwords = ['의','가','이','은','들','는','좀','잘','걍','과','도','를','으로','자','에','와','한','하다']"
      ]
    },
    {
      "cell_type": "code",
      "execution_count": 147,
      "metadata": {
        "id": "b5CtkIhvDoiL"
      },
      "outputs": [],
      "source": [
        "okt = Okt()"
      ]
    },
    {
      "cell_type": "code",
      "execution_count": 148,
      "metadata": {
        "colab": {
          "base_uri": "https://localhost:8080/"
        },
        "id": "UBNbgqLrDoiL",
        "outputId": "d5301d44-98fb-49cd-95e0-571acdea0598"
      },
      "outputs": [
        {
          "name": "stderr",
          "output_type": "stream",
          "text": [
            "100%|██████████| 42874/42874 [02:02<00:00, 351.25it/s]\n"
          ]
        }
      ],
      "source": [
        "tokenized_X_train = []\n",
        "\n",
        "for sentence in tqdm(emo_df['사람문장']):\n",
        "    tokenized_sentence = okt.morphs(sentence, stem=True) # 토큰화\n",
        "    stopwords_removed_sentence = [word for word in tokenized_sentence if not word in stopwords] # 불용어 제거\n",
        "    tokenized_X_train.append(stopwords_removed_sentence)"
      ]
    },
    {
      "cell_type": "code",
      "execution_count": 149,
      "metadata": {
        "id": "r7z80DF1DoiL"
      },
      "outputs": [],
      "source": [
        "from tensorflow.keras.preprocessing.text import Tokenizer\n",
        "from tensorflow.keras.preprocessing.sequence import pad_sequences"
      ]
    },
    {
      "cell_type": "code",
      "execution_count": 150,
      "metadata": {
        "id": "pAZ0LQWzDoiM"
      },
      "outputs": [],
      "source": [
        "tokenizer = Tokenizer()\n",
        "tokenizer.fit_on_texts(tokenized_X_train)"
      ]
    },
    {
      "cell_type": "code",
      "execution_count": null,
      "metadata": {
        "colab": {
          "base_uri": "https://localhost:8080/"
        },
        "id": "CGVDs2SQDoiM",
        "outputId": "64387676-5b7f-4b2b-e9f5-0f208e590d4a"
      },
      "outputs": [],
      "source": [
        "print(tokenizer.word_index)"
      ]
    },
    {
      "cell_type": "code",
      "execution_count": 152,
      "metadata": {
        "colab": {
          "base_uri": "https://localhost:8080/"
        },
        "id": "-ca2Rgr_DoiM",
        "outputId": "76a025f7-a596-4e6d-c515-d84d048eb62d"
      },
      "outputs": [
        {
          "name": "stdout",
          "output_type": "stream",
          "text": [
            "단어 집합(vocabulary)의 크기 : 14182\n",
            "등장 빈도가 2번 이하인 희귀 단어의 수: 5669\n",
            "단어 집합에서 희귀 단어의 비율: 39.97320547172472\n",
            "전체 등장 빈도에서 희귀 단어 등장 빈도 비율: 0.5732984700627227\n"
          ]
        }
      ],
      "source": [
        "threshold = 3\n",
        "total_cnt = len(tokenizer.word_index) # 단어의 수\n",
        "rare_cnt = 0 # 등장 빈도수가 threshold보다 작은 단어의 개수를 카운트\n",
        "total_freq = 0 # 훈련 데이터의 전체 단어 빈도수 총 합\n",
        "rare_freq = 0 # 등장 빈도수가 threshold보다 작은 단어의 등장 빈도수의 총 합\n",
        "\n",
        "# 단어와 빈도수의 쌍(pair)을 key와 value로 받는다.\n",
        "for key, value in tokenizer.word_counts.items():\n",
        "    total_freq = total_freq + value\n",
        "\n",
        "    # 단어의 등장 빈도수가 threshold보다 작으면\n",
        "    if(value < threshold):\n",
        "        rare_cnt = rare_cnt + 1\n",
        "        rare_freq = rare_freq + value\n",
        "\n",
        "print('단어 집합(vocabulary)의 크기 :',total_cnt)\n",
        "print('등장 빈도가 %s번 이하인 희귀 단어의 수: %s'%(threshold - 1, rare_cnt))\n",
        "print(\"단어 집합에서 희귀 단어의 비율:\", (rare_cnt / total_cnt)*100)\n",
        "print(\"전체 등장 빈도에서 희귀 단어 등장 빈도 비율:\", (rare_freq / total_freq)*100)"
      ]
    },
    {
      "cell_type": "code",
      "execution_count": 153,
      "metadata": {
        "colab": {
          "base_uri": "https://localhost:8080/"
        },
        "id": "7KhJ6NH0DoiM",
        "outputId": "fac955d7-3d29-45de-f28c-e48145b81897"
      },
      "outputs": [
        {
          "name": "stdout",
          "output_type": "stream",
          "text": [
            "단어 집합의 크기 : 8514\n"
          ]
        }
      ],
      "source": [
        "vocab_size = total_cnt - rare_cnt + 1\n",
        "print('단어 집합의 크기 :',vocab_size)"
      ]
    },
    {
      "cell_type": "code",
      "execution_count": 154,
      "metadata": {
        "id": "w1bFazBXDoiN"
      },
      "outputs": [],
      "source": [
        "tokenizer = Tokenizer(vocab_size) \n",
        "tokenizer.fit_on_texts(tokenized_X_train)\n",
        "X_train = tokenizer.texts_to_sequences(tokenized_X_train)"
      ]
    },
    {
      "cell_type": "code",
      "execution_count": 155,
      "metadata": {
        "id": "9j7D9hGfDoiN"
      },
      "outputs": [],
      "source": [
        "y_train = np.array(emo_target_df)"
      ]
    },
    {
      "cell_type": "code",
      "execution_count": 156,
      "metadata": {
        "colab": {
          "base_uri": "https://localhost:8080/"
        },
        "id": "r5FYAN3NDoiN",
        "outputId": "dee225d3-4243-4825-e562-076711c83660"
      },
      "outputs": [
        {
          "data": {
            "text/plain": [
              "array([1, 1, 1, ..., 2, 0, 2], dtype=object)"
            ]
          },
          "execution_count": 156,
          "metadata": {},
          "output_type": "execute_result"
        }
      ],
      "source": [
        "y_train"
      ]
    },
    {
      "cell_type": "code",
      "execution_count": 157,
      "metadata": {
        "colab": {
          "base_uri": "https://localhost:8080/",
          "height": 315
        },
        "id": "SFz7ZARvDoiN",
        "outputId": "cb93f667-5cf1-4155-d95d-d0cce28d185e"
      },
      "outputs": [
        {
          "name": "stdout",
          "output_type": "stream",
          "text": [
            "최대 길이 : 92\n",
            "평균 길이 : 29.80018192844148\n"
          ]
        },
        {
          "data": {
            "image/png": "[encoded data removed]",
            "text/plain": [
              "<Figure size 640x480 with 1 Axes>"
            ]
          },
          "metadata": {},
          "output_type": "display_data"
        }
      ],
      "source": [
        "import matplotlib.pyplot as plt\n",
        "\n",
        "print('최대 길이 :',max(len(review) for review in X_train))\n",
        "print('평균 길이 :',sum(map(len, X_train))/len(X_train))\n",
        "plt.hist([len(review) for review in X_train], bins=50)\n",
        "plt.xlabel('length of samples')\n",
        "plt.ylabel('number of samples')\n",
        "plt.show()"
      ]
    },
    {
      "cell_type": "code",
      "execution_count": 158,
      "metadata": {
        "id": "SQSKcjUKDoiN"
      },
      "outputs": [],
      "source": [
        "def below_threshold_len(max_len, nested_list):\n",
        "  count = 0\n",
        "  for sentence in nested_list:\n",
        "    if(len(sentence) <= max_len):\n",
        "        count = count + 1\n",
        "  print('전체 샘플 중 길이가 %s 이하인 샘플의 비율: %s'%(max_len, (count / len(nested_list))*100))"
      ]
    },
    {
      "cell_type": "code",
      "execution_count": 159,
      "metadata": {
        "colab": {
          "base_uri": "https://localhost:8080/"
        },
        "id": "FgKJ2FHADoiO",
        "outputId": "8af41394-a5f1-4714-f6df-1d6be62d061e"
      },
      "outputs": [
        {
          "name": "stdout",
          "output_type": "stream",
          "text": [
            "전체 샘플 중 길이가 50 이하인 샘플의 비율: 98.79880580305081\n"
          ]
        }
      ],
      "source": [
        "max_len = 50\n",
        "below_threshold_len(max_len, X_train)"
      ]
    },
    {
      "cell_type": "code",
      "execution_count": 160,
      "metadata": {
        "id": "YzsObKQpDoiO"
      },
      "outputs": [],
      "source": [
        "X_train = pad_sequences(X_train, maxlen=max_len)"
      ]
    },
    {
      "cell_type": "code",
      "execution_count": 161,
      "metadata": {
        "colab": {
          "base_uri": "https://localhost:8080/"
        },
        "id": "ffeddwfJDoiO",
        "outputId": "c19f141d-86e8-4fe6-850a-11340b53a8a7"
      },
      "outputs": [
        {
          "data": {
            "text/plain": [
              "42874"
            ]
          },
          "execution_count": 161,
          "metadata": {},
          "output_type": "execute_result"
        }
      ],
      "source": [
        "len(y_train)"
      ]
    },
    {
      "cell_type": "code",
      "execution_count": 162,
      "metadata": {
        "colab": {
          "base_uri": "https://localhost:8080/"
        },
        "id": "v7H7ds6DDoiO",
        "outputId": "ddff62b4-12be-4544-b5fd-cf9297442fff"
      },
      "outputs": [
        {
          "data": {
            "text/plain": [
              "42874"
            ]
          },
          "execution_count": 162,
          "metadata": {},
          "output_type": "execute_result"
        }
      ],
      "source": [
        "len(X_train)"
      ]
    },
    {
      "attachments": {},
      "cell_type": "markdown",
      "metadata": {
        "id": "vffCibJpDoiO"
      },
      "source": [
        "## 4. 모델 구축"
      ]
    },
    {
      "cell_type": "code",
      "execution_count": 163,
      "metadata": {
        "id": "wE2-nta-DoiO"
      },
      "outputs": [],
      "source": [
        "from tensorflow.keras.layers import Embedding, Dense, LSTM\n",
        "from tensorflow.keras.models import Sequential\n",
        "from tensorflow.keras.models import load_model\n",
        "from tensorflow.keras.callbacks import EarlyStopping, ModelCheckpoint"
      ]
    },
    {
      "cell_type": "code",
      "execution_count": 164,
      "metadata": {
        "id": "GI2Y25dnDoiO"
      },
      "outputs": [],
      "source": [
        "y_train = y_train.astype(int)"
      ]
    },
    {
      "cell_type": "code",
      "execution_count": 165,
      "metadata": {
        "colab": {
          "base_uri": "https://localhost:8080/"
        },
        "id": "xoXIveRJDoiP",
        "outputId": "32d17113-6881-48e9-944f-9ea9d197dea4"
      },
      "outputs": [
        {
          "data": {
            "text/plain": [
              "0    9320\n",
              "1    9160\n",
              "2    9143\n",
              "3    9125\n",
              "4    6126\n",
              "dtype: int64"
            ]
          },
          "execution_count": 165,
          "metadata": {},
          "output_type": "execute_result"
        }
      ],
      "source": [
        "pd.Series(y_train).value_counts()"
      ]
    },
    {
      "cell_type": "code",
      "execution_count": 166,
      "metadata": {
        "colab": {
          "base_uri": "https://localhost:8080/"
        },
        "id": "5WvygQuiDoiP",
        "outputId": "adb21462-6a4d-47a9-cbf0-04ef042e91df"
      },
      "outputs": [
        {
          "data": {
            "text/plain": [
              "array([[0., 1., 0., 0., 0.],\n",
              "       [0., 1., 0., 0., 0.],\n",
              "       [0., 1., 0., 0., 0.],\n",
              "       ...,\n",
              "       [0., 0., 1., 0., 0.],\n",
              "       [1., 0., 0., 0., 0.],\n",
              "       [0., 0., 1., 0., 0.]])"
            ]
          },
          "execution_count": 166,
          "metadata": {},
          "output_type": "execute_result"
        }
      ],
      "source": [
        "num = np.unique(y_train, axis=0)\n",
        "num = num.shape[0]\n",
        "one_hot_y_train = np.eye(num)[y_train]\n",
        "one_hot_y_train"
      ]
    },
    {
      "cell_type": "code",
      "execution_count": 167,
      "metadata": {
        "colab": {
          "base_uri": "https://localhost:8080/"
        },
        "id": "XRFmOZLODoiP",
        "outputId": "99f88246-c4e1-4a2b-8bad-730a0d6e27f0"
      },
      "outputs": [
        {
          "name": "stdout",
          "output_type": "stream",
          "text": [
            "Epoch 1/50\n"
          ]
        },
        {
          "name": "stderr",
          "output_type": "stream",
          "text": [
            "2023-03-06 15:35:53.187672: I tensorflow/core/grappler/optimizers/custom_graph_optimizer_registry.cc:113] Plugin optimizer for device_type GPU is enabled.\n",
            "2023-03-06 15:35:53.651651: I tensorflow/core/grappler/optimizers/custom_graph_optimizer_registry.cc:113] Plugin optimizer for device_type GPU is enabled.\n",
            "2023-03-06 15:35:54.038779: I tensorflow/core/grappler/optimizers/custom_graph_optimizer_registry.cc:113] Plugin optimizer for device_type GPU is enabled.\n"
          ]
        },
        {
          "name": "stdout",
          "output_type": "stream",
          "text": [
            "536/536 [==============================] - ETA: 0s - loss: 1.1271 - acc: 0.5341"
          ]
        },
        {
          "name": "stderr",
          "output_type": "stream",
          "text": [
            "2023-03-06 15:36:18.129861: I tensorflow/core/grappler/optimizers/custom_graph_optimizer_registry.cc:113] Plugin optimizer for device_type GPU is enabled.\n",
            "2023-03-06 15:36:18.244358: I tensorflow/core/grappler/optimizers/custom_graph_optimizer_registry.cc:113] Plugin optimizer for device_type GPU is enabled.\n"
          ]
        },
        {
          "name": "stdout",
          "output_type": "stream",
          "text": [
            "\n",
            "Epoch 1: val_acc improved from -inf to 0.46845, saving model to emo_stopwords_not_change.h5\n",
            "536/536 [==============================] - 28s 49ms/step - loss: 1.1271 - acc: 0.5341 - val_loss: 1.3291 - val_acc: 0.4685\n",
            "Epoch 2/50\n",
            "536/536 [==============================] - ETA: 0s - loss: 0.7845 - acc: 0.7175\n",
            "Epoch 2: val_acc improved from 0.46845 to 0.49586, saving model to emo_stopwords_not_change.h5\n",
            "536/536 [==============================] - 23s 42ms/step - loss: 0.7845 - acc: 0.7175 - val_loss: 1.2601 - val_acc: 0.4959\n",
            "Epoch 3/50\n",
            "536/536 [==============================] - ETA: 0s - loss: 0.6812 - acc: 0.7615\n",
            "Epoch 3: val_acc did not improve from 0.49586\n",
            "536/536 [==============================] - 21s 38ms/step - loss: 0.6812 - acc: 0.7615 - val_loss: 1.2776 - val_acc: 0.4889\n",
            "Epoch 4/50\n",
            "536/536 [==============================] - ETA: 0s - loss: 0.6115 - acc: 0.7848\n",
            "Epoch 4: val_acc did not improve from 0.49586\n",
            "536/536 [==============================] - 21s 39ms/step - loss: 0.6115 - acc: 0.7848 - val_loss: 1.4923 - val_acc: 0.4750\n",
            "Epoch 5/50\n",
            "536/536 [==============================] - ETA: 0s - loss: 0.5423 - acc: 0.8120\n",
            "Epoch 5: val_acc did not improve from 0.49586\n",
            "536/536 [==============================] - 21s 40ms/step - loss: 0.5423 - acc: 0.8120 - val_loss: 1.4455 - val_acc: 0.4735\n",
            "Epoch 6/50\n",
            "536/536 [==============================] - ETA: 0s - loss: 0.4746 - acc: 0.8380\n",
            "Epoch 6: val_acc did not improve from 0.49586\n",
            "536/536 [==============================] - 21s 40ms/step - loss: 0.4746 - acc: 0.8380 - val_loss: 1.5545 - val_acc: 0.4689\n",
            "Epoch 6: early stopping\n"
          ]
        }
      ],
      "source": [
        "embedding_dim = 100\n",
        "hidden_units = 128\n",
        "\n",
        "model = Sequential()\n",
        "model.add(Embedding(vocab_size, embedding_dim))\n",
        "model.add(LSTM(hidden_units))\n",
        "model.add(Dense(5, activation='softmax'))\n",
        "\n",
        "es = EarlyStopping(monitor='val_loss', mode='min', verbose=1, patience=4)\n",
        "mc = ModelCheckpoint('emo_stopwords_not_change.h5', monitor='val_acc', mode='max', verbose=1, save_best_only=True)\n",
        "\n",
        "model.compile(optimizer='adam', loss='categorical_crossentropy', metrics=['acc'])\n",
        "hist = model.fit(X_train, one_hot_y_train, epochs=50, callbacks=[es, mc], batch_size=64, validation_split=0.2)"
      ]
    },
    {
      "cell_type": "code",
      "execution_count": 168,
      "metadata": {
        "id": "Jl8TyC_hDoiP"
      },
      "outputs": [],
      "source": [
        "loaded_model = load_model('emo_stopwords_not_change.h5')"
      ]
    },
    {
      "cell_type": "code",
      "execution_count": 169,
      "metadata": {
        "colab": {
          "base_uri": "https://localhost:8080/",
          "height": 269
        },
        "id": "3BRGImvBuykv",
        "outputId": "23a1de35-0ef5-450a-f8fe-d046193acae7"
      },
      "outputs": [
        {
          "data": {
            "text/html": [
              "<div>\n",
              "<style scoped>\n",
              "    .dataframe tbody tr th:only-of-type {\n",
              "        vertical-align: middle;\n",
              "    }\n",
              "\n",
              "    .dataframe tbody tr th {\n",
              "        vertical-align: top;\n",
              "    }\n",
              "\n",
              "    .dataframe thead th {\n",
              "        text-align: right;\n",
              "    }\n",
              "</style>\n",
              "<table border=\"1\" class=\"dataframe\">\n",
              "  <thead>\n",
              "    <tr style=\"text-align: right;\">\n",
              "      <th></th>\n",
              "      <th>loss</th>\n",
              "      <th>acc</th>\n",
              "      <th>val_loss</th>\n",
              "      <th>val_acc</th>\n",
              "    </tr>\n",
              "  </thead>\n",
              "  <tbody>\n",
              "    <tr>\n",
              "      <th>0</th>\n",
              "      <td>1.127080</td>\n",
              "      <td>0.534126</td>\n",
              "      <td>1.329094</td>\n",
              "      <td>0.468455</td>\n",
              "    </tr>\n",
              "    <tr>\n",
              "      <th>1</th>\n",
              "      <td>0.784492</td>\n",
              "      <td>0.717514</td>\n",
              "      <td>1.260105</td>\n",
              "      <td>0.495860</td>\n",
              "    </tr>\n",
              "    <tr>\n",
              "      <th>2</th>\n",
              "      <td>0.681188</td>\n",
              "      <td>0.761509</td>\n",
              "      <td>1.277631</td>\n",
              "      <td>0.488863</td>\n",
              "    </tr>\n",
              "    <tr>\n",
              "      <th>3</th>\n",
              "      <td>0.611524</td>\n",
              "      <td>0.784804</td>\n",
              "      <td>1.492274</td>\n",
              "      <td>0.474985</td>\n",
              "    </tr>\n",
              "    <tr>\n",
              "      <th>4</th>\n",
              "      <td>0.542346</td>\n",
              "      <td>0.812006</td>\n",
              "      <td>1.445482</td>\n",
              "      <td>0.473469</td>\n",
              "    </tr>\n",
              "    <tr>\n",
              "      <th>5</th>\n",
              "      <td>0.474639</td>\n",
              "      <td>0.837954</td>\n",
              "      <td>1.554504</td>\n",
              "      <td>0.468921</td>\n",
              "    </tr>\n",
              "  </tbody>\n",
              "</table>\n",
              "</div>"
            ],
            "text/plain": [
              "       loss       acc  val_loss   val_acc\n",
              "0  1.127080  0.534126  1.329094  0.468455\n",
              "1  0.784492  0.717514  1.260105  0.495860\n",
              "2  0.681188  0.761509  1.277631  0.488863\n",
              "3  0.611524  0.784804  1.492274  0.474985\n",
              "4  0.542346  0.812006  1.445482  0.473469\n",
              "5  0.474639  0.837954  1.554504  0.468921"
            ]
          },
          "execution_count": 169,
          "metadata": {},
          "output_type": "execute_result"
        }
      ],
      "source": [
        "pd.DataFrame(hist.history)"
      ]
    },
    {
      "cell_type": "code",
      "execution_count": 170,
      "metadata": {
        "id": "AC1hFg6oDoiQ"
      },
      "outputs": [],
      "source": [
        "import re\n",
        "\n",
        "def sentiment_predict(new_sentence):\n",
        "  new_sentence = re.sub(r'[^ㄱ-ㅎㅏ-ㅣ가-힣 ]','', new_sentence)\n",
        "  new_sentence = okt.morphs(new_sentence, stem=True) # 토큰화\n",
        "  new_sentence = [word for word in new_sentence if not word in stopwords] # 불용어 제거\n",
        "  encoded = tokenizer.texts_to_sequences([new_sentence]) # 정수 인코딩\n",
        "  pad_new = pad_sequences(encoded, maxlen = max_len) # 패딩\n",
        "  score = float(np.argmax(loaded_model.predict(pad_new), axis=-1)) # 예측\n",
        "  if score == 0:\n",
        "    print('불안')\n",
        "  elif score == 1:\n",
        "    print('분노')\n",
        "  elif score == 2:\n",
        "    print('상처')\n",
        "  elif score == 3:\n",
        "    print('슬픔')\n",
        "  elif score == 4:\n",
        "    print('기쁨')\n",
        "  # print(f'score = {score}')"
      ]
    },
    {
      "cell_type": "markdown",
      "metadata": {
        "id": "6-27MJc-Ifox"
      },
      "source": [
        "# 5. 모델 예측 확인해보기"
      ]
    },
    {
      "cell_type": "code",
      "execution_count": 171,
      "metadata": {
        "colab": {
          "base_uri": "https://localhost:8080/"
        },
        "id": "XgEijPJHIZtr",
        "outputId": "0f7a3b46-432c-4de4-d666-64d210dc12ce"
      },
      "outputs": [
        {
          "name": "stderr",
          "output_type": "stream",
          "text": [
            "2023-03-06 15:38:07.925608: I tensorflow/core/grappler/optimizers/custom_graph_optimizer_registry.cc:113] Plugin optimizer for device_type GPU is enabled.\n",
            "2023-03-06 15:38:08.003849: I tensorflow/core/grappler/optimizers/custom_graph_optimizer_registry.cc:113] Plugin optimizer for device_type GPU is enabled.\n"
          ]
        },
        {
          "name": "stdout",
          "output_type": "stream",
          "text": [
            "1/1 [==============================] - 0s 363ms/step\n",
            "불안\n"
          ]
        }
      ],
      "source": [
        "sentiment_predict('우리 아들이 사춘기라서 어떡하지')"
      ]
    },
    {
      "cell_type": "code",
      "execution_count": 172,
      "metadata": {
        "colab": {
          "base_uri": "https://localhost:8080/"
        },
        "id": "b_GFIAf-Is0O",
        "outputId": "f992347f-17aa-4249-805f-e88b7bc627de"
      },
      "outputs": [
        {
          "name": "stdout",
          "output_type": "stream",
          "text": [
            "1/1 [==============================] - 0s 21ms/step\n",
            "불안\n"
          ]
        }
      ],
      "source": [
        "sentiment_predict('우리 아들이 사춘기라서 어떡하지...')"
      ]
    },
    {
      "cell_type": "code",
      "execution_count": 173,
      "metadata": {
        "colab": {
          "base_uri": "https://localhost:8080/"
        },
        "id": "4UxmtRvEIuL6",
        "outputId": "d31de617-641b-424e-d313-1d770ebd8d12"
      },
      "outputs": [
        {
          "name": "stdout",
          "output_type": "stream",
          "text": [
            "1/1 [==============================] - 0s 23ms/step\n",
            "불안\n"
          ]
        }
      ],
      "source": [
        "sentiment_predict('우리 아들이 사춘기라서 어떡하지?')"
      ]
    },
    {
      "cell_type": "code",
      "execution_count": 174,
      "metadata": {
        "colab": {
          "base_uri": "https://localhost:8080/"
        },
        "id": "K4HzjlfwIwC7",
        "outputId": "f66d8c80-dedf-4149-8d38-bd729db7b6d3"
      },
      "outputs": [
        {
          "name": "stdout",
          "output_type": "stream",
          "text": [
            "1/1 [==============================] - 0s 18ms/step\n",
            "불안\n"
          ]
        }
      ],
      "source": [
        "sentiment_predict('걱정')"
      ]
    },
    {
      "cell_type": "code",
      "execution_count": 175,
      "metadata": {
        "colab": {
          "base_uri": "https://localhost:8080/"
        },
        "id": "lQ34PWGwI0Yc",
        "outputId": "bfdb6776-e1a9-4300-c560-219ac2f87893"
      },
      "outputs": [
        {
          "name": "stdout",
          "output_type": "stream",
          "text": [
            "1/1 [==============================] - 0s 19ms/step\n",
            "불안\n"
          ]
        }
      ],
      "source": [
        "sentiment_predict('당황')"
      ]
    },
    {
      "cell_type": "markdown",
      "metadata": {
        "id": "T3OBFs_D4FH9"
      },
      "source": [
        "# 6. 검증 데이터 불러오기"
      ]
    },
    {
      "cell_type": "code",
      "execution_count": 247,
      "metadata": {
        "id": "nqqGFrcoOJWk"
      },
      "outputs": [],
      "source": [
        "test_val_df = pd.read_csv('./가공데이터/keyword_emotion_sentence_only_validation.csv', usecols=[1, 2, 3])"
      ]
    },
    {
      "cell_type": "code",
      "execution_count": 248,
      "metadata": {
        "colab": {
          "base_uri": "https://localhost:8080/",
          "height": 659
        },
        "id": "zx8furd5tCxv",
        "outputId": "69779da6-9080-4593-ad75-91d235709180"
      },
      "outputs": [
        {
          "data": {
            "text/html": [
              "<div>\n",
              "<style scoped>\n",
              "    .dataframe tbody tr th:only-of-type {\n",
              "        vertical-align: middle;\n",
              "    }\n",
              "\n",
              "    .dataframe tbody tr th {\n",
              "        vertical-align: top;\n",
              "    }\n",
              "\n",
              "    .dataframe thead th {\n",
              "        text-align: right;\n",
              "    }\n",
              "</style>\n",
              "<table border=\"1\" class=\"dataframe\">\n",
              "  <thead>\n",
              "    <tr style=\"text-align: right;\">\n",
              "      <th></th>\n",
              "      <th>상황키워드</th>\n",
              "      <th>감정_대분류</th>\n",
              "      <th>사람문장</th>\n",
              "    </tr>\n",
              "  </thead>\n",
              "  <tbody>\n",
              "    <tr>\n",
              "      <th>0</th>\n",
              "      <td>진로,취업,직장</td>\n",
              "      <td>불안</td>\n",
              "      <td>이번 프로젝트에서 발표를 하는데 내가 실수하는 바람에 우리 팀이 감점을 받았어. 너...</td>\n",
              "    </tr>\n",
              "    <tr>\n",
              "      <th>1</th>\n",
              "      <td>진로,취업,직장</td>\n",
              "      <td>불안</td>\n",
              "      <td>회사에서 중요한 프로젝트를 혼자 하게 됐는데 솔직히 두렵고 무서워. 나에게 너무 크...</td>\n",
              "    </tr>\n",
              "    <tr>\n",
              "      <th>2</th>\n",
              "      <td>진로,취업,직장</td>\n",
              "      <td>불안</td>\n",
              "      <td>상사가 너무 무섭게 생겨서 친해지는 게 너무 두려워. 무섭게 생겼는데도 업무를 보려...</td>\n",
              "    </tr>\n",
              "    <tr>\n",
              "      <th>3</th>\n",
              "      <td>진로,취업,직장</td>\n",
              "      <td>불안</td>\n",
              "      <td>이번에 힘들게 들어간 첫 직장이거든. 첫 직장이라서 그런지 너무 긴장된다. 첫 직장...</td>\n",
              "    </tr>\n",
              "    <tr>\n",
              "      <th>4</th>\n",
              "      <td>진로,취업,직장</td>\n",
              "      <td>불안</td>\n",
              "      <td>직장에서 동료들이랑 관계가 안 좋아질까 봐 걱정돼. 내가 낯가림이 심해서 친해질 수...</td>\n",
              "    </tr>\n",
              "    <tr>\n",
              "      <th>...</th>\n",
              "      <td>...</td>\n",
              "      <td>...</td>\n",
              "      <td>...</td>\n",
              "    </tr>\n",
              "    <tr>\n",
              "      <th>5588</th>\n",
              "      <td>연애,결혼,출산</td>\n",
              "      <td>기쁨</td>\n",
              "      <td>남자친구랑 헤어질 뻔했는데 다시 화해했어. 정말 다행이야. 내가 과음하고 실수를 해...</td>\n",
              "    </tr>\n",
              "    <tr>\n",
              "      <th>5589</th>\n",
              "      <td>연애,결혼,출산</td>\n",
              "      <td>상처</td>\n",
              "      <td>나 너무 억울하고 속상한 일이 있어. 피곤해서 남자친구 연락에 대답하지 못하고 잠들...</td>\n",
              "    </tr>\n",
              "    <tr>\n",
              "      <th>5590</th>\n",
              "      <td>연애,결혼,출산</td>\n",
              "      <td>상처</td>\n",
              "      <td>친구 결혼식에 갔었는데 내가 안 온 줄 알고 친구가 토라져서 억울해! 바쁜 사정이 ...</td>\n",
              "    </tr>\n",
              "    <tr>\n",
              "      <th>5591</th>\n",
              "      <td>연애,결혼,출산</td>\n",
              "      <td>상처</td>\n",
              "      <td>나는 결혼을 안 하는 건데 주변에서는 결혼을 못 하는 거로 생각해. 강하게 나서서 ...</td>\n",
              "    </tr>\n",
              "    <tr>\n",
              "      <th>5592</th>\n",
              "      <td>연애,결혼,출산</td>\n",
              "      <td>상처</td>\n",
              "      <td>남자친구가 나를 오해해서 싸웠어. 억울해. 한 번 더 진지하게 이야기해보자고 해야겠...</td>\n",
              "    </tr>\n",
              "  </tbody>\n",
              "</table>\n",
              "<p>5593 rows × 3 columns</p>\n",
              "</div>"
            ],
            "text/plain": [
              "         상황키워드 감정_대분류                                               사람문장\n",
              "0     진로,취업,직장     불안  이번 프로젝트에서 발표를 하는데 내가 실수하는 바람에 우리 팀이 감점을 받았어. 너...\n",
              "1     진로,취업,직장     불안  회사에서 중요한 프로젝트를 혼자 하게 됐는데 솔직히 두렵고 무서워. 나에게 너무 크...\n",
              "2     진로,취업,직장     불안  상사가 너무 무섭게 생겨서 친해지는 게 너무 두려워. 무섭게 생겼는데도 업무를 보려...\n",
              "3     진로,취업,직장     불안  이번에 힘들게 들어간 첫 직장이거든. 첫 직장이라서 그런지 너무 긴장된다. 첫 직장...\n",
              "4     진로,취업,직장     불안  직장에서 동료들이랑 관계가 안 좋아질까 봐 걱정돼. 내가 낯가림이 심해서 친해질 수...\n",
              "...        ...    ...                                                ...\n",
              "5588  연애,결혼,출산     기쁨  남자친구랑 헤어질 뻔했는데 다시 화해했어. 정말 다행이야. 내가 과음하고 실수를 해...\n",
              "5589  연애,결혼,출산     상처  나 너무 억울하고 속상한 일이 있어. 피곤해서 남자친구 연락에 대답하지 못하고 잠들...\n",
              "5590  연애,결혼,출산     상처  친구 결혼식에 갔었는데 내가 안 온 줄 알고 친구가 토라져서 억울해! 바쁜 사정이 ...\n",
              "5591  연애,결혼,출산     상처  나는 결혼을 안 하는 건데 주변에서는 결혼을 못 하는 거로 생각해. 강하게 나서서 ...\n",
              "5592  연애,결혼,출산     상처  남자친구가 나를 오해해서 싸웠어. 억울해. 한 번 더 진지하게 이야기해보자고 해야겠...\n",
              "\n",
              "[5593 rows x 3 columns]"
            ]
          },
          "execution_count": 248,
          "metadata": {},
          "output_type": "execute_result"
        }
      ],
      "source": [
        "test_val_df"
      ]
    },
    {
      "cell_type": "markdown",
      "metadata": {
        "id": "BuUCa0Au4JHH"
      },
      "source": [
        "# 7. 검증 데이터 토큰화 및 Pad_Sequences"
      ]
    },
    {
      "cell_type": "code",
      "execution_count": 249,
      "metadata": {
        "colab": {
          "base_uri": "https://localhost:8080/"
        },
        "id": "8_2XMkzZ4DG4",
        "outputId": "6a10404d-aa7e-4dcf-8877-e7e8ffe68cc5"
      },
      "outputs": [
        {
          "name": "stderr",
          "output_type": "stream",
          "text": [
            "100%|██████████| 5593/5593 [00:14<00:00, 378.34it/s]\n"
          ]
        }
      ],
      "source": [
        "test_list = []\n",
        "for sentence in tqdm(test_val_df['사람문장']):\n",
        "    tokenized_sentence = okt.morphs(sentence, stem=True) # 토큰화\n",
        "    stopwords_removed_sentence = [word for word in tokenized_sentence if not word in stopwords] # 불용어 제거\n",
        "    test_list.append(stopwords_removed_sentence)"
      ]
    },
    {
      "cell_type": "code",
      "execution_count": 250,
      "metadata": {
        "id": "ugRG-bq94Egd"
      },
      "outputs": [],
      "source": [
        "X_test = tokenizer.texts_to_sequences(test_list)\n",
        "X_test = pad_sequences(X_test, maxlen=max_len)"
      ]
    },
    {
      "cell_type": "code",
      "execution_count": 251,
      "metadata": {
        "colab": {
          "base_uri": "https://localhost:8080/"
        },
        "id": "AgwW3Acv4dWQ",
        "outputId": "060a2b14-42fa-4083-9f3c-1629403b0d8b"
      },
      "outputs": [
        {
          "name": "stdout",
          "output_type": "stream",
          "text": [
            "175/175 [==============================] - 2s 9ms/step\n"
          ]
        }
      ],
      "source": [
        "y_pred = loaded_model.predict(X_test)"
      ]
    },
    {
      "cell_type": "code",
      "execution_count": 252,
      "metadata": {
        "colab": {
          "base_uri": "https://localhost:8080/"
        },
        "id": "uvWX_xFGvgd_",
        "outputId": "9efe31f5-2bdd-4b9a-a5e9-a73c4dae327a"
      },
      "outputs": [
        {
          "name": "stdout",
          "output_type": "stream",
          "text": [
            "175/175 [==============================] - 2s 9ms/step\n"
          ]
        }
      ],
      "source": [
        "tmp = np.argmax(loaded_model.predict(X_test), axis=-1)"
      ]
    },
    {
      "cell_type": "code",
      "execution_count": 253,
      "metadata": {
        "colab": {
          "base_uri": "https://localhost:8080/"
        },
        "id": "XCGzEAeKvuWh",
        "outputId": "c49115ad-2f36-4cc7-9346-f81aec4e9e44"
      },
      "outputs": [
        {
          "name": "stdout",
          "output_type": "stream",
          "text": [
            "<class 'pandas.core.frame.DataFrame'>\n",
            "RangeIndex: 5593 entries, 0 to 5592\n",
            "Data columns (total 3 columns):\n",
            " #   Column  Non-Null Count  Dtype \n",
            "---  ------  --------------  ----- \n",
            " 0   상황키워드   5593 non-null   object\n",
            " 1   감정_대분류  5593 non-null   object\n",
            " 2   사람문장    5593 non-null   object\n",
            "dtypes: object(3)\n",
            "memory usage: 131.2+ KB\n"
          ]
        }
      ],
      "source": [
        "test_val_df.info()"
      ]
    },
    {
      "cell_type": "code",
      "execution_count": 254,
      "metadata": {
        "id": "rvVGvP7M4lkr"
      },
      "outputs": [],
      "source": [
        "test_val_df['추정_감정_대분류'] = pd.DataFrame(tmp)"
      ]
    },
    {
      "cell_type": "code",
      "execution_count": 255,
      "metadata": {
        "id": "hXsf5dKy4mnJ"
      },
      "outputs": [],
      "source": [
        "def num_to_emo(number):\n",
        "    if number == 0:\n",
        "       return '불안'\n",
        "    elif number == 1:\n",
        "        return '분노'\n",
        "    elif number == 2:\n",
        "        return '상처'\n",
        "    elif number == 3:\n",
        "        return '슬픔'\n",
        "    elif number == 4:\n",
        "        return '기쁨'"
      ]
    },
    {
      "cell_type": "code",
      "execution_count": 256,
      "metadata": {
        "id": "VrVXblUTwkE1"
      },
      "outputs": [],
      "source": [
        "test_val_df['추정_감정_대분류'] = test_val_df['추정_감정_대분류'].apply(num_to_emo)"
      ]
    },
    {
      "cell_type": "code",
      "execution_count": 258,
      "metadata": {},
      "outputs": [
        {
          "data": {
            "text/plain": [
              "1    1401\n",
              "4    1195\n",
              "0    1183\n",
              "2     921\n",
              "3     893\n",
              "dtype: int64"
            ]
          },
          "execution_count": 258,
          "metadata": {},
          "output_type": "execute_result"
        }
      ],
      "source": [
        "pd.Series(tmp).value_counts()"
      ]
    },
    {
      "cell_type": "code",
      "execution_count": 259,
      "metadata": {},
      "outputs": [],
      "source": [
        "correct_df = test_val_df[test_val_df['감정_대분류'] == test_val_df['추정_감정_대분류']]"
      ]
    },
    {
      "cell_type": "code",
      "execution_count": 260,
      "metadata": {},
      "outputs": [
        {
          "data": {
            "text/plain": [
              "0.7514750581083497"
            ]
          },
          "execution_count": 260,
          "metadata": {},
          "output_type": "execute_result"
        }
      ],
      "source": [
        "len(correct_df) / len(test_val_df)"
      ]
    },
    {
      "cell_type": "code",
      "execution_count": 191,
      "metadata": {
        "id": "6S5QUaxI8XwM"
      },
      "outputs": [],
      "source": [
        "test_val_df.to_csv('val_emo_stopwords_not_change.csv', index=False)"
      ]
    }
  ],
  "metadata": {
    "accelerator": "GPU",
    "colab": {
      "provenance": []
    },
    "gpuClass": "standard",
    "kernelspec": {
      "display_name": "tensorflow",
      "language": "python",
      "name": "python3"
    },
    "language_info": {
      "codemirror_mode": {
        "name": "ipython",
        "version": 3
      },
      "file_extension": ".py",
      "mimetype": "text/x-python",
      "name": "python",
      "nbconvert_exporter": "python",
      "pygments_lexer": "ipython3",
      "version": "3.8.16"
    },
    "orig_nbformat": 4,
    "vscode": {
      "interpreter": {
        "hash": "04fd9c361be45f4292b225cf55355a67dfa13b4c14ac86b9ffe9743e2c71714e"
      }
    }
  },
  "nbformat": 4,
  "nbformat_minor": 0
}
