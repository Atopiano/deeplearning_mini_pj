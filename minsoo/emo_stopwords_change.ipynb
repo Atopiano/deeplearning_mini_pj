{
  "cells": [
    {
      "cell_type": "code",
      "execution_count": 42,
      "metadata": {
        "id": "r_O61lXRz3Fx"
      },
      "outputs": [],
      "source": [
        "# 라이브러리 임포트\n",
        "import pandas as pd\n",
        "import numpy as np"
      ]
    },
    {
      "cell_type": "code",
      "execution_count": 43,
      "metadata": {
        "colab": {
          "base_uri": "https://localhost:8080/"
        },
        "id": "XUIGKn_E0qhi",
        "outputId": "70089065-a7cd-4b68-b72e-5dbe31ce81ca"
      },
      "outputs": [],
      "source": [
        "#!pip install konlpy"
      ]
    },
    {
      "cell_type": "markdown",
      "metadata": {
        "id": "4_BgeAYmz3F1"
      },
      "source": [
        "# 1. 데이터 불러오기"
      ]
    },
    {
      "cell_type": "code",
      "execution_count": 44,
      "metadata": {
        "id": "1MVP_WMvz3F2"
      },
      "outputs": [],
      "source": [
        "df = pd.read_csv('./가공데이터/keyword_emotion_sentence_only_train.csv', index_col=0)\n",
        "# df = pd.read_csv('/content/keyword_emotion_sentence_only_train.csv', index_col=0)"
      ]
    },
    {
      "cell_type": "code",
      "execution_count": 45,
      "metadata": {
        "colab": {
          "base_uri": "https://localhost:8080/",
          "height": 659
        },
        "id": "eXXtJQ1mz3F3",
        "outputId": "2028316b-e535-4ba0-b0e2-d32b15fe25ba"
      },
      "outputs": [
        {
          "data": {
            "text/html": [
              "<div>\n",
              "<style scoped>\n",
              "    .dataframe tbody tr th:only-of-type {\n",
              "        vertical-align: middle;\n",
              "    }\n",
              "\n",
              "    .dataframe tbody tr th {\n",
              "        vertical-align: top;\n",
              "    }\n",
              "\n",
              "    .dataframe thead th {\n",
              "        text-align: right;\n",
              "    }\n",
              "</style>\n",
              "<table border=\"1\" class=\"dataframe\">\n",
              "  <thead>\n",
              "    <tr style=\"text-align: right;\">\n",
              "      <th></th>\n",
              "      <th>상황키워드</th>\n",
              "      <th>감정_대분류</th>\n",
              "      <th>사람문장</th>\n",
              "    </tr>\n",
              "  </thead>\n",
              "  <tbody>\n",
              "    <tr>\n",
              "      <th>0</th>\n",
              "      <td>진로,취업,직장</td>\n",
              "      <td>분노</td>\n",
              "      <td>일은 왜 해도 해도 끝이 없을까? 화가 난다. 그냥 내가 해결하는 게 나아. 남들한...</td>\n",
              "    </tr>\n",
              "    <tr>\n",
              "      <th>1</th>\n",
              "      <td>진로,취업,직장</td>\n",
              "      <td>분노</td>\n",
              "      <td>이번 달에 또 급여가 깎였어! 물가는 오르는데 월급만 자꾸 깎이니까 너무 화가 나....</td>\n",
              "    </tr>\n",
              "    <tr>\n",
              "      <th>2</th>\n",
              "      <td>진로,취업,직장</td>\n",
              "      <td>분노</td>\n",
              "      <td>회사에 신입이 들어왔는데 말투가 거슬려. 그런 애를 매일 봐야 한다고 생각하니까 스...</td>\n",
              "    </tr>\n",
              "    <tr>\n",
              "      <th>3</th>\n",
              "      <td>진로,취업,직장</td>\n",
              "      <td>분노</td>\n",
              "      <td>직장에서 막내라는 이유로 나에게만 온갖 심부름을 시켜. 일도 많은 데 정말 분하고 ...</td>\n",
              "    </tr>\n",
              "    <tr>\n",
              "      <th>4</th>\n",
              "      <td>진로,취업,직장</td>\n",
              "      <td>분노</td>\n",
              "      <td>얼마 전 입사한 신입사원이 나를 무시하는 것 같아서 너무 화가 나. 상사인 나에게 ...</td>\n",
              "    </tr>\n",
              "    <tr>\n",
              "      <th>...</th>\n",
              "      <td>...</td>\n",
              "      <td>...</td>\n",
              "      <td>...</td>\n",
              "    </tr>\n",
              "    <tr>\n",
              "      <th>51625</th>\n",
              "      <td>재정</td>\n",
              "      <td>분노</td>\n",
              "      <td>나이가 먹고 이제 돈도 못 벌어 오니까 어떻게 살아가야 할지 막막해. 능력도 없고....</td>\n",
              "    </tr>\n",
              "    <tr>\n",
              "      <th>51626</th>\n",
              "      <td>재정</td>\n",
              "      <td>불안</td>\n",
              "      <td>몸이 많이 약해졌나 봐. 이제 전과 같이 일하지 못할 것 같아 너무 짜증 나. 마음...</td>\n",
              "    </tr>\n",
              "    <tr>\n",
              "      <th>51627</th>\n",
              "      <td>재정</td>\n",
              "      <td>상처</td>\n",
              "      <td>이제 어떻게 해야 할지 모르겠어. 남편도 그렇고 노후 준비도 안 되어서 미래가 걱정...</td>\n",
              "    </tr>\n",
              "    <tr>\n",
              "      <th>51628</th>\n",
              "      <td>대인관계</td>\n",
              "      <td>불안</td>\n",
              "      <td>몇십 년을 함께 살았던 남편과 이혼했어. 그동안의 세월에 배신감을 느끼고 너무 화가...</td>\n",
              "    </tr>\n",
              "    <tr>\n",
              "      <th>51629</th>\n",
              "      <td>대인관계</td>\n",
              "      <td>상처</td>\n",
              "      <td>남편과 결혼한 지 사십 년이야. 이제 사람 만나는 것도 버겁고 알던 사람도 점점 사...</td>\n",
              "    </tr>\n",
              "  </tbody>\n",
              "</table>\n",
              "<p>42874 rows × 3 columns</p>\n",
              "</div>"
            ],
            "text/plain": [
              "          상황키워드 감정_대분류                                               사람문장\n",
              "0      진로,취업,직장     분노  일은 왜 해도 해도 끝이 없을까? 화가 난다. 그냥 내가 해결하는 게 나아. 남들한...\n",
              "1      진로,취업,직장     분노  이번 달에 또 급여가 깎였어! 물가는 오르는데 월급만 자꾸 깎이니까 너무 화가 나....\n",
              "2      진로,취업,직장     분노  회사에 신입이 들어왔는데 말투가 거슬려. 그런 애를 매일 봐야 한다고 생각하니까 스...\n",
              "3      진로,취업,직장     분노  직장에서 막내라는 이유로 나에게만 온갖 심부름을 시켜. 일도 많은 데 정말 분하고 ...\n",
              "4      진로,취업,직장     분노  얼마 전 입사한 신입사원이 나를 무시하는 것 같아서 너무 화가 나. 상사인 나에게 ...\n",
              "...         ...    ...                                                ...\n",
              "51625        재정     분노  나이가 먹고 이제 돈도 못 벌어 오니까 어떻게 살아가야 할지 막막해. 능력도 없고....\n",
              "51626        재정     불안  몸이 많이 약해졌나 봐. 이제 전과 같이 일하지 못할 것 같아 너무 짜증 나. 마음...\n",
              "51627        재정     상처  이제 어떻게 해야 할지 모르겠어. 남편도 그렇고 노후 준비도 안 되어서 미래가 걱정...\n",
              "51628      대인관계     불안  몇십 년을 함께 살았던 남편과 이혼했어. 그동안의 세월에 배신감을 느끼고 너무 화가...\n",
              "51629      대인관계     상처  남편과 결혼한 지 사십 년이야. 이제 사람 만나는 것도 버겁고 알던 사람도 점점 사...\n",
              "\n",
              "[42874 rows x 3 columns]"
            ]
          },
          "execution_count": 45,
          "metadata": {},
          "output_type": "execute_result"
        }
      ],
      "source": [
        "df"
      ]
    },
    {
      "cell_type": "code",
      "execution_count": 46,
      "metadata": {
        "colab": {
          "base_uri": "https://localhost:8080/"
        },
        "id": "x_-kTYVyz3F4",
        "outputId": "11501bd5-0c6b-4bad-e707-a610bf243643"
      },
      "outputs": [
        {
          "name": "stdout",
          "output_type": "stream",
          "text": [
            "<class 'pandas.core.frame.DataFrame'>\n",
            "Int64Index: 42874 entries, 0 to 51629\n",
            "Data columns (total 3 columns):\n",
            " #   Column  Non-Null Count  Dtype \n",
            "---  ------  --------------  ----- \n",
            " 0   상황키워드   42874 non-null  object\n",
            " 1   감정_대분류  42874 non-null  object\n",
            " 2   사람문장    42874 non-null  object\n",
            "dtypes: object(3)\n",
            "memory usage: 1.3+ MB\n"
          ]
        }
      ],
      "source": [
        "df.info()"
      ]
    },
    {
      "cell_type": "code",
      "execution_count": 47,
      "metadata": {
        "colab": {
          "base_uri": "https://localhost:8080/"
        },
        "id": "wuZBIbwKz3F4",
        "outputId": "380f17fb-3566-4149-8c34-87675832c2c2"
      },
      "outputs": [
        {
          "data": {
            "text/plain": [
              "불안    9320\n",
              "분노    9160\n",
              "상처    9143\n",
              "슬픔    9125\n",
              "기쁨    6126\n",
              "Name: 감정_대분류, dtype: int64"
            ]
          },
          "execution_count": 47,
          "metadata": {},
          "output_type": "execute_result"
        }
      ],
      "source": [
        "df['감정_대분류'].value_counts()"
      ]
    },
    {
      "cell_type": "code",
      "execution_count": 48,
      "metadata": {
        "colab": {
          "base_uri": "https://localhost:8080/"
        },
        "id": "B0f8GdVOz3F5",
        "outputId": "e6634091-fefc-4e90-fd4d-df4d407ef396"
      },
      "outputs": [
        {
          "name": "stderr",
          "output_type": "stream",
          "text": [
            "/var/folders/cy/sw8s66dd02l8b9dj7pqk2ljm0000gn/T/ipykernel_93527/2314435747.py:1: FutureWarning: The default value of regex will change from True to False in a future version.\n",
            "  df['사람문장'] = df['사람문장'].str.replace('[^ㄱ-ㅎㅏ-ㅣ가-힣 ]', \"\")\n"
          ]
        }
      ],
      "source": [
        "df['사람문장'] = df['사람문장'].str.replace('[^ㄱ-ㅎㅏ-ㅣ가-힣 ]', \"\")"
      ]
    },
    {
      "cell_type": "code",
      "execution_count": 49,
      "metadata": {
        "colab": {
          "base_uri": "https://localhost:8080/"
        },
        "id": "gPkhqpFHz3F5",
        "outputId": "8b89565b-34b0-4762-eb59-ebb12304dab6"
      },
      "outputs": [
        {
          "data": {
            "text/plain": [
              "0    일은 왜 해도 해도 끝이 없을까 화가 난다 그냥 내가 해결하는 게 나아 남들한테 부...\n",
              "1    이번 달에 또 급여가 깎였어 물가는 오르는데 월급만 자꾸 깎이니까 너무 화가 나 최...\n",
              "2    회사에 신입이 들어왔는데 말투가 거슬려 그런 애를 매일 봐야 한다고 생각하니까 스트...\n",
              "3    직장에서 막내라는 이유로 나에게만 온갖 심부름을 시켜 일도 많은 데 정말 분하고 섭...\n",
              "4    얼마 전 입사한 신입사원이 나를 무시하는 것 같아서 너무 화가 나 상사인 나에게 먼...\n",
              "5    직장에 다니고 있지만 시간만 버리는 거 같아 진지하게 진로에 대한 고민이 생겨 직장...\n",
              "6    성인인데도 진로를 아직도 못 정했다고 부모님이 노여워하셔 나도 섭섭해 부모님께 좀 ...\n",
              "7    퇴사한 지 얼마 안 됐지만 천천히 직장을 구해보려고 더 좋은 회사가 기다리고 있을지...\n",
              "8    졸업반이라서 취업을 생각해야 하는데 지금 너무 느긋해서 이래도 되나 싶어 응 느긋함...\n",
              "9    요즘 직장생활이 너무 편하고 좋은 것 같아 우리 회사는 복지가 정말 좋아 내가 곧 ...\n",
              "Name: 사람문장, dtype: object"
            ]
          },
          "execution_count": 49,
          "metadata": {},
          "output_type": "execute_result"
        }
      ],
      "source": [
        "df['사람문장'].head(10)"
      ]
    },
    {
      "cell_type": "markdown",
      "metadata": {
        "id": "wuRb911Sz3F6"
      },
      "source": [
        "# 2. 감정 분류"
      ]
    },
    {
      "cell_type": "code",
      "execution_count": 50,
      "metadata": {
        "id": "n9KxBEMaz3F6"
      },
      "outputs": [],
      "source": [
        "emo_df = df"
      ]
    },
    {
      "cell_type": "code",
      "execution_count": 51,
      "metadata": {
        "id": "DZiF_O8tz3F6"
      },
      "outputs": [],
      "source": [
        "emo_target_df = emo_df['감정_대분류']"
      ]
    },
    {
      "cell_type": "code",
      "execution_count": 52,
      "metadata": {
        "id": "nlfTXroMz3F6"
      },
      "outputs": [],
      "source": [
        "emo_sentence_df = emo_df['사람문장']"
      ]
    },
    {
      "cell_type": "code",
      "execution_count": 53,
      "metadata": {
        "colab": {
          "base_uri": "https://localhost:8080/"
        },
        "id": "UyvS0Ah1z3F7",
        "outputId": "5496b141-2e23-4c52-da6c-70a7d72acc74"
      },
      "outputs": [
        {
          "data": {
            "text/plain": [
              "불안    9320\n",
              "분노    9160\n",
              "상처    9143\n",
              "슬픔    9125\n",
              "기쁨    6126\n",
              "Name: 감정_대분류, dtype: int64"
            ]
          },
          "execution_count": 53,
          "metadata": {},
          "output_type": "execute_result"
        }
      ],
      "source": [
        "emo_target_df.value_counts()"
      ]
    },
    {
      "cell_type": "code",
      "execution_count": 54,
      "metadata": {
        "id": "jWpg1mEjz3F7"
      },
      "outputs": [],
      "source": [
        "emo_df.loc[(emo_df['감정_대분류']=='불안'), '감정_대분류'] = 0\n",
        "emo_df.loc[(emo_df['감정_대분류']=='분노'), '감정_대분류'] = 1\n",
        "emo_df.loc[(emo_df['감정_대분류']=='상처'), '감정_대분류'] = 2 \n",
        "emo_df.loc[(emo_df['감정_대분류']=='슬픔'), '감정_대분류'] = 3 \n",
        "emo_df.loc[(emo_df['감정_대분류']=='기쁨'), '감정_대분류'] = 4 "
      ]
    },
    {
      "cell_type": "code",
      "execution_count": 55,
      "metadata": {
        "colab": {
          "base_uri": "https://localhost:8080/"
        },
        "id": "rKHYcpgUz3F7",
        "outputId": "5162746e-ac22-40d3-8276-c71516857008"
      },
      "outputs": [
        {
          "data": {
            "text/plain": [
              "0    9320\n",
              "1    9160\n",
              "2    9143\n",
              "3    9125\n",
              "4    6126\n",
              "Name: 감정_대분류, dtype: int64"
            ]
          },
          "execution_count": 55,
          "metadata": {},
          "output_type": "execute_result"
        }
      ],
      "source": [
        "emo_df['감정_대분류'].value_counts()"
      ]
    },
    {
      "cell_type": "code",
      "execution_count": 56,
      "metadata": {
        "id": "O09ImjL2z3F7"
      },
      "outputs": [],
      "source": [
        "emo_target_df = emo_df['감정_대분류']"
      ]
    },
    {
      "cell_type": "code",
      "execution_count": 57,
      "metadata": {
        "colab": {
          "base_uri": "https://localhost:8080/"
        },
        "id": "1PIM-r52z3F7",
        "outputId": "4eccd4c1-75a5-4f44-bf66-8000fdb5db35"
      },
      "outputs": [
        {
          "data": {
            "text/plain": [
              "0    9320\n",
              "1    9160\n",
              "2    9143\n",
              "3    9125\n",
              "4    6126\n",
              "Name: 감정_대분류, dtype: int64"
            ]
          },
          "execution_count": 57,
          "metadata": {},
          "output_type": "execute_result"
        }
      ],
      "source": [
        "emo_target_df.value_counts()"
      ]
    },
    {
      "cell_type": "markdown",
      "metadata": {
        "id": "qTDhRhoCz3F8"
      },
      "source": [
        "# 3. 텍스트 토큰화 및 Pad_Sequences"
      ]
    },
    {
      "cell_type": "code",
      "execution_count": 58,
      "metadata": {
        "id": "pihUIahcz3F8"
      },
      "outputs": [],
      "source": [
        "from konlpy.tag import Okt\n",
        "from tqdm import tqdm"
      ]
    },
    {
      "cell_type": "code",
      "execution_count": 59,
      "metadata": {
        "id": "gDjFtEsuz3F8"
      },
      "outputs": [],
      "source": [
        "from sklearn.feature_extraction.text import CountVectorizer, TfidfVectorizer\n",
        "from sklearn.pipeline import Pipeline\n",
        "\n",
        "from sklearn.linear_model import LogisticRegression\n",
        "from sklearn.metrics import accuracy_score, roc_auc_score"
      ]
    },
    {
      "cell_type": "code",
      "execution_count": null,
      "metadata": {
        "id": "6smjGQRMz3F8"
      },
      "outputs": [],
      "source": [
        "# stopwords = ['의','가','이','은','들','는','좀','잘','걍','과','도','를','으로','자','에','와','한','하다','을','한테']\n",
        "s = open('./stopword.txt')\n",
        "stopwords = s.read().split()\n",
        "stopwords"
      ]
    },
    {
      "cell_type": "code",
      "execution_count": 61,
      "metadata": {
        "id": "StAoz9GIz3F8"
      },
      "outputs": [],
      "source": [
        "okt = Okt()"
      ]
    },
    {
      "cell_type": "code",
      "execution_count": 62,
      "metadata": {
        "colab": {
          "base_uri": "https://localhost:8080/"
        },
        "id": "7l-raNe4z3F8",
        "outputId": "b1b42053-67f6-4744-ea62-015863b60b4d"
      },
      "outputs": [
        {
          "name": "stderr",
          "output_type": "stream",
          "text": [
            "100%|██████████| 42874/42874 [01:57<00:00, 365.36it/s]\n"
          ]
        }
      ],
      "source": [
        "tokenized_X_train = []\n",
        "\n",
        "for sentence in tqdm(emo_df['사람문장']):\n",
        "    tokenized_sentence = okt.morphs(sentence, stem=True) # 토큰화\n",
        "    stopwords_removed_sentence = [word for word in tokenized_sentence if not word in stopwords] # 불용어 제거\n",
        "    tokenized_X_train.append(stopwords_removed_sentence)"
      ]
    },
    {
      "cell_type": "code",
      "execution_count": 63,
      "metadata": {
        "id": "QnIDZvETz3F8"
      },
      "outputs": [],
      "source": [
        "from tensorflow.keras.preprocessing.text import Tokenizer\n",
        "from tensorflow.keras.preprocessing.sequence import pad_sequences"
      ]
    },
    {
      "cell_type": "code",
      "execution_count": 64,
      "metadata": {
        "id": "4G_snjk1z3F9"
      },
      "outputs": [],
      "source": [
        "tokenizer = Tokenizer()\n",
        "tokenizer.fit_on_texts(tokenized_X_train)"
      ]
    },
    {
      "cell_type": "code",
      "execution_count": null,
      "metadata": {
        "id": "T_O374Yiz3F9"
      },
      "outputs": [],
      "source": [
        "print(tokenizer.word_index)"
      ]
    },
    {
      "cell_type": "code",
      "execution_count": 66,
      "metadata": {
        "colab": {
          "base_uri": "https://localhost:8080/"
        },
        "id": "MWJ0M72N2ewg",
        "outputId": "32e71c2d-f5a7-484a-ed7f-c8d3f0c4fa70"
      },
      "outputs": [
        {
          "name": "stdout",
          "output_type": "stream",
          "text": [
            "단어 집합(vocabulary)의 크기 : 13936\n",
            "등장 빈도가 2번 이하인 희귀 단어의 수: 5651\n",
            "단어 집합에서 희귀 단어의 비율: 40.54965556831229\n",
            "전체 등장 빈도에서 희귀 단어 등장 빈도 비율: 0.7271769252558787\n"
          ]
        }
      ],
      "source": [
        "threshold = 3\n",
        "total_cnt = len(tokenizer.word_index) # 단어의 수\n",
        "rare_cnt = 0 # 등장 빈도수가 threshold보다 작은 단어의 개수를 카운트\n",
        "total_freq = 0 # 훈련 데이터의 전체 단어 빈도수 총 합\n",
        "rare_freq = 0 # 등장 빈도수가 threshold보다 작은 단어의 등장 빈도수의 총 합\n",
        "\n",
        "# 단어와 빈도수의 쌍(pair)을 key와 value로 받는다.\n",
        "for key, value in tokenizer.word_counts.items():\n",
        "    total_freq = total_freq + value\n",
        "\n",
        "    # 단어의 등장 빈도수가 threshold보다 작으면\n",
        "    if(value < threshold):\n",
        "        rare_cnt = rare_cnt + 1\n",
        "        rare_freq = rare_freq + value\n",
        "\n",
        "print('단어 집합(vocabulary)의 크기 :',total_cnt)\n",
        "print('등장 빈도가 %s번 이하인 희귀 단어의 수: %s'%(threshold - 1, rare_cnt))\n",
        "print(\"단어 집합에서 희귀 단어의 비율:\", (rare_cnt / total_cnt)*100)\n",
        "print(\"전체 등장 빈도에서 희귀 단어 등장 빈도 비율:\", (rare_freq / total_freq)*100)"
      ]
    },
    {
      "cell_type": "code",
      "execution_count": 67,
      "metadata": {
        "colab": {
          "base_uri": "https://localhost:8080/"
        },
        "id": "JUupC_YG2huW",
        "outputId": "d52bbfe2-f4b3-4d2a-c0c0-dc3d8384696c"
      },
      "outputs": [
        {
          "name": "stdout",
          "output_type": "stream",
          "text": [
            "단어 집합의 크기 : 8286\n"
          ]
        }
      ],
      "source": [
        "vocab_size = total_cnt - rare_cnt + 1\n",
        "print('단어 집합의 크기 :',vocab_size)"
      ]
    },
    {
      "cell_type": "code",
      "execution_count": 68,
      "metadata": {
        "id": "X-4eg0SL2jUJ"
      },
      "outputs": [],
      "source": [
        "tokenizer = Tokenizer(vocab_size) \n",
        "tokenizer.fit_on_texts(tokenized_X_train)\n",
        "X_train = tokenizer.texts_to_sequences(tokenized_X_train)"
      ]
    },
    {
      "cell_type": "code",
      "execution_count": 69,
      "metadata": {
        "id": "OKCLrwLJ2jRR"
      },
      "outputs": [],
      "source": [
        "import numpy as np\n",
        "\n",
        "y_train = np.array(emo_target_df)"
      ]
    },
    {
      "cell_type": "code",
      "execution_count": 70,
      "metadata": {
        "colab": {
          "base_uri": "https://localhost:8080/"
        },
        "id": "7JpZ8_Vq2jOa",
        "outputId": "8a2492cf-3879-4aba-b0b4-50490e065123"
      },
      "outputs": [
        {
          "data": {
            "text/plain": [
              "array([1, 1, 1, ..., 2, 0, 2], dtype=object)"
            ]
          },
          "execution_count": 70,
          "metadata": {},
          "output_type": "execute_result"
        }
      ],
      "source": [
        "y_train"
      ]
    },
    {
      "cell_type": "code",
      "execution_count": 71,
      "metadata": {
        "colab": {
          "base_uri": "https://localhost:8080/",
          "height": 315
        },
        "id": "p1vwtctM2jLj",
        "outputId": "ffb2b1e3-fbda-46fc-b9d9-f22285cffe16"
      },
      "outputs": [
        {
          "name": "stdout",
          "output_type": "stream",
          "text": [
            "최대 길이 : 78\n",
            "평균 길이 : 23.378177916686102\n"
          ]
        },
        {
          "data": {
            "image/png": "[encoded data removed]",
            "text/plain": [
              "<Figure size 640x480 with 1 Axes>"
            ]
          },
          "metadata": {},
          "output_type": "display_data"
        }
      ],
      "source": [
        "import matplotlib.pyplot as plt\n",
        "\n",
        "print('최대 길이 :',max(len(review) for review in X_train))\n",
        "print('평균 길이 :',sum(map(len, X_train))/len(X_train))\n",
        "plt.hist([len(review) for review in X_train], bins=50)\n",
        "plt.xlabel('length of samples')\n",
        "plt.ylabel('number of samples')\n",
        "plt.show()"
      ]
    },
    {
      "cell_type": "code",
      "execution_count": 72,
      "metadata": {
        "id": "MqqcMdkD2jIs"
      },
      "outputs": [],
      "source": [
        "def below_threshold_len(max_len, nested_list):\n",
        "  count = 0\n",
        "  for sentence in nested_list:\n",
        "    if(len(sentence) <= max_len):\n",
        "        count = count + 1\n",
        "  print('전체 샘플 중 길이가 %s 이하인 샘플의 비율: %s'%(max_len, (count / len(nested_list))*100))"
      ]
    },
    {
      "cell_type": "code",
      "execution_count": 73,
      "metadata": {
        "colab": {
          "base_uri": "https://localhost:8080/"
        },
        "id": "IUvfagxQ2jF0",
        "outputId": "cc45d14d-c539-40c7-9dbf-6fe235ee3f1f"
      },
      "outputs": [
        {
          "name": "stdout",
          "output_type": "stream",
          "text": [
            "전체 샘플 중 길이가 50 이하인 샘플의 비율: 99.72477492186407\n"
          ]
        }
      ],
      "source": [
        "max_len = 50\n",
        "below_threshold_len(max_len, X_train)"
      ]
    },
    {
      "cell_type": "code",
      "execution_count": 74,
      "metadata": {
        "id": "R2tdrkWr2jC9"
      },
      "outputs": [],
      "source": [
        "X_train = pad_sequences(X_train, maxlen=max_len)\n"
      ]
    },
    {
      "cell_type": "code",
      "execution_count": 75,
      "metadata": {
        "colab": {
          "base_uri": "https://localhost:8080/"
        },
        "id": "k7uygGWM2jAG",
        "outputId": "b68cf019-f028-46c7-f5df-de053f01b0a5"
      },
      "outputs": [
        {
          "data": {
            "text/plain": [
              "42874"
            ]
          },
          "execution_count": 75,
          "metadata": {},
          "output_type": "execute_result"
        }
      ],
      "source": [
        "len(y_train)"
      ]
    },
    {
      "cell_type": "code",
      "execution_count": 76,
      "metadata": {
        "colab": {
          "base_uri": "https://localhost:8080/"
        },
        "id": "j-uBWcqS2i8t",
        "outputId": "6695e80c-52b7-435e-878d-188bad1d1ce3"
      },
      "outputs": [
        {
          "data": {
            "text/plain": [
              "42874"
            ]
          },
          "execution_count": 76,
          "metadata": {},
          "output_type": "execute_result"
        }
      ],
      "source": [
        "len(X_train)"
      ]
    },
    {
      "attachments": {},
      "cell_type": "markdown",
      "metadata": {},
      "source": [
        "# 4. 모델 구축"
      ]
    },
    {
      "cell_type": "code",
      "execution_count": 77,
      "metadata": {
        "id": "KTGw-w4T2ug1"
      },
      "outputs": [],
      "source": [
        "from tensorflow.keras.layers import Embedding, Dense, LSTM\n",
        "from tensorflow.keras.models import Sequential\n",
        "from tensorflow.keras.models import load_model\n",
        "from tensorflow.keras.callbacks import EarlyStopping, ModelCheckpoint"
      ]
    },
    {
      "cell_type": "code",
      "execution_count": 78,
      "metadata": {
        "id": "SQ1YrNW12ueN"
      },
      "outputs": [],
      "source": [
        "y_train = y_train.astype(int)"
      ]
    },
    {
      "cell_type": "code",
      "execution_count": 79,
      "metadata": {
        "colab": {
          "base_uri": "https://localhost:8080/"
        },
        "id": "9G4hrOZh2ucH",
        "outputId": "263b44d0-9385-4493-ad04-66ffd5b5c28f"
      },
      "outputs": [
        {
          "data": {
            "text/plain": [
              "0    9320\n",
              "1    9160\n",
              "2    9143\n",
              "3    9125\n",
              "4    6126\n",
              "dtype: int64"
            ]
          },
          "execution_count": 79,
          "metadata": {},
          "output_type": "execute_result"
        }
      ],
      "source": [
        "pd.Series(y_train).value_counts()"
      ]
    },
    {
      "cell_type": "code",
      "execution_count": 80,
      "metadata": {
        "colab": {
          "base_uri": "https://localhost:8080/"
        },
        "id": "BUbUwaBJ2uZh",
        "outputId": "447ec3d6-cf5c-4881-8dad-042243f23d84"
      },
      "outputs": [
        {
          "data": {
            "text/plain": [
              "array([[0., 1., 0., 0., 0.],\n",
              "       [0., 1., 0., 0., 0.],\n",
              "       [0., 1., 0., 0., 0.],\n",
              "       ...,\n",
              "       [0., 0., 1., 0., 0.],\n",
              "       [1., 0., 0., 0., 0.],\n",
              "       [0., 0., 1., 0., 0.]])"
            ]
          },
          "execution_count": 80,
          "metadata": {},
          "output_type": "execute_result"
        }
      ],
      "source": [
        "num = np.unique(y_train, axis=0)\n",
        "num = num.shape[0]\n",
        "one_hot_y_train = np.eye(num)[y_train]\n",
        "one_hot_y_train"
      ]
    },
    {
      "cell_type": "code",
      "execution_count": 82,
      "metadata": {
        "colab": {
          "base_uri": "https://localhost:8080/"
        },
        "id": "iK3OBhj92uW9",
        "outputId": "8011f9cc-186b-4b91-9fdf-b8eaa6a3c42c"
      },
      "outputs": [
        {
          "name": "stdout",
          "output_type": "stream",
          "text": [
            "Epoch 1/50\n"
          ]
        },
        {
          "name": "stderr",
          "output_type": "stream",
          "text": [
            "2023-03-06 16:06:09.637898: I tensorflow/core/grappler/optimizers/custom_graph_optimizer_registry.cc:113] Plugin optimizer for device_type GPU is enabled.\n",
            "2023-03-06 16:06:09.865431: I tensorflow/core/grappler/optimizers/custom_graph_optimizer_registry.cc:113] Plugin optimizer for device_type GPU is enabled.\n",
            "2023-03-06 16:06:10.124018: I tensorflow/core/grappler/optimizers/custom_graph_optimizer_registry.cc:113] Plugin optimizer for device_type GPU is enabled.\n"
          ]
        },
        {
          "name": "stdout",
          "output_type": "stream",
          "text": [
            "536/536 [==============================] - ETA: 0s - loss: 1.0938 - acc: 0.5619"
          ]
        },
        {
          "name": "stderr",
          "output_type": "stream",
          "text": [
            "2023-03-06 16:06:30.435820: I tensorflow/core/grappler/optimizers/custom_graph_optimizer_registry.cc:113] Plugin optimizer for device_type GPU is enabled.\n",
            "2023-03-06 16:06:30.517178: I tensorflow/core/grappler/optimizers/custom_graph_optimizer_registry.cc:113] Plugin optimizer for device_type GPU is enabled.\n"
          ]
        },
        {
          "name": "stdout",
          "output_type": "stream",
          "text": [
            "\n",
            "Epoch 1: val_acc improved from -inf to 0.48350, saving model to emo_stopwords_change.h5\n",
            "536/536 [==============================] - 24s 42ms/step - loss: 1.0938 - acc: 0.5619 - val_loss: 1.3275 - val_acc: 0.4835\n",
            "Epoch 2/50\n",
            "536/536 [==============================] - ETA: 0s - loss: 0.7867 - acc: 0.7174\n",
            "Epoch 2: val_acc improved from 0.48350 to 0.48431, saving model to emo_stopwords_change.h5\n",
            "536/536 [==============================] - 20s 38ms/step - loss: 0.7867 - acc: 0.7174 - val_loss: 1.2576 - val_acc: 0.4843\n",
            "Epoch 3/50\n",
            "536/536 [==============================] - ETA: 0s - loss: 0.6906 - acc: 0.7585\n",
            "Epoch 3: val_acc improved from 0.48431 to 0.48711, saving model to emo_stopwords_change.h5\n",
            "536/536 [==============================] - 20s 38ms/step - loss: 0.6906 - acc: 0.7585 - val_loss: 1.3349 - val_acc: 0.4871\n",
            "Epoch 4/50\n",
            "535/536 [============================>.] - ETA: 0s - loss: 0.6124 - acc: 0.7845\n",
            "Epoch 4: val_acc did not improve from 0.48711\n",
            "536/536 [==============================] - 20s 37ms/step - loss: 0.6125 - acc: 0.7845 - val_loss: 1.4544 - val_acc: 0.4742\n",
            "Epoch 5/50\n",
            "536/536 [==============================] - ETA: 0s - loss: 0.5498 - acc: 0.8087\n",
            "Epoch 5: val_acc did not improve from 0.48711\n",
            "536/536 [==============================] - 20s 38ms/step - loss: 0.5498 - acc: 0.8087 - val_loss: 1.5369 - val_acc: 0.4750\n",
            "Epoch 6/50\n",
            "536/536 [==============================] - ETA: 0s - loss: 0.4845 - acc: 0.8329\n",
            "Epoch 6: val_acc did not improve from 0.48711\n",
            "536/536 [==============================] - 21s 39ms/step - loss: 0.4845 - acc: 0.8329 - val_loss: 1.6471 - val_acc: 0.4576\n",
            "Epoch 6: early stopping\n"
          ]
        }
      ],
      "source": [
        "embedding_dim = 100\n",
        "hidden_units = 128\n",
        "\n",
        "model = Sequential()\n",
        "model.add(Embedding(vocab_size, embedding_dim))\n",
        "model.add(LSTM(hidden_units))\n",
        "model.add(Dense(5, activation='softmax'))\n",
        "\n",
        "es = EarlyStopping(monitor='val_loss', mode='min', verbose=1, patience=4)\n",
        "mc = ModelCheckpoint('emo_stopwords_change.h5', monitor='val_acc', mode='max', verbose=1, save_best_only=True)\n",
        "\n",
        "model.compile(optimizer='adam', loss='categorical_crossentropy', metrics=['acc'])\n",
        "history = model.fit(X_train, one_hot_y_train, epochs=50, callbacks=[es, mc], batch_size=64, validation_split=0.2)"
      ]
    },
    {
      "cell_type": "code",
      "execution_count": 83,
      "metadata": {
        "id": "w32v0kWn2uUk"
      },
      "outputs": [],
      "source": [
        "loaded_model = load_model('emo_stopwords_change.h5')"
      ]
    },
    {
      "cell_type": "code",
      "execution_count": 84,
      "metadata": {
        "id": "bj_UrhOX2uRt"
      },
      "outputs": [],
      "source": [
        "import re\n",
        "\n",
        "def sentiment_predict(new_sentence):\n",
        "  new_sentence = re.sub(r'[^ㄱ-ㅎㅏ-ㅣ가-힣 ]','', new_sentence)\n",
        "  new_sentence = okt.morphs(new_sentence, stem=True) # 토큰화\n",
        "  new_sentence = [word for word in new_sentence if not word in stopwords] # 불용어 제거\n",
        "  encoded = tokenizer.texts_to_sequences([new_sentence]) # 정수 인코딩\n",
        "  pad_new = pad_sequences(encoded, maxlen = max_len) # 패딩\n",
        "  score = float(np.argmax(loaded_model.predict(pad_new), axis=-1)) # 예측\n",
        "  if score == 0:\n",
        "    print('불안')\n",
        "  elif score == 1:\n",
        "    print('분노')\n",
        "  elif score == 2:\n",
        "    print('상처')\n",
        "  elif score == 3:\n",
        "    print('슬픔')\n",
        "  elif score == 4:\n",
        "    print('기쁨')\n",
        "  # print(f'score = {score}')"
      ]
    },
    {
      "attachments": {},
      "cell_type": "markdown",
      "metadata": {},
      "source": [
        "# 5. 모델 예측 확인해보기"
      ]
    },
    {
      "cell_type": "code",
      "execution_count": 100,
      "metadata": {},
      "outputs": [
        {
          "name": "stdout",
          "output_type": "stream",
          "text": [
            "1/1 [==============================] - 1s 1s/step\n",
            "불안\n"
          ]
        }
      ],
      "source": [
        "sentiment_predict('우리 아들이 사춘기라서 어떡하지')"
      ]
    },
    {
      "cell_type": "code",
      "execution_count": 85,
      "metadata": {},
      "outputs": [
        {
          "name": "stderr",
          "output_type": "stream",
          "text": [
            "2023-03-06 16:09:05.773850: I tensorflow/core/grappler/optimizers/custom_graph_optimizer_registry.cc:113] Plugin optimizer for device_type GPU is enabled.\n",
            "2023-03-06 16:09:05.881301: I tensorflow/core/grappler/optimizers/custom_graph_optimizer_registry.cc:113] Plugin optimizer for device_type GPU is enabled.\n"
          ]
        },
        {
          "name": "stdout",
          "output_type": "stream",
          "text": [
            "1340/1340 [==============================] - 12s 9ms/step\n"
          ]
        }
      ],
      "source": [
        "y_pred = loaded_model.predict(X_train)"
      ]
    },
    {
      "cell_type": "code",
      "execution_count": 86,
      "metadata": {},
      "outputs": [
        {
          "name": "stdout",
          "output_type": "stream",
          "text": [
            "1340/1340 [==============================] - 11s 8ms/step\n"
          ]
        }
      ],
      "source": [
        "tmp = np.argmax(loaded_model.predict(X_train), axis=-1) # 예측"
      ]
    },
    {
      "cell_type": "code",
      "execution_count": 87,
      "metadata": {},
      "outputs": [],
      "source": [
        "df['추정_감정_대분류'] = pd.DataFrame(tmp)"
      ]
    },
    {
      "cell_type": "code",
      "execution_count": 88,
      "metadata": {},
      "outputs": [],
      "source": [
        "df.to_csv('outlier_check.csv', index=False)"
      ]
    },
    {
      "attachments": {},
      "cell_type": "markdown",
      "metadata": {},
      "source": [
        "---"
      ]
    },
    {
      "attachments": {},
      "cell_type": "markdown",
      "metadata": {},
      "source": [
        "# 6. 검증 데이터 불러오기"
      ]
    },
    {
      "cell_type": "code",
      "execution_count": 105,
      "metadata": {
        "id": "0rMQWF6o2uPQ"
      },
      "outputs": [],
      "source": [
        "test_val_df = pd.read_csv('./가공데이터/keyword_emotion_sentence_only_validation.csv', usecols=[1, 2, 3])\n",
        "# test_val_df = pd.read_csv('/content/keyword_emotion_sentence_only_validation.csv', index_col=0)"
      ]
    },
    {
      "attachments": {},
      "cell_type": "markdown",
      "metadata": {},
      "source": [
        "# 7. 검증 데이터 토큰화 및 Pad_Sequences"
      ]
    },
    {
      "cell_type": "code",
      "execution_count": 106,
      "metadata": {
        "colab": {
          "base_uri": "https://localhost:8080/"
        },
        "id": "p3cZ6kaW2uMx",
        "outputId": "a76096b8-b27e-4a60-b324-8aa7140df106"
      },
      "outputs": [
        {
          "name": "stderr",
          "output_type": "stream",
          "text": [
            "100%|██████████| 5593/5593 [00:16<00:00, 331.33it/s]\n"
          ]
        }
      ],
      "source": [
        "test_list = []\n",
        "for sentence in tqdm(test_val_df['사람문장']):\n",
        "    tokenized_sentence = okt.morphs(sentence, stem=True) # 토큰화\n",
        "    stopwords_removed_sentence = [word for word in tokenized_sentence if not word in stopwords] # 불용어 제거\n",
        "    test_list.append(stopwords_removed_sentence)"
      ]
    },
    {
      "cell_type": "code",
      "execution_count": 107,
      "metadata": {
        "id": "mMIyDGiu2uKK"
      },
      "outputs": [],
      "source": [
        "X_test = tokenizer.texts_to_sequences(test_list)\n",
        "X_test = pad_sequences(X_test, maxlen=max_len)"
      ]
    },
    {
      "cell_type": "code",
      "execution_count": 108,
      "metadata": {
        "colab": {
          "base_uri": "https://localhost:8080/"
        },
        "id": "ybzJlR_a2uHS",
        "outputId": "56dd37b1-ab5d-471a-873c-812f9b063f9d"
      },
      "outputs": [
        {
          "name": "stdout",
          "output_type": "stream",
          "text": [
            "175/175 [==============================] - 2s 10ms/step\n"
          ]
        }
      ],
      "source": [
        "y_pred = loaded_model.predict(X_test)"
      ]
    },
    {
      "cell_type": "code",
      "execution_count": 109,
      "metadata": {
        "colab": {
          "base_uri": "https://localhost:8080/"
        },
        "id": "rU9Jkukj3Ipu",
        "outputId": "fbf8f337-366e-4031-e231-18e7cf3b6780"
      },
      "outputs": [
        {
          "name": "stdout",
          "output_type": "stream",
          "text": [
            "175/175 [==============================] - 1s 8ms/step\n"
          ]
        }
      ],
      "source": [
        "tmp = np.argmax(loaded_model.predict(X_test), axis=-1) # 예측\n"
      ]
    },
    {
      "cell_type": "code",
      "execution_count": 110,
      "metadata": {
        "colab": {
          "base_uri": "https://localhost:8080/"
        },
        "id": "rKOxWhA53Im3",
        "outputId": "e170c59a-b1d9-4fc2-e2f8-f6e025a6d1c3"
      },
      "outputs": [
        {
          "name": "stdout",
          "output_type": "stream",
          "text": [
            "<class 'pandas.core.frame.DataFrame'>\n",
            "RangeIndex: 5593 entries, 0 to 5592\n",
            "Data columns (total 3 columns):\n",
            " #   Column  Non-Null Count  Dtype \n",
            "---  ------  --------------  ----- \n",
            " 0   상황키워드   5593 non-null   object\n",
            " 1   감정_대분류  5593 non-null   object\n",
            " 2   사람문장    5593 non-null   object\n",
            "dtypes: object(3)\n",
            "memory usage: 131.2+ KB\n"
          ]
        }
      ],
      "source": [
        "test_val_df.info()"
      ]
    },
    {
      "cell_type": "code",
      "execution_count": 111,
      "metadata": {
        "id": "nNRJr__c3IkA"
      },
      "outputs": [],
      "source": [
        "test_val_df['추정_감정_대분류'] = pd.DataFrame(tmp)"
      ]
    },
    {
      "cell_type": "code",
      "execution_count": 112,
      "metadata": {
        "id": "ZnfFgGJF3PWI"
      },
      "outputs": [],
      "source": [
        "def num_to_emo(number):\n",
        "    if number == 0:\n",
        "        return '불안'\n",
        "    elif number == 1:\n",
        "        return '분노'\n",
        "    elif number == 2:\n",
        "        return '상처'\n",
        "    elif number == 3:\n",
        "        return '슬픔'\n",
        "    elif number == 4:\n",
        "        return '기쁨'"
      ]
    },
    {
      "cell_type": "code",
      "execution_count": 113,
      "metadata": {
        "id": "AgZw6Tzb3R-6"
      },
      "outputs": [],
      "source": [
        "test_val_df['추정_감정_대분류'] = test_val_df['추정_감정_대분류'].apply(num_to_emo)"
      ]
    },
    {
      "cell_type": "code",
      "execution_count": 114,
      "metadata": {
        "colab": {
          "base_uri": "https://localhost:8080/",
          "height": 659
        },
        "id": "48S281Be63hl",
        "outputId": "3c87072a-1942-4fa7-84f0-cc35b3539fae"
      },
      "outputs": [
        {
          "data": {
            "text/html": [
              "<div>\n",
              "<style scoped>\n",
              "    .dataframe tbody tr th:only-of-type {\n",
              "        vertical-align: middle;\n",
              "    }\n",
              "\n",
              "    .dataframe tbody tr th {\n",
              "        vertical-align: top;\n",
              "    }\n",
              "\n",
              "    .dataframe thead th {\n",
              "        text-align: right;\n",
              "    }\n",
              "</style>\n",
              "<table border=\"1\" class=\"dataframe\">\n",
              "  <thead>\n",
              "    <tr style=\"text-align: right;\">\n",
              "      <th></th>\n",
              "      <th>상황키워드</th>\n",
              "      <th>감정_대분류</th>\n",
              "      <th>사람문장</th>\n",
              "      <th>추정_감정_대분류</th>\n",
              "    </tr>\n",
              "  </thead>\n",
              "  <tbody>\n",
              "    <tr>\n",
              "      <th>0</th>\n",
              "      <td>진로,취업,직장</td>\n",
              "      <td>불안</td>\n",
              "      <td>이번 프로젝트에서 발표를 하는데 내가 실수하는 바람에 우리 팀이 감점을 받았어. 너...</td>\n",
              "      <td>불안</td>\n",
              "    </tr>\n",
              "    <tr>\n",
              "      <th>1</th>\n",
              "      <td>진로,취업,직장</td>\n",
              "      <td>불안</td>\n",
              "      <td>회사에서 중요한 프로젝트를 혼자 하게 됐는데 솔직히 두렵고 무서워. 나에게 너무 크...</td>\n",
              "      <td>불안</td>\n",
              "    </tr>\n",
              "    <tr>\n",
              "      <th>2</th>\n",
              "      <td>진로,취업,직장</td>\n",
              "      <td>불안</td>\n",
              "      <td>상사가 너무 무섭게 생겨서 친해지는 게 너무 두려워. 무섭게 생겼는데도 업무를 보려...</td>\n",
              "      <td>불안</td>\n",
              "    </tr>\n",
              "    <tr>\n",
              "      <th>3</th>\n",
              "      <td>진로,취업,직장</td>\n",
              "      <td>불안</td>\n",
              "      <td>이번에 힘들게 들어간 첫 직장이거든. 첫 직장이라서 그런지 너무 긴장된다. 첫 직장...</td>\n",
              "      <td>기쁨</td>\n",
              "    </tr>\n",
              "    <tr>\n",
              "      <th>4</th>\n",
              "      <td>진로,취업,직장</td>\n",
              "      <td>불안</td>\n",
              "      <td>직장에서 동료들이랑 관계가 안 좋아질까 봐 걱정돼. 내가 낯가림이 심해서 친해질 수...</td>\n",
              "      <td>불안</td>\n",
              "    </tr>\n",
              "    <tr>\n",
              "      <th>...</th>\n",
              "      <td>...</td>\n",
              "      <td>...</td>\n",
              "      <td>...</td>\n",
              "      <td>...</td>\n",
              "    </tr>\n",
              "    <tr>\n",
              "      <th>5588</th>\n",
              "      <td>연애,결혼,출산</td>\n",
              "      <td>기쁨</td>\n",
              "      <td>남자친구랑 헤어질 뻔했는데 다시 화해했어. 정말 다행이야. 내가 과음하고 실수를 해...</td>\n",
              "      <td>기쁨</td>\n",
              "    </tr>\n",
              "    <tr>\n",
              "      <th>5589</th>\n",
              "      <td>연애,결혼,출산</td>\n",
              "      <td>상처</td>\n",
              "      <td>나 너무 억울하고 속상한 일이 있어. 피곤해서 남자친구 연락에 대답하지 못하고 잠들...</td>\n",
              "      <td>상처</td>\n",
              "    </tr>\n",
              "    <tr>\n",
              "      <th>5590</th>\n",
              "      <td>연애,결혼,출산</td>\n",
              "      <td>상처</td>\n",
              "      <td>친구 결혼식에 갔었는데 내가 안 온 줄 알고 친구가 토라져서 억울해! 바쁜 사정이 ...</td>\n",
              "      <td>상처</td>\n",
              "    </tr>\n",
              "    <tr>\n",
              "      <th>5591</th>\n",
              "      <td>연애,결혼,출산</td>\n",
              "      <td>상처</td>\n",
              "      <td>나는 결혼을 안 하는 건데 주변에서는 결혼을 못 하는 거로 생각해. 강하게 나서서 ...</td>\n",
              "      <td>슬픔</td>\n",
              "    </tr>\n",
              "    <tr>\n",
              "      <th>5592</th>\n",
              "      <td>연애,결혼,출산</td>\n",
              "      <td>상처</td>\n",
              "      <td>남자친구가 나를 오해해서 싸웠어. 억울해. 한 번 더 진지하게 이야기해보자고 해야겠...</td>\n",
              "      <td>상처</td>\n",
              "    </tr>\n",
              "  </tbody>\n",
              "</table>\n",
              "<p>5593 rows × 4 columns</p>\n",
              "</div>"
            ],
            "text/plain": [
              "         상황키워드 감정_대분류                                               사람문장  \\\n",
              "0     진로,취업,직장     불안  이번 프로젝트에서 발표를 하는데 내가 실수하는 바람에 우리 팀이 감점을 받았어. 너...   \n",
              "1     진로,취업,직장     불안  회사에서 중요한 프로젝트를 혼자 하게 됐는데 솔직히 두렵고 무서워. 나에게 너무 크...   \n",
              "2     진로,취업,직장     불안  상사가 너무 무섭게 생겨서 친해지는 게 너무 두려워. 무섭게 생겼는데도 업무를 보려...   \n",
              "3     진로,취업,직장     불안  이번에 힘들게 들어간 첫 직장이거든. 첫 직장이라서 그런지 너무 긴장된다. 첫 직장...   \n",
              "4     진로,취업,직장     불안  직장에서 동료들이랑 관계가 안 좋아질까 봐 걱정돼. 내가 낯가림이 심해서 친해질 수...   \n",
              "...        ...    ...                                                ...   \n",
              "5588  연애,결혼,출산     기쁨  남자친구랑 헤어질 뻔했는데 다시 화해했어. 정말 다행이야. 내가 과음하고 실수를 해...   \n",
              "5589  연애,결혼,출산     상처  나 너무 억울하고 속상한 일이 있어. 피곤해서 남자친구 연락에 대답하지 못하고 잠들...   \n",
              "5590  연애,결혼,출산     상처  친구 결혼식에 갔었는데 내가 안 온 줄 알고 친구가 토라져서 억울해! 바쁜 사정이 ...   \n",
              "5591  연애,결혼,출산     상처  나는 결혼을 안 하는 건데 주변에서는 결혼을 못 하는 거로 생각해. 강하게 나서서 ...   \n",
              "5592  연애,결혼,출산     상처  남자친구가 나를 오해해서 싸웠어. 억울해. 한 번 더 진지하게 이야기해보자고 해야겠...   \n",
              "\n",
              "     추정_감정_대분류  \n",
              "0           불안  \n",
              "1           불안  \n",
              "2           불안  \n",
              "3           기쁨  \n",
              "4           불안  \n",
              "...        ...  \n",
              "5588        기쁨  \n",
              "5589        상처  \n",
              "5590        상처  \n",
              "5591        슬픔  \n",
              "5592        상처  \n",
              "\n",
              "[5593 rows x 4 columns]"
            ]
          },
          "execution_count": 114,
          "metadata": {},
          "output_type": "execute_result"
        }
      ],
      "source": [
        "test_val_df"
      ]
    },
    {
      "cell_type": "code",
      "execution_count": 115,
      "metadata": {},
      "outputs": [],
      "source": [
        "correct_df = test_val_df[test_val_df['감정_대분류'] == test_val_df['추정_감정_대분류']]"
      ]
    },
    {
      "cell_type": "code",
      "execution_count": 116,
      "metadata": {},
      "outputs": [
        {
          "data": {
            "text/plain": [
              "0.751653853030574"
            ]
          },
          "execution_count": 116,
          "metadata": {},
          "output_type": "execute_result"
        }
      ],
      "source": [
        "len(correct_df) / len(test_val_df)"
      ]
    },
    {
      "cell_type": "code",
      "execution_count": 118,
      "metadata": {
        "id": "2ROEiwZ_7m6a"
      },
      "outputs": [],
      "source": [
        "test_val_df.to_csv('tmp_val_data_change_stopwords.csv', index=False)"
      ]
    }
  ],
  "metadata": {
    "colab": {
      "provenance": []
    },
    "kernelspec": {
      "display_name": "tensorflow",
      "language": "python",
      "name": "python3"
    },
    "language_info": {
      "codemirror_mode": {
        "name": "ipython",
        "version": 3
      },
      "file_extension": ".py",
      "mimetype": "text/x-python",
      "name": "python",
      "nbconvert_exporter": "python",
      "pygments_lexer": "ipython3",
      "version": "3.8.16"
    },
    "orig_nbformat": 4,
    "vscode": {
      "interpreter": {
        "hash": "04fd9c361be45f4292b225cf55355a67dfa13b4c14ac86b9ffe9743e2c71714e"
      }
    }
  },
  "nbformat": 4,
  "nbformat_minor": 0
}
