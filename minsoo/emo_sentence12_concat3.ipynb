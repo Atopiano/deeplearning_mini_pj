{
 "cells": [
  {
   "cell_type": "code",
   "execution_count": 68,
   "metadata": {},
   "outputs": [],
   "source": [
    "import numpy as np\n",
    "import pandas as pd"
   ]
  },
  {
   "attachments": {},
   "cell_type": "markdown",
   "metadata": {},
   "source": [
    "# 1. 데이터 불러오기"
   ]
  },
  {
   "cell_type": "code",
   "execution_count": 69,
   "metadata": {},
   "outputs": [],
   "source": [
    "df = pd.read_csv('./감성대화말뭉치/Training_221115_add/원천데이터/감성대화말뭉치(최종데이터)_Training.csv', index_col=0)"
   ]
  },
  {
   "cell_type": "code",
   "execution_count": 70,
   "metadata": {},
   "outputs": [
    {
     "data": {
      "text/html": [
       "<div>\n",
       "<style scoped>\n",
       "    .dataframe tbody tr th:only-of-type {\n",
       "        vertical-align: middle;\n",
       "    }\n",
       "\n",
       "    .dataframe tbody tr th {\n",
       "        vertical-align: top;\n",
       "    }\n",
       "\n",
       "    .dataframe thead th {\n",
       "        text-align: right;\n",
       "    }\n",
       "</style>\n",
       "<table border=\"1\" class=\"dataframe\">\n",
       "  <thead>\n",
       "    <tr style=\"text-align: right;\">\n",
       "      <th></th>\n",
       "      <th>연령</th>\n",
       "      <th>성별</th>\n",
       "      <th>상황키워드</th>\n",
       "      <th>신체질환</th>\n",
       "      <th>감정_대분류</th>\n",
       "      <th>감정_소분류</th>\n",
       "      <th>사람문장1</th>\n",
       "      <th>시스템문장1</th>\n",
       "      <th>사람문장2</th>\n",
       "      <th>시스템문장2</th>\n",
       "      <th>사람문장3</th>\n",
       "      <th>시스템문장3</th>\n",
       "    </tr>\n",
       "  </thead>\n",
       "  <tbody>\n",
       "    <tr>\n",
       "      <th>1</th>\n",
       "      <td>청년</td>\n",
       "      <td>여성</td>\n",
       "      <td>진로,취업,직장</td>\n",
       "      <td>해당없음</td>\n",
       "      <td>분노</td>\n",
       "      <td>노여워하는</td>\n",
       "      <td>일은 왜 해도 해도 끝이 없을까? 화가 난다.</td>\n",
       "      <td>많이 힘드시겠어요. 주위에 의논할 상대가 있나요?</td>\n",
       "      <td>그냥 내가 해결하는 게 나아. 남들한테 부담 주고 싶지도 않고.</td>\n",
       "      <td>혼자 해결하기로 했군요. 혼자서 해결하기 힘들면 주위에 의논할 사람을 찾아보세요.</td>\n",
       "      <td>NaN</td>\n",
       "      <td>NaN</td>\n",
       "    </tr>\n",
       "    <tr>\n",
       "      <th>2</th>\n",
       "      <td>청년</td>\n",
       "      <td>여성</td>\n",
       "      <td>진로,취업,직장</td>\n",
       "      <td>해당없음</td>\n",
       "      <td>분노</td>\n",
       "      <td>노여워하는</td>\n",
       "      <td>이번 달에 또 급여가 깎였어! 물가는 오르는데 월급만 자꾸 깎이니까 너무 화가 나.</td>\n",
       "      <td>급여가 줄어 속상하시겠어요. 월급이 줄어든 것을 어떻게 보완하실 건가요?</td>\n",
       "      <td>최대한 지출을 억제해야겠어. 월급이 줄어들었으니 고정지출을 줄일 수밖에 없을 것 같아.</td>\n",
       "      <td>월급이 줄어든 만큼 소비를 줄일 계획이군요.</td>\n",
       "      <td>NaN</td>\n",
       "      <td>NaN</td>\n",
       "    </tr>\n",
       "    <tr>\n",
       "      <th>3</th>\n",
       "      <td>청년</td>\n",
       "      <td>여성</td>\n",
       "      <td>진로,취업,직장</td>\n",
       "      <td>해당없음</td>\n",
       "      <td>분노</td>\n",
       "      <td>노여워하는</td>\n",
       "      <td>회사에 신입이 들어왔는데 말투가 거슬려. 그런 애를 매일 봐야 한다고 생각하니까 스...</td>\n",
       "      <td>회사 동료 때문에 스트레스를 많이 받는 것 같아요. 문제 해결을 위해 어떤 노력을 ...</td>\n",
       "      <td>잘 안 맞는 사람이랑 억지로 잘 지내는 것보단 조금은 거리를 두고 예의를 갖춰서 대...</td>\n",
       "      <td>스트레스받지 않기 위해선 인간관계에 있어 약간의 거리를 두는 게 좋겠군요.</td>\n",
       "      <td>NaN</td>\n",
       "      <td>NaN</td>\n",
       "    </tr>\n",
       "    <tr>\n",
       "      <th>4</th>\n",
       "      <td>청년</td>\n",
       "      <td>여성</td>\n",
       "      <td>진로,취업,직장</td>\n",
       "      <td>해당없음</td>\n",
       "      <td>분노</td>\n",
       "      <td>노여워하는</td>\n",
       "      <td>직장에서 막내라는 이유로 나에게만 온갖 심부름을 시켜. 일도 많은 데 정말 분하고 ...</td>\n",
       "      <td>관련 없는 심부름을 모두 하게 되어서 노여우시군요. 어떤 것이 상황을 나아질 수 있...</td>\n",
       "      <td>직장 사람들과 솔직하게 이야기해보고 싶어. 일하는 데에 방해된다고.</td>\n",
       "      <td>직장 사람들과 이야기를 해 보겠다고 결심하셨군요.</td>\n",
       "      <td>NaN</td>\n",
       "      <td>NaN</td>\n",
       "    </tr>\n",
       "    <tr>\n",
       "      <th>5</th>\n",
       "      <td>청년</td>\n",
       "      <td>여성</td>\n",
       "      <td>진로,취업,직장</td>\n",
       "      <td>해당없음</td>\n",
       "      <td>분노</td>\n",
       "      <td>노여워하는</td>\n",
       "      <td>얼마 전 입사한 신입사원이 나를 무시하는 것 같아서 너무 화가 나.</td>\n",
       "      <td>무시하는 것 같은 태도에 화가 나셨군요. 상대방의 어떤 행동이 그런 감정을 유발하는...</td>\n",
       "      <td>상사인 나에게 먼저 인사하지 않아서 매일 내가 먼저 인사한다고!</td>\n",
       "      <td>항상 먼저 인사하게 되어 화가 나셨군요. 어떻게 하면 신입사원에게 화났음을 표현할 ...</td>\n",
       "      <td>NaN</td>\n",
       "      <td>NaN</td>\n",
       "    </tr>\n",
       "    <tr>\n",
       "      <th>...</th>\n",
       "      <td>...</td>\n",
       "      <td>...</td>\n",
       "      <td>...</td>\n",
       "      <td>...</td>\n",
       "      <td>...</td>\n",
       "      <td>...</td>\n",
       "      <td>...</td>\n",
       "      <td>...</td>\n",
       "      <td>...</td>\n",
       "      <td>...</td>\n",
       "      <td>...</td>\n",
       "      <td>...</td>\n",
       "    </tr>\n",
       "    <tr>\n",
       "      <th>51626</th>\n",
       "      <td>노년</td>\n",
       "      <td>남성</td>\n",
       "      <td>재정</td>\n",
       "      <td>만성질환 무</td>\n",
       "      <td>분노</td>\n",
       "      <td>성가신</td>\n",
       "      <td>나이가 먹고 이제 돈도 못 벌어 오니까 어떻게 살아가야 할지 막막해. 능력도 없고.</td>\n",
       "      <td>경제적인 문제 때문에 막막하시군요. 마음이 편치 않으시겠어요.</td>\n",
       "      <td>아무것도 할 수 없는 내가 무가치하게 느껴지고 실망스러워.</td>\n",
       "      <td>지금 할 수 있는 가장 합리적인 행동은 무엇인가요?</td>\n",
       "      <td>노년층을 위한 경제적 지원이나 부업 같은 것도 알아보아야겠어.</td>\n",
       "      <td>좋은 결과 얻으시길 바랄게요.</td>\n",
       "    </tr>\n",
       "    <tr>\n",
       "      <th>51627</th>\n",
       "      <td>노년</td>\n",
       "      <td>여성</td>\n",
       "      <td>재정</td>\n",
       "      <td>만성질환 무</td>\n",
       "      <td>불안</td>\n",
       "      <td>초조한</td>\n",
       "      <td>몸이 많이 약해졌나 봐. 이제 전과 같이 일하지 못할 것 같아 너무 짜증 나.</td>\n",
       "      <td>건강에 대한 어려움 때문에 기분이 좋지 않으시군요. 속상하시겠어요.</td>\n",
       "      <td>마음 같아서는 다 할 수 있는 일인데 이젠 몸이 안 따라와 주니 화만 나.</td>\n",
       "      <td>어떻게 하면 지금의 기분을 나아지게 할 수 있을까요?</td>\n",
       "      <td>남편과 함께 게이트볼이나 치러 가야겠어. 그럼 기분이 나아질 것 같아.</td>\n",
       "      <td>남편과 함께하는 좋은 외출 시간 되시길 바랄게요.</td>\n",
       "    </tr>\n",
       "    <tr>\n",
       "      <th>51628</th>\n",
       "      <td>노년</td>\n",
       "      <td>여성</td>\n",
       "      <td>재정</td>\n",
       "      <td>만성질환 무</td>\n",
       "      <td>상처</td>\n",
       "      <td>희생된</td>\n",
       "      <td>이제 어떻게 해야 할지 모르겠어. 남편도 그렇고 노후 준비도 안 되어서 미래가 걱정돼.</td>\n",
       "      <td>노후 준비에 대한 어려움 때문에 걱정이 많으시겠어요.</td>\n",
       "      <td>주변 사람들은 다 노후 준비도 잘해두었던데 난 어떻게 해야 할지 모르겠어. 막막하기...</td>\n",
       "      <td>지금의 상황에서 할 수 있는 가장 좋은 행동이 무엇일까요?</td>\n",
       "      <td>남편과 함께 실버 일자리나 노년층을 위한 국가 지원에 대해 자세히 알아보아야겠어.</td>\n",
       "      <td>좋은 정보 많이 얻으셔서 걱정을 좀 덜으셨으면 좋겠어요.</td>\n",
       "    </tr>\n",
       "    <tr>\n",
       "      <th>51629</th>\n",
       "      <td>노년</td>\n",
       "      <td>여성</td>\n",
       "      <td>대인관계</td>\n",
       "      <td>만성질환 무</td>\n",
       "      <td>불안</td>\n",
       "      <td>걱정스러운</td>\n",
       "      <td>몇십 년을 함께 살았던 남편과 이혼했어. 그동안의 세월에 배신감을 느끼고 너무 화가 나.</td>\n",
       "      <td>가족과의 문제 때문에 속상하시겠어요.</td>\n",
       "      <td>이제 할 수 있는 일도 없고 이렇게 힘들게 사는 게 불만스럽기만 해.</td>\n",
       "      <td>지금의 감정을 나아지게 할 수 있는 어떤 방법이 있을까요?</td>\n",
       "      <td>함께 친하게 지내던 동네 언니 동생들과 빈자리를 조금이나마 채울까 해.</td>\n",
       "      <td>지인분들과 좋은 시간 보내셨으면 좋겠어요.</td>\n",
       "    </tr>\n",
       "    <tr>\n",
       "      <th>51630</th>\n",
       "      <td>노년</td>\n",
       "      <td>여성</td>\n",
       "      <td>대인관계</td>\n",
       "      <td>만성질환 무</td>\n",
       "      <td>상처</td>\n",
       "      <td>배신당한</td>\n",
       "      <td>남편과 결혼한 지 사십 년이야. 이제 사람 만나는 것도 버겁고 알던 사람도 점점 사라져.</td>\n",
       "      <td>대인관계에 대한 어려움 때문에 걱정되시고 속상하시겠어요.</td>\n",
       "      <td>사람들을 만나는 것이 어려워. 자꾸 사람들을 의심하게만 되고 말이야.</td>\n",
       "      <td>어떻게 하면 지금의 상황에 변화를 만들어낼 수 있을까요?</td>\n",
       "      <td>사람들을 볼 때 의심하고 불신하는 마음을 억눌러야겠어. 사람들을 색안경을 끼고 보지...</td>\n",
       "      <td>원하시는 대로 가지고 계시던 걱정이 잘 해결되셨으면 좋겠어요.</td>\n",
       "    </tr>\n",
       "  </tbody>\n",
       "</table>\n",
       "<p>51630 rows × 12 columns</p>\n",
       "</div>"
      ],
      "text/plain": [
       "       연령  성별     상황키워드    신체질환 감정_대분류 감정_소분류  \\\n",
       "1      청년  여성  진로,취업,직장    해당없음     분노  노여워하는   \n",
       "2      청년  여성  진로,취업,직장    해당없음     분노  노여워하는   \n",
       "3      청년  여성  진로,취업,직장    해당없음     분노  노여워하는   \n",
       "4      청년  여성  진로,취업,직장    해당없음     분노  노여워하는   \n",
       "5      청년  여성  진로,취업,직장    해당없음     분노  노여워하는   \n",
       "...    ..  ..       ...     ...    ...    ...   \n",
       "51626  노년  남성        재정  만성질환 무     분노    성가신   \n",
       "51627  노년  여성        재정  만성질환 무     불안    초조한   \n",
       "51628  노년  여성        재정  만성질환 무     상처    희생된   \n",
       "51629  노년  여성      대인관계  만성질환 무     불안  걱정스러운   \n",
       "51630  노년  여성      대인관계  만성질환 무     상처   배신당한   \n",
       "\n",
       "                                                   사람문장1  \\\n",
       "1                              일은 왜 해도 해도 끝이 없을까? 화가 난다.   \n",
       "2         이번 달에 또 급여가 깎였어! 물가는 오르는데 월급만 자꾸 깎이니까 너무 화가 나.   \n",
       "3      회사에 신입이 들어왔는데 말투가 거슬려. 그런 애를 매일 봐야 한다고 생각하니까 스...   \n",
       "4      직장에서 막내라는 이유로 나에게만 온갖 심부름을 시켜. 일도 많은 데 정말 분하고 ...   \n",
       "5                  얼마 전 입사한 신입사원이 나를 무시하는 것 같아서 너무 화가 나.   \n",
       "...                                                  ...   \n",
       "51626     나이가 먹고 이제 돈도 못 벌어 오니까 어떻게 살아가야 할지 막막해. 능력도 없고.   \n",
       "51627        몸이 많이 약해졌나 봐. 이제 전과 같이 일하지 못할 것 같아 너무 짜증 나.   \n",
       "51628   이제 어떻게 해야 할지 모르겠어. 남편도 그렇고 노후 준비도 안 되어서 미래가 걱정돼.   \n",
       "51629  몇십 년을 함께 살았던 남편과 이혼했어. 그동안의 세월에 배신감을 느끼고 너무 화가 나.   \n",
       "51630  남편과 결혼한 지 사십 년이야. 이제 사람 만나는 것도 버겁고 알던 사람도 점점 사라져.   \n",
       "\n",
       "                                                  시스템문장1  \\\n",
       "1                            많이 힘드시겠어요. 주위에 의논할 상대가 있나요?   \n",
       "2               급여가 줄어 속상하시겠어요. 월급이 줄어든 것을 어떻게 보완하실 건가요?   \n",
       "3      회사 동료 때문에 스트레스를 많이 받는 것 같아요. 문제 해결을 위해 어떤 노력을 ...   \n",
       "4      관련 없는 심부름을 모두 하게 되어서 노여우시군요. 어떤 것이 상황을 나아질 수 있...   \n",
       "5      무시하는 것 같은 태도에 화가 나셨군요. 상대방의 어떤 행동이 그런 감정을 유발하는...   \n",
       "...                                                  ...   \n",
       "51626                 경제적인 문제 때문에 막막하시군요. 마음이 편치 않으시겠어요.   \n",
       "51627              건강에 대한 어려움 때문에 기분이 좋지 않으시군요. 속상하시겠어요.   \n",
       "51628                      노후 준비에 대한 어려움 때문에 걱정이 많으시겠어요.   \n",
       "51629                               가족과의 문제 때문에 속상하시겠어요.   \n",
       "51630                    대인관계에 대한 어려움 때문에 걱정되시고 속상하시겠어요.   \n",
       "\n",
       "                                                   사람문장2  \\\n",
       "1                    그냥 내가 해결하는 게 나아. 남들한테 부담 주고 싶지도 않고.   \n",
       "2       최대한 지출을 억제해야겠어. 월급이 줄어들었으니 고정지출을 줄일 수밖에 없을 것 같아.   \n",
       "3      잘 안 맞는 사람이랑 억지로 잘 지내는 것보단 조금은 거리를 두고 예의를 갖춰서 대...   \n",
       "4                  직장 사람들과 솔직하게 이야기해보고 싶어. 일하는 데에 방해된다고.   \n",
       "5                    상사인 나에게 먼저 인사하지 않아서 매일 내가 먼저 인사한다고!   \n",
       "...                                                  ...   \n",
       "51626                   아무것도 할 수 없는 내가 무가치하게 느껴지고 실망스러워.   \n",
       "51627          마음 같아서는 다 할 수 있는 일인데 이젠 몸이 안 따라와 주니 화만 나.   \n",
       "51628  주변 사람들은 다 노후 준비도 잘해두었던데 난 어떻게 해야 할지 모르겠어. 막막하기...   \n",
       "51629             이제 할 수 있는 일도 없고 이렇게 힘들게 사는 게 불만스럽기만 해.   \n",
       "51630             사람들을 만나는 것이 어려워. 자꾸 사람들을 의심하게만 되고 말이야.   \n",
       "\n",
       "                                                  시스템문장2  \\\n",
       "1         혼자 해결하기로 했군요. 혼자서 해결하기 힘들면 주위에 의논할 사람을 찾아보세요.    \n",
       "2                               월급이 줄어든 만큼 소비를 줄일 계획이군요.   \n",
       "3              스트레스받지 않기 위해선 인간관계에 있어 약간의 거리를 두는 게 좋겠군요.   \n",
       "4                            직장 사람들과 이야기를 해 보겠다고 결심하셨군요.   \n",
       "5      항상 먼저 인사하게 되어 화가 나셨군요. 어떻게 하면 신입사원에게 화났음을 표현할 ...   \n",
       "...                                                  ...   \n",
       "51626                       지금 할 수 있는 가장 합리적인 행동은 무엇인가요?   \n",
       "51627                      어떻게 하면 지금의 기분을 나아지게 할 수 있을까요?   \n",
       "51628                   지금의 상황에서 할 수 있는 가장 좋은 행동이 무엇일까요?   \n",
       "51629                   지금의 감정을 나아지게 할 수 있는 어떤 방법이 있을까요?   \n",
       "51630                    어떻게 하면 지금의 상황에 변화를 만들어낼 수 있을까요?   \n",
       "\n",
       "                                                   사람문장3  \\\n",
       "1                                                    NaN   \n",
       "2                                                    NaN   \n",
       "3                                                    NaN   \n",
       "4                                                    NaN   \n",
       "5                                                    NaN   \n",
       "...                                                  ...   \n",
       "51626                 노년층을 위한 경제적 지원이나 부업 같은 것도 알아보아야겠어.   \n",
       "51627            남편과 함께 게이트볼이나 치러 가야겠어. 그럼 기분이 나아질 것 같아.   \n",
       "51628      남편과 함께 실버 일자리나 노년층을 위한 국가 지원에 대해 자세히 알아보아야겠어.   \n",
       "51629            함께 친하게 지내던 동네 언니 동생들과 빈자리를 조금이나마 채울까 해.   \n",
       "51630  사람들을 볼 때 의심하고 불신하는 마음을 억눌러야겠어. 사람들을 색안경을 끼고 보지...   \n",
       "\n",
       "                                   시스템문장3  \n",
       "1                                     NaN  \n",
       "2                                     NaN  \n",
       "3                                     NaN  \n",
       "4                                     NaN  \n",
       "5                                     NaN  \n",
       "...                                   ...  \n",
       "51626                    좋은 결과 얻으시길 바랄게요.  \n",
       "51627         남편과 함께하는 좋은 외출 시간 되시길 바랄게요.  \n",
       "51628     좋은 정보 많이 얻으셔서 걱정을 좀 덜으셨으면 좋겠어요.  \n",
       "51629             지인분들과 좋은 시간 보내셨으면 좋겠어요.  \n",
       "51630  원하시는 대로 가지고 계시던 걱정이 잘 해결되셨으면 좋겠어요.  \n",
       "\n",
       "[51630 rows x 12 columns]"
      ]
     },
     "execution_count": 70,
     "metadata": {},
     "output_type": "execute_result"
    }
   ],
   "source": [
    "df"
   ]
  },
  {
   "cell_type": "code",
   "execution_count": 71,
   "metadata": {},
   "outputs": [],
   "source": [
    "df = df.drop(['성별', '연령', '신체질환', '감정_소분류', '시스템문장1', '시스템문장2', '시스템문장3'], axis=1)"
   ]
  },
  {
   "cell_type": "code",
   "execution_count": 72,
   "metadata": {},
   "outputs": [
    {
     "name": "stdout",
     "output_type": "stream",
     "text": [
      "<class 'pandas.core.frame.DataFrame'>\n",
      "Int64Index: 51630 entries, 1 to 51630\n",
      "Data columns (total 5 columns):\n",
      " #   Column  Non-Null Count  Dtype \n",
      "---  ------  --------------  ----- \n",
      " 0   상황키워드   51630 non-null  object\n",
      " 1   감정_대분류  51630 non-null  object\n",
      " 2   사람문장1   51630 non-null  object\n",
      " 3   사람문장2   51630 non-null  object\n",
      " 4   사람문장3   42695 non-null  object\n",
      "dtypes: object(5)\n",
      "memory usage: 2.4+ MB\n"
     ]
    }
   ],
   "source": [
    "df.info()"
   ]
  },
  {
   "cell_type": "code",
   "execution_count": 73,
   "metadata": {},
   "outputs": [
    {
     "data": {
      "text/plain": [
       "불안    9320\n",
       "분노    9160\n",
       "상처    9143\n",
       "슬픔    9125\n",
       "당황    8756\n",
       "기쁨    6126\n",
       "Name: 감정_대분류, dtype: int64"
      ]
     },
     "execution_count": 73,
     "metadata": {},
     "output_type": "execute_result"
    }
   ],
   "source": [
    "df['감정_대분류'].value_counts()"
   ]
  },
  {
   "cell_type": "code",
   "execution_count": 74,
   "metadata": {},
   "outputs": [
    {
     "data": {
      "text/html": [
       "<div>\n",
       "<style scoped>\n",
       "    .dataframe tbody tr th:only-of-type {\n",
       "        vertical-align: middle;\n",
       "    }\n",
       "\n",
       "    .dataframe tbody tr th {\n",
       "        vertical-align: top;\n",
       "    }\n",
       "\n",
       "    .dataframe thead th {\n",
       "        text-align: right;\n",
       "    }\n",
       "</style>\n",
       "<table border=\"1\" class=\"dataframe\">\n",
       "  <thead>\n",
       "    <tr style=\"text-align: right;\">\n",
       "      <th></th>\n",
       "      <th>상황키워드</th>\n",
       "      <th>감정_대분류</th>\n",
       "      <th>사람문장1</th>\n",
       "      <th>사람문장2</th>\n",
       "      <th>사람문장3</th>\n",
       "    </tr>\n",
       "  </thead>\n",
       "  <tbody>\n",
       "    <tr>\n",
       "      <th>15</th>\n",
       "      <td>진로,취업,직장</td>\n",
       "      <td>당황</td>\n",
       "      <td>길을 가다가 우연히 마주친 동네 아주머니께서 취업했냐고 물어보셔서 당황했어.</td>\n",
       "      <td>평소 친한 것도 아닌데 갑자기 취직했냐고 물어보시니 당황했지. 당당하게 취업했다고 ...</td>\n",
       "      <td>NaN</td>\n",
       "    </tr>\n",
       "    <tr>\n",
       "      <th>16</th>\n",
       "      <td>진로,취업,직장</td>\n",
       "      <td>당황</td>\n",
       "      <td>어제 합격 통보를 받은 회사에서 문자를 잘못 발송했다고 연락이 왔어. 너무 당혹스럽...</td>\n",
       "      <td>물론 사과는 받았지. 하지만 대기업에서 이런 사소한 실수를 하다니 정말 실망이야.</td>\n",
       "      <td>NaN</td>\n",
       "    </tr>\n",
       "    <tr>\n",
       "      <th>17</th>\n",
       "      <td>진로,취업,직장</td>\n",
       "      <td>당황</td>\n",
       "      <td>나 오늘 첫 출근 했는데 너무 당황스러웠어!</td>\n",
       "      <td>버스 타고 카드를 찍으려고 하는데 지갑을 바꿔서 가져오느라고 교통 카드를 안 가져온...</td>\n",
       "      <td>NaN</td>\n",
       "    </tr>\n",
       "    <tr>\n",
       "      <th>18</th>\n",
       "      <td>진로,취업,직장</td>\n",
       "      <td>당황</td>\n",
       "      <td>이번에 직장을 이직했는데 글쎄 만나고 싶지 않은 사람을 만나서 아주 당황스럽더라고.</td>\n",
       "      <td>정말 다시는 만나고 싶지 않았던 사람인데. 이제 어떻게 해야 할지 막막함에 너무 힘들어.</td>\n",
       "      <td>NaN</td>\n",
       "    </tr>\n",
       "    <tr>\n",
       "      <th>30</th>\n",
       "      <td>진로,취업,직장</td>\n",
       "      <td>당황</td>\n",
       "      <td>이번에 중소기업에 취업하게 되었어. 친구들에게 말하기가 조금 부끄러워.</td>\n",
       "      <td>요즘같이 어려울 때 취업할 수 있어서 다행이긴 해. 오래 준비하고 공부했거든.</td>\n",
       "      <td>NaN</td>\n",
       "    </tr>\n",
       "    <tr>\n",
       "      <th>...</th>\n",
       "      <td>...</td>\n",
       "      <td>...</td>\n",
       "      <td>...</td>\n",
       "      <td>...</td>\n",
       "      <td>...</td>\n",
       "    </tr>\n",
       "    <tr>\n",
       "      <th>51602</th>\n",
       "      <td>진로,취업,직장</td>\n",
       "      <td>당황</td>\n",
       "      <td>남편의 사업이 망했어. 남은 자금도 없어서 생계에 문제가 생길까 봐 두려워.</td>\n",
       "      <td>남편에 비해 내가 할 줄 아는 게 없다는 것이 죄책감 들어. 앞으로의 미래가 걱정돼.</td>\n",
       "      <td>인력 사무소에 가서 내가 할 수 있는 일자리를 알아봐야겠어.</td>\n",
       "    </tr>\n",
       "    <tr>\n",
       "      <th>51614</th>\n",
       "      <td>가족관계</td>\n",
       "      <td>당황</td>\n",
       "      <td>부모님이 내가 밖에 나가려고만 하면 간섭을 하셔. 속상해.</td>\n",
       "      <td>내가 너무 험하게 놀고 사고도 자주 쳐서 그런 거 같아. 기분이 안 좋아.</td>\n",
       "      <td>신나는 음악을 들으면서 지금의 기분을 나아지게 하고 싶어.</td>\n",
       "    </tr>\n",
       "    <tr>\n",
       "      <th>51617</th>\n",
       "      <td>대인관계</td>\n",
       "      <td>당황</td>\n",
       "      <td>결혼 후 독립에 대한 양가 부모님의 생각이 달라. 어떻게 하면 좋을지 모르겠어.</td>\n",
       "      <td>장인어른은 우리가 독립하길 원하시는데 나도 그렇게 하고 싶어.</td>\n",
       "      <td>우리 부모님과 의견을 잘 나누어서 독립하는 쪽으로 설득해봐야 할 것 같아.</td>\n",
       "    </tr>\n",
       "    <tr>\n",
       "      <th>51618</th>\n",
       "      <td>대인관계</td>\n",
       "      <td>당황</td>\n",
       "      <td>내가 아내한테 정말 잘해주고 있는 게 맞는지 의문이 들어. 속상해.</td>\n",
       "      <td>아내가 많이 힘들어 보이더라고. 내가 잘해줘야 하는데 아내한테 너무 미안한 감정이 들어.</td>\n",
       "      <td>아내가 하는 집안일을 하나둘씩 도와주어야겠어. 아내는 일도 하고 와서 집안일을 하니까.</td>\n",
       "    </tr>\n",
       "    <tr>\n",
       "      <th>51624</th>\n",
       "      <td>건강,죽음</td>\n",
       "      <td>당황</td>\n",
       "      <td>이제 몸이 점점 약해진다는 게 느껴져. 아내에게 미안하고 속상한 마음이 들어.</td>\n",
       "      <td>이젠 아내가 날 돌봐주고 고생해. 건강이 악화되기까지 아무 일도 하지 않은 내 잘못이야.</td>\n",
       "      <td>나를 돌보아 주는 아내에게 고마움을 표현하고 너무 많은 고생은 시키지 않도록 노력해...</td>\n",
       "    </tr>\n",
       "  </tbody>\n",
       "</table>\n",
       "<p>8756 rows × 5 columns</p>\n",
       "</div>"
      ],
      "text/plain": [
       "          상황키워드 감정_대분류                                              사람문장1  \\\n",
       "15     진로,취업,직장     당황         길을 가다가 우연히 마주친 동네 아주머니께서 취업했냐고 물어보셔서 당황했어.   \n",
       "16     진로,취업,직장     당황  어제 합격 통보를 받은 회사에서 문자를 잘못 발송했다고 연락이 왔어. 너무 당혹스럽...   \n",
       "17     진로,취업,직장     당황                           나 오늘 첫 출근 했는데 너무 당황스러웠어!   \n",
       "18     진로,취업,직장     당황     이번에 직장을 이직했는데 글쎄 만나고 싶지 않은 사람을 만나서 아주 당황스럽더라고.   \n",
       "30     진로,취업,직장     당황            이번에 중소기업에 취업하게 되었어. 친구들에게 말하기가 조금 부끄러워.   \n",
       "...         ...    ...                                                ...   \n",
       "51602  진로,취업,직장     당황         남편의 사업이 망했어. 남은 자금도 없어서 생계에 문제가 생길까 봐 두려워.   \n",
       "51614      가족관계     당황                   부모님이 내가 밖에 나가려고만 하면 간섭을 하셔. 속상해.   \n",
       "51617      대인관계     당황       결혼 후 독립에 대한 양가 부모님의 생각이 달라. 어떻게 하면 좋을지 모르겠어.   \n",
       "51618      대인관계     당황              내가 아내한테 정말 잘해주고 있는 게 맞는지 의문이 들어. 속상해.   \n",
       "51624     건강,죽음     당황        이제 몸이 점점 약해진다는 게 느껴져. 아내에게 미안하고 속상한 마음이 들어.   \n",
       "\n",
       "                                                   사람문장2  \\\n",
       "15     평소 친한 것도 아닌데 갑자기 취직했냐고 물어보시니 당황했지. 당당하게 취업했다고 ...   \n",
       "16         물론 사과는 받았지. 하지만 대기업에서 이런 사소한 실수를 하다니 정말 실망이야.   \n",
       "17     버스 타고 카드를 찍으려고 하는데 지갑을 바꿔서 가져오느라고 교통 카드를 안 가져온...   \n",
       "18     정말 다시는 만나고 싶지 않았던 사람인데. 이제 어떻게 해야 할지 막막함에 너무 힘들어.   \n",
       "30           요즘같이 어려울 때 취업할 수 있어서 다행이긴 해. 오래 준비하고 공부했거든.   \n",
       "...                                                  ...   \n",
       "51602    남편에 비해 내가 할 줄 아는 게 없다는 것이 죄책감 들어. 앞으로의 미래가 걱정돼.   \n",
       "51614          내가 너무 험하게 놀고 사고도 자주 쳐서 그런 거 같아. 기분이 안 좋아.   \n",
       "51617                 장인어른은 우리가 독립하길 원하시는데 나도 그렇게 하고 싶어.   \n",
       "51618  아내가 많이 힘들어 보이더라고. 내가 잘해줘야 하는데 아내한테 너무 미안한 감정이 들어.   \n",
       "51624  이젠 아내가 날 돌봐주고 고생해. 건강이 악화되기까지 아무 일도 하지 않은 내 잘못이야.   \n",
       "\n",
       "                                                   사람문장3  \n",
       "15                                                   NaN  \n",
       "16                                                   NaN  \n",
       "17                                                   NaN  \n",
       "18                                                   NaN  \n",
       "30                                                   NaN  \n",
       "...                                                  ...  \n",
       "51602                  인력 사무소에 가서 내가 할 수 있는 일자리를 알아봐야겠어.  \n",
       "51614                   신나는 음악을 들으면서 지금의 기분을 나아지게 하고 싶어.  \n",
       "51617          우리 부모님과 의견을 잘 나누어서 독립하는 쪽으로 설득해봐야 할 것 같아.  \n",
       "51618   아내가 하는 집안일을 하나둘씩 도와주어야겠어. 아내는 일도 하고 와서 집안일을 하니까.  \n",
       "51624  나를 돌보아 주는 아내에게 고마움을 표현하고 너무 많은 고생은 시키지 않도록 노력해...  \n",
       "\n",
       "[8756 rows x 5 columns]"
      ]
     },
     "execution_count": 74,
     "metadata": {},
     "output_type": "execute_result"
    }
   ],
   "source": [
    "df[df['감정_대분류'] == '당황']"
   ]
  },
  {
   "cell_type": "code",
   "execution_count": 75,
   "metadata": {},
   "outputs": [],
   "source": [
    "df.drop(df[df['감정_대분류'] == '당황'].index, axis=0, inplace=True)"
   ]
  },
  {
   "cell_type": "code",
   "execution_count": 76,
   "metadata": {},
   "outputs": [],
   "source": [
    "# df['Full Name'] = df[['First', 'Last']].apply(' '.join, axis=1)\n",
    "df['사람문장'] = df[['사람문장1','사람문장2']].apply(' '.join, axis=1)"
   ]
  },
  {
   "cell_type": "code",
   "execution_count": 77,
   "metadata": {},
   "outputs": [
    {
     "name": "stdout",
     "output_type": "stream",
     "text": [
      "<class 'pandas.core.frame.DataFrame'>\n",
      "Int64Index: 42874 entries, 1 to 51630\n",
      "Data columns (total 6 columns):\n",
      " #   Column  Non-Null Count  Dtype \n",
      "---  ------  --------------  ----- \n",
      " 0   상황키워드   42874 non-null  object\n",
      " 1   감정_대분류  42874 non-null  object\n",
      " 2   사람문장1   42874 non-null  object\n",
      " 3   사람문장2   42874 non-null  object\n",
      " 4   사람문장3   35271 non-null  object\n",
      " 5   사람문장    42874 non-null  object\n",
      "dtypes: object(6)\n",
      "memory usage: 2.3+ MB\n"
     ]
    }
   ],
   "source": [
    "df.info()"
   ]
  },
  {
   "cell_type": "code",
   "execution_count": 78,
   "metadata": {},
   "outputs": [],
   "source": [
    "df3 = df.drop(['사람문장'], axis=1)"
   ]
  },
  {
   "cell_type": "code",
   "execution_count": 79,
   "metadata": {},
   "outputs": [],
   "source": [
    "df3 = df3.dropna()"
   ]
  },
  {
   "cell_type": "code",
   "execution_count": 80,
   "metadata": {},
   "outputs": [
    {
     "name": "stdout",
     "output_type": "stream",
     "text": [
      "<class 'pandas.core.frame.DataFrame'>\n",
      "Int64Index: 35271 entries, 305 to 51630\n",
      "Data columns (total 5 columns):\n",
      " #   Column  Non-Null Count  Dtype \n",
      "---  ------  --------------  ----- \n",
      " 0   상황키워드   35271 non-null  object\n",
      " 1   감정_대분류  35271 non-null  object\n",
      " 2   사람문장1   35271 non-null  object\n",
      " 3   사람문장2   35271 non-null  object\n",
      " 4   사람문장3   35271 non-null  object\n",
      "dtypes: object(5)\n",
      "memory usage: 1.6+ MB\n"
     ]
    }
   ],
   "source": [
    "df3.info()"
   ]
  },
  {
   "cell_type": "code",
   "execution_count": 81,
   "metadata": {},
   "outputs": [],
   "source": [
    "df3.rename(columns={'사람문장3':'사람문장'}, inplace=True)"
   ]
  },
  {
   "cell_type": "code",
   "execution_count": 82,
   "metadata": {},
   "outputs": [
    {
     "name": "stdout",
     "output_type": "stream",
     "text": [
      "<class 'pandas.core.frame.DataFrame'>\n",
      "Int64Index: 42874 entries, 1 to 51630\n",
      "Data columns (total 6 columns):\n",
      " #   Column  Non-Null Count  Dtype \n",
      "---  ------  --------------  ----- \n",
      " 0   상황키워드   42874 non-null  object\n",
      " 1   감정_대분류  42874 non-null  object\n",
      " 2   사람문장1   42874 non-null  object\n",
      " 3   사람문장2   42874 non-null  object\n",
      " 4   사람문장3   35271 non-null  object\n",
      " 5   사람문장    42874 non-null  object\n",
      "dtypes: object(6)\n",
      "memory usage: 2.3+ MB\n",
      "<class 'pandas.core.frame.DataFrame'>\n",
      "Int64Index: 35271 entries, 305 to 51630\n",
      "Data columns (total 5 columns):\n",
      " #   Column  Non-Null Count  Dtype \n",
      "---  ------  --------------  ----- \n",
      " 0   상황키워드   35271 non-null  object\n",
      " 1   감정_대분류  35271 non-null  object\n",
      " 2   사람문장1   35271 non-null  object\n",
      " 3   사람문장2   35271 non-null  object\n",
      " 4   사람문장    35271 non-null  object\n",
      "dtypes: object(5)\n",
      "memory usage: 1.6+ MB\n"
     ]
    },
    {
     "data": {
      "text/plain": [
       "(None, None)"
      ]
     },
     "execution_count": 82,
     "metadata": {},
     "output_type": "execute_result"
    }
   ],
   "source": [
    "df.info(), df3.info()"
   ]
  },
  {
   "cell_type": "code",
   "execution_count": 83,
   "metadata": {},
   "outputs": [],
   "source": [
    "df.drop(['사람문장1','사람문장2', '사람문장3'], axis=1, inplace=True)\n",
    "df3.drop(['사람문장1', '사람문장2'], axis=1, inplace=True)"
   ]
  },
  {
   "cell_type": "code",
   "execution_count": 84,
   "metadata": {},
   "outputs": [
    {
     "name": "stdout",
     "output_type": "stream",
     "text": [
      "<class 'pandas.core.frame.DataFrame'>\n",
      "Int64Index: 42874 entries, 1 to 51630\n",
      "Data columns (total 3 columns):\n",
      " #   Column  Non-Null Count  Dtype \n",
      "---  ------  --------------  ----- \n",
      " 0   상황키워드   42874 non-null  object\n",
      " 1   감정_대분류  42874 non-null  object\n",
      " 2   사람문장    42874 non-null  object\n",
      "dtypes: object(3)\n",
      "memory usage: 1.3+ MB\n",
      "<class 'pandas.core.frame.DataFrame'>\n",
      "Int64Index: 35271 entries, 305 to 51630\n",
      "Data columns (total 3 columns):\n",
      " #   Column  Non-Null Count  Dtype \n",
      "---  ------  --------------  ----- \n",
      " 0   상황키워드   35271 non-null  object\n",
      " 1   감정_대분류  35271 non-null  object\n",
      " 2   사람문장    35271 non-null  object\n",
      "dtypes: object(3)\n",
      "memory usage: 1.1+ MB\n"
     ]
    },
    {
     "data": {
      "text/plain": [
       "(None, None)"
      ]
     },
     "execution_count": 84,
     "metadata": {},
     "output_type": "execute_result"
    }
   ],
   "source": [
    "df.info(), df3.info()"
   ]
  },
  {
   "cell_type": "code",
   "execution_count": 85,
   "metadata": {},
   "outputs": [
    {
     "data": {
      "text/html": [
       "<div>\n",
       "<style scoped>\n",
       "    .dataframe tbody tr th:only-of-type {\n",
       "        vertical-align: middle;\n",
       "    }\n",
       "\n",
       "    .dataframe tbody tr th {\n",
       "        vertical-align: top;\n",
       "    }\n",
       "\n",
       "    .dataframe thead th {\n",
       "        text-align: right;\n",
       "    }\n",
       "</style>\n",
       "<table border=\"1\" class=\"dataframe\">\n",
       "  <thead>\n",
       "    <tr style=\"text-align: right;\">\n",
       "      <th></th>\n",
       "      <th>상황키워드</th>\n",
       "      <th>감정_대분류</th>\n",
       "      <th>사람문장</th>\n",
       "    </tr>\n",
       "  </thead>\n",
       "  <tbody>\n",
       "    <tr>\n",
       "      <th>1</th>\n",
       "      <td>진로,취업,직장</td>\n",
       "      <td>분노</td>\n",
       "      <td>일은 왜 해도 해도 끝이 없을까? 화가 난다. 그냥 내가 해결하는 게 나아. 남들한...</td>\n",
       "    </tr>\n",
       "    <tr>\n",
       "      <th>2</th>\n",
       "      <td>진로,취업,직장</td>\n",
       "      <td>분노</td>\n",
       "      <td>이번 달에 또 급여가 깎였어! 물가는 오르는데 월급만 자꾸 깎이니까 너무 화가 나....</td>\n",
       "    </tr>\n",
       "    <tr>\n",
       "      <th>3</th>\n",
       "      <td>진로,취업,직장</td>\n",
       "      <td>분노</td>\n",
       "      <td>회사에 신입이 들어왔는데 말투가 거슬려. 그런 애를 매일 봐야 한다고 생각하니까 스...</td>\n",
       "    </tr>\n",
       "    <tr>\n",
       "      <th>4</th>\n",
       "      <td>진로,취업,직장</td>\n",
       "      <td>분노</td>\n",
       "      <td>직장에서 막내라는 이유로 나에게만 온갖 심부름을 시켜. 일도 많은 데 정말 분하고 ...</td>\n",
       "    </tr>\n",
       "    <tr>\n",
       "      <th>5</th>\n",
       "      <td>진로,취업,직장</td>\n",
       "      <td>분노</td>\n",
       "      <td>얼마 전 입사한 신입사원이 나를 무시하는 것 같아서 너무 화가 나. 상사인 나에게 ...</td>\n",
       "    </tr>\n",
       "    <tr>\n",
       "      <th>...</th>\n",
       "      <td>...</td>\n",
       "      <td>...</td>\n",
       "      <td>...</td>\n",
       "    </tr>\n",
       "    <tr>\n",
       "      <th>51626</th>\n",
       "      <td>재정</td>\n",
       "      <td>분노</td>\n",
       "      <td>노년층을 위한 경제적 지원이나 부업 같은 것도 알아보아야겠어.</td>\n",
       "    </tr>\n",
       "    <tr>\n",
       "      <th>51627</th>\n",
       "      <td>재정</td>\n",
       "      <td>불안</td>\n",
       "      <td>남편과 함께 게이트볼이나 치러 가야겠어. 그럼 기분이 나아질 것 같아.</td>\n",
       "    </tr>\n",
       "    <tr>\n",
       "      <th>51628</th>\n",
       "      <td>재정</td>\n",
       "      <td>상처</td>\n",
       "      <td>남편과 함께 실버 일자리나 노년층을 위한 국가 지원에 대해 자세히 알아보아야겠어.</td>\n",
       "    </tr>\n",
       "    <tr>\n",
       "      <th>51629</th>\n",
       "      <td>대인관계</td>\n",
       "      <td>불안</td>\n",
       "      <td>함께 친하게 지내던 동네 언니 동생들과 빈자리를 조금이나마 채울까 해.</td>\n",
       "    </tr>\n",
       "    <tr>\n",
       "      <th>51630</th>\n",
       "      <td>대인관계</td>\n",
       "      <td>상처</td>\n",
       "      <td>사람들을 볼 때 의심하고 불신하는 마음을 억눌러야겠어. 사람들을 색안경을 끼고 보지...</td>\n",
       "    </tr>\n",
       "  </tbody>\n",
       "</table>\n",
       "<p>78145 rows × 3 columns</p>\n",
       "</div>"
      ],
      "text/plain": [
       "          상황키워드 감정_대분류                                               사람문장\n",
       "1      진로,취업,직장     분노  일은 왜 해도 해도 끝이 없을까? 화가 난다. 그냥 내가 해결하는 게 나아. 남들한...\n",
       "2      진로,취업,직장     분노  이번 달에 또 급여가 깎였어! 물가는 오르는데 월급만 자꾸 깎이니까 너무 화가 나....\n",
       "3      진로,취업,직장     분노  회사에 신입이 들어왔는데 말투가 거슬려. 그런 애를 매일 봐야 한다고 생각하니까 스...\n",
       "4      진로,취업,직장     분노  직장에서 막내라는 이유로 나에게만 온갖 심부름을 시켜. 일도 많은 데 정말 분하고 ...\n",
       "5      진로,취업,직장     분노  얼마 전 입사한 신입사원이 나를 무시하는 것 같아서 너무 화가 나. 상사인 나에게 ...\n",
       "...         ...    ...                                                ...\n",
       "51626        재정     분노                 노년층을 위한 경제적 지원이나 부업 같은 것도 알아보아야겠어.\n",
       "51627        재정     불안            남편과 함께 게이트볼이나 치러 가야겠어. 그럼 기분이 나아질 것 같아.\n",
       "51628        재정     상처      남편과 함께 실버 일자리나 노년층을 위한 국가 지원에 대해 자세히 알아보아야겠어.\n",
       "51629      대인관계     불안            함께 친하게 지내던 동네 언니 동생들과 빈자리를 조금이나마 채울까 해.\n",
       "51630      대인관계     상처  사람들을 볼 때 의심하고 불신하는 마음을 억눌러야겠어. 사람들을 색안경을 끼고 보지...\n",
       "\n",
       "[78145 rows x 3 columns]"
      ]
     },
     "execution_count": 85,
     "metadata": {},
     "output_type": "execute_result"
    }
   ],
   "source": [
    "df = pd.concat([df, df3])\n",
    "df"
   ]
  },
  {
   "cell_type": "code",
   "execution_count": 86,
   "metadata": {},
   "outputs": [
    {
     "data": {
      "text/plain": [
       "불안    16981\n",
       "분노    16840\n",
       "상처    16814\n",
       "슬픔    16689\n",
       "기쁨    10821\n",
       "Name: 감정_대분류, dtype: int64"
      ]
     },
     "execution_count": 86,
     "metadata": {},
     "output_type": "execute_result"
    }
   ],
   "source": [
    "df['감정_대분류'].value_counts()"
   ]
  },
  {
   "cell_type": "code",
   "execution_count": 87,
   "metadata": {},
   "outputs": [
    {
     "name": "stderr",
     "output_type": "stream",
     "text": [
      "/var/folders/cy/sw8s66dd02l8b9dj7pqk2ljm0000gn/T/ipykernel_94697/2314435747.py:1: FutureWarning: The default value of regex will change from True to False in a future version.\n",
      "  df['사람문장'] = df['사람문장'].str.replace('[^ㄱ-ㅎㅏ-ㅣ가-힣 ]', \"\")\n"
     ]
    }
   ],
   "source": [
    "df['사람문장'] = df['사람문장'].str.replace('[^ㄱ-ㅎㅏ-ㅣ가-힣 ]', \"\")"
   ]
  },
  {
   "cell_type": "code",
   "execution_count": 88,
   "metadata": {},
   "outputs": [
    {
     "data": {
      "text/plain": [
       "1     일은 왜 해도 해도 끝이 없을까 화가 난다 그냥 내가 해결하는 게 나아 남들한테 부...\n",
       "2     이번 달에 또 급여가 깎였어 물가는 오르는데 월급만 자꾸 깎이니까 너무 화가 나 최...\n",
       "3     회사에 신입이 들어왔는데 말투가 거슬려 그런 애를 매일 봐야 한다고 생각하니까 스트...\n",
       "4     직장에서 막내라는 이유로 나에게만 온갖 심부름을 시켜 일도 많은 데 정말 분하고 섭...\n",
       "5     얼마 전 입사한 신입사원이 나를 무시하는 것 같아서 너무 화가 나 상사인 나에게 먼...\n",
       "6     직장에 다니고 있지만 시간만 버리는 거 같아 진지하게 진로에 대한 고민이 생겨 직장...\n",
       "7     성인인데도 진로를 아직도 못 정했다고 부모님이 노여워하셔 나도 섭섭해 부모님께 좀 ...\n",
       "8     퇴사한 지 얼마 안 됐지만 천천히 직장을 구해보려고 더 좋은 회사가 기다리고 있을지...\n",
       "9     졸업반이라서 취업을 생각해야 하는데 지금 너무 느긋해서 이래도 되나 싶어 응 느긋함...\n",
       "10    요즘 직장생활이 너무 편하고 좋은 것 같아 우리 회사는 복지가 정말 좋아 내가 곧 ...\n",
       "Name: 사람문장, dtype: object"
      ]
     },
     "execution_count": 88,
     "metadata": {},
     "output_type": "execute_result"
    }
   ],
   "source": [
    "df['사람문장'].head(10)"
   ]
  },
  {
   "attachments": {},
   "cell_type": "markdown",
   "metadata": {},
   "source": [
    "# 2. 감정 분류"
   ]
  },
  {
   "cell_type": "code",
   "execution_count": 89,
   "metadata": {},
   "outputs": [],
   "source": [
    "emo_df = df"
   ]
  },
  {
   "cell_type": "code",
   "execution_count": 90,
   "metadata": {},
   "outputs": [],
   "source": [
    "emo_target_df = emo_df['감정_대분류']"
   ]
  },
  {
   "cell_type": "code",
   "execution_count": 91,
   "metadata": {},
   "outputs": [],
   "source": [
    "emo_df_label = emo_df['사람문장']"
   ]
  },
  {
   "cell_type": "code",
   "execution_count": 92,
   "metadata": {},
   "outputs": [],
   "source": [
    "emo_df.loc[(emo_df['감정_대분류']=='불안'), '감정_대분류'] = 0\n",
    "emo_df.loc[(emo_df['감정_대분류']=='분노'), '감정_대분류'] = 1\n",
    "emo_df.loc[(emo_df['감정_대분류']=='상처'), '감정_대분류'] = 2 \n",
    "emo_df.loc[(emo_df['감정_대분류']=='슬픔'), '감정_대분류'] = 3 \n",
    "emo_df.loc[(emo_df['감정_대분류']=='기쁨'), '감정_대분류'] = 4 "
   ]
  },
  {
   "cell_type": "code",
   "execution_count": 93,
   "metadata": {},
   "outputs": [
    {
     "data": {
      "text/plain": [
       "0    16981\n",
       "1    16840\n",
       "2    16814\n",
       "3    16689\n",
       "4    10821\n",
       "Name: 감정_대분류, dtype: int64"
      ]
     },
     "execution_count": 93,
     "metadata": {},
     "output_type": "execute_result"
    }
   ],
   "source": [
    "emo_target_df.value_counts()"
   ]
  },
  {
   "attachments": {},
   "cell_type": "markdown",
   "metadata": {},
   "source": [
    "# 3. 텍스트 토큰화 및 Pad_Sequences"
   ]
  },
  {
   "cell_type": "code",
   "execution_count": 94,
   "metadata": {},
   "outputs": [],
   "source": [
    "from konlpy.tag import Okt\n",
    "from tqdm import tqdm"
   ]
  },
  {
   "cell_type": "code",
   "execution_count": 95,
   "metadata": {},
   "outputs": [],
   "source": [
    "from sklearn.feature_extraction.text import CountVectorizer, TfidfVectorizer\n",
    "from sklearn.pipeline import Pipeline\n",
    "\n",
    "from sklearn.linear_model import LogisticRegression\n",
    "from sklearn.metrics import accuracy_score, roc_auc_score"
   ]
  },
  {
   "cell_type": "code",
   "execution_count": null,
   "metadata": {},
   "outputs": [],
   "source": [
    "# 1) 정해진 stopwords 사용할때\n",
    "# stopwords = ['의','가','이','은','들','는','좀','잘','걍','과','도','를','으로','자','에','와','한','하다']"
   ]
  },
  {
   "cell_type": "code",
   "execution_count": null,
   "metadata": {},
   "outputs": [],
   "source": [
    "# 2) stopwords 파일 사용할때 \n",
    "s = open('./stopword.txt')\n",
    "stopwords = s.read().split()\n",
    "stopwords"
   ]
  },
  {
   "cell_type": "code",
   "execution_count": 97,
   "metadata": {},
   "outputs": [],
   "source": [
    "okt = Okt()"
   ]
  },
  {
   "cell_type": "code",
   "execution_count": 98,
   "metadata": {},
   "outputs": [
    {
     "name": "stderr",
     "output_type": "stream",
     "text": [
      "100%|██████████| 78145/78145 [01:56<00:00, 670.61it/s] \n"
     ]
    }
   ],
   "source": [
    "tokenized_X_train = []\n",
    "\n",
    "# 사람문장 토큰화\n",
    "for sentence in tqdm(emo_df['사람문장']):\n",
    "    tokenized_sentence = okt.morphs(sentence, stem=True) # 토큰화\n",
    "    stopwords_removed_sentence = [word for word in tokenized_sentence if not word in stopwords] # 불용어 제거\n",
    "    tokenized_X_train.append(stopwords_removed_sentence)"
   ]
  },
  {
   "cell_type": "code",
   "execution_count": 99,
   "metadata": {},
   "outputs": [],
   "source": [
    "from tensorflow.keras.preprocessing.text import Tokenizer\n",
    "from tensorflow.keras.preprocessing.sequence import pad_sequences"
   ]
  },
  {
   "cell_type": "code",
   "execution_count": 100,
   "metadata": {},
   "outputs": [],
   "source": [
    "tokenizer = Tokenizer()\n",
    "tokenizer.fit_on_texts(tokenized_X_train)"
   ]
  },
  {
   "cell_type": "code",
   "execution_count": null,
   "metadata": {},
   "outputs": [],
   "source": [
    "print(tokenizer.word_index)"
   ]
  },
  {
   "cell_type": "code",
   "execution_count": 102,
   "metadata": {},
   "outputs": [
    {
     "name": "stdout",
     "output_type": "stream",
     "text": [
      "단어 집합(vocabulary)의 크기 : 13936\n",
      "등장 빈도가 2번 이하인 희귀 단어의 수: 5651\n",
      "단어 집합에서 희귀 단어의 비율: 40.54965556831229\n",
      "전체 등장 빈도에서 희귀 단어 등장 빈도 비율: 0.7271769252558787\n"
     ]
    }
   ],
   "source": [
    "threshold = 3\n",
    "total_cnt = len(tokenizer.word_index) # 단어의 수\n",
    "rare_cnt = 0 # 등장 빈도수가 threshold보다 작은 단어의 개수를 카운트\n",
    "total_freq = 0 # 훈련 데이터의 전체 단어 빈도수 총 합\n",
    "rare_freq = 0 # 등장 빈도수가 threshold보다 작은 단어의 등장 빈도수의 총 합\n",
    "\n",
    "# 단어와 빈도수의 쌍(pair)을 key와 value로 받는다.\n",
    "for key, value in tokenizer.word_counts.items():\n",
    "    total_freq = total_freq + value\n",
    "\n",
    "    # 단어의 등장 빈도수가 threshold보다 작으면\n",
    "    if(value < threshold):\n",
    "        rare_cnt = rare_cnt + 1\n",
    "        rare_freq = rare_freq + value\n",
    "\n",
    "print('단어 집합(vocabulary)의 크기 :',total_cnt)\n",
    "print('등장 빈도가 %s번 이하인 희귀 단어의 수: %s'%(threshold - 1, rare_cnt))\n",
    "print(\"단어 집합에서 희귀 단어의 비율:\", (rare_cnt / total_cnt)*100)\n",
    "print(\"전체 등장 빈도에서 희귀 단어 등장 빈도 비율:\", (rare_freq / total_freq)*100)"
   ]
  },
  {
   "cell_type": "code",
   "execution_count": 103,
   "metadata": {},
   "outputs": [
    {
     "name": "stdout",
     "output_type": "stream",
     "text": [
      "단어 집합의 크기 : 8286\n"
     ]
    }
   ],
   "source": [
    "vocab_size = total_cnt - rare_cnt + 1\n",
    "print('단어 집합의 크기 :',vocab_size)"
   ]
  },
  {
   "cell_type": "code",
   "execution_count": 104,
   "metadata": {},
   "outputs": [],
   "source": [
    "tokenizer = Tokenizer(vocab_size) \n",
    "tokenizer.fit_on_texts(tokenized_X_train)\n",
    "X_train = tokenizer.texts_to_sequences(tokenized_X_train)"
   ]
  },
  {
   "cell_type": "code",
   "execution_count": 105,
   "metadata": {},
   "outputs": [],
   "source": [
    "import numpy as np\n",
    "\n",
    "y_train = np.array(emo_target_df)"
   ]
  },
  {
   "cell_type": "code",
   "execution_count": 106,
   "metadata": {},
   "outputs": [
    {
     "data": {
      "text/plain": [
       "array([1, 1, 1, ..., 2, 0, 2], dtype=object)"
      ]
     },
     "execution_count": 106,
     "metadata": {},
     "output_type": "execute_result"
    }
   ],
   "source": [
    "y_train"
   ]
  },
  {
   "cell_type": "code",
   "execution_count": 107,
   "metadata": {},
   "outputs": [
    {
     "name": "stdout",
     "output_type": "stream",
     "text": [
      "최대 길이 : 55\n",
      "평균 길이 : 12.82636125151961\n"
     ]
    },
    {
     "data": {
      "image/png": "[encoded data removed]",
      "text/plain": [
       "<Figure size 640x480 with 1 Axes>"
      ]
     },
     "metadata": {},
     "output_type": "display_data"
    }
   ],
   "source": [
    "import matplotlib.pyplot as plt\n",
    "\n",
    "print('최대 길이 :',max(len(review) for review in X_train))\n",
    "print('평균 길이 :',sum(map(len, X_train))/len(X_train))\n",
    "plt.hist([len(review) for review in X_train], bins=50)\n",
    "plt.xlabel('length of samples')\n",
    "plt.ylabel('number of samples')\n",
    "plt.show()"
   ]
  },
  {
   "cell_type": "code",
   "execution_count": 108,
   "metadata": {},
   "outputs": [],
   "source": [
    "def below_threshold_len(max_len, nested_list):\n",
    "  count = 0\n",
    "  for sentence in nested_list:\n",
    "    if(len(sentence) <= max_len):\n",
    "        count = count + 1\n",
    "  print('전체 샘플 중 길이가 %s 이하인 샘플의 비율: %s'%(max_len, (count / len(nested_list))*100))"
   ]
  },
  {
   "cell_type": "code",
   "execution_count": 109,
   "metadata": {},
   "outputs": [
    {
     "name": "stdout",
     "output_type": "stream",
     "text": [
      "전체 샘플 중 길이가 50 이하인 샘플의 비율: 99.99616098278841\n"
     ]
    }
   ],
   "source": [
    "max_len = 50\n",
    "below_threshold_len(max_len, X_train)"
   ]
  },
  {
   "cell_type": "code",
   "execution_count": 110,
   "metadata": {},
   "outputs": [],
   "source": [
    "X_train = pad_sequences(X_train, maxlen=max_len)\n"
   ]
  },
  {
   "cell_type": "code",
   "execution_count": 111,
   "metadata": {},
   "outputs": [
    {
     "data": {
      "text/plain": [
       "78145"
      ]
     },
     "execution_count": 111,
     "metadata": {},
     "output_type": "execute_result"
    }
   ],
   "source": [
    "len(y_train)"
   ]
  },
  {
   "cell_type": "code",
   "execution_count": 112,
   "metadata": {},
   "outputs": [
    {
     "data": {
      "text/plain": [
       "78145"
      ]
     },
     "execution_count": 112,
     "metadata": {},
     "output_type": "execute_result"
    }
   ],
   "source": [
    "len(X_train)"
   ]
  },
  {
   "attachments": {},
   "cell_type": "markdown",
   "metadata": {},
   "source": [
    "# 4. 모델 구축"
   ]
  },
  {
   "cell_type": "code",
   "execution_count": 113,
   "metadata": {},
   "outputs": [],
   "source": [
    "from tensorflow.keras.layers import Embedding, Dense, LSTM\n",
    "from tensorflow.keras.models import Sequential\n",
    "from tensorflow.keras.models import load_model\n",
    "from tensorflow.keras.callbacks import EarlyStopping, ModelCheckpoint"
   ]
  },
  {
   "cell_type": "code",
   "execution_count": 114,
   "metadata": {},
   "outputs": [],
   "source": [
    "y_train = y_train.astype(int)"
   ]
  },
  {
   "cell_type": "code",
   "execution_count": 115,
   "metadata": {},
   "outputs": [
    {
     "data": {
      "text/plain": [
       "0    16981\n",
       "1    16840\n",
       "2    16814\n",
       "3    16689\n",
       "4    10821\n",
       "dtype: int64"
      ]
     },
     "execution_count": 115,
     "metadata": {},
     "output_type": "execute_result"
    }
   ],
   "source": [
    "pd.Series(y_train).value_counts()"
   ]
  },
  {
   "cell_type": "code",
   "execution_count": 116,
   "metadata": {},
   "outputs": [
    {
     "data": {
      "text/plain": [
       "array([[0., 1., 0., 0., 0.],\n",
       "       [0., 1., 0., 0., 0.],\n",
       "       [0., 1., 0., 0., 0.],\n",
       "       ...,\n",
       "       [0., 0., 1., 0., 0.],\n",
       "       [1., 0., 0., 0., 0.],\n",
       "       [0., 0., 1., 0., 0.]])"
      ]
     },
     "execution_count": 116,
     "metadata": {},
     "output_type": "execute_result"
    }
   ],
   "source": [
    "num = np.unique(y_train, axis=0)\n",
    "num = num.shape[0]\n",
    "one_hot_y_train = np.eye(num)[y_train]\n",
    "one_hot_y_train"
   ]
  },
  {
   "cell_type": "code",
   "execution_count": 117,
   "metadata": {},
   "outputs": [
    {
     "name": "stdout",
     "output_type": "stream",
     "text": [
      "Epoch 1/50\n"
     ]
    },
    {
     "name": "stderr",
     "output_type": "stream",
     "text": [
      "2023-03-06 17:04:34.684227: I tensorflow/core/grappler/optimizers/custom_graph_optimizer_registry.cc:113] Plugin optimizer for device_type GPU is enabled.\n",
      "2023-03-06 17:04:34.885108: I tensorflow/core/grappler/optimizers/custom_graph_optimizer_registry.cc:113] Plugin optimizer for device_type GPU is enabled.\n",
      "2023-03-06 17:04:35.088492: I tensorflow/core/grappler/optimizers/custom_graph_optimizer_registry.cc:113] Plugin optimizer for device_type GPU is enabled.\n"
     ]
    },
    {
     "name": "stdout",
     "output_type": "stream",
     "text": [
      "977/977 [==============================] - ETA: 0s - loss: 1.1756 - acc: 0.5181"
     ]
    },
    {
     "name": "stderr",
     "output_type": "stream",
     "text": [
      "2023-03-06 17:05:17.871589: I tensorflow/core/grappler/optimizers/custom_graph_optimizer_registry.cc:113] Plugin optimizer for device_type GPU is enabled.\n",
      "2023-03-06 17:05:18.003349: I tensorflow/core/grappler/optimizers/custom_graph_optimizer_registry.cc:113] Plugin optimizer for device_type GPU is enabled.\n"
     ]
    },
    {
     "name": "stdout",
     "output_type": "stream",
     "text": [
      "\n",
      "Epoch 1: val_acc improved from -inf to 0.32721, saving model to emo_sentence12_concat3.h5\n",
      "977/977 [==============================] - 49s 48ms/step - loss: 1.1756 - acc: 0.5181 - val_loss: 1.4828 - val_acc: 0.3272\n",
      "Epoch 2/50\n",
      "976/977 [============================>.] - ETA: 0s - loss: 0.9998 - acc: 0.6072\n",
      "Epoch 2: val_acc did not improve from 0.32721\n",
      "977/977 [==============================] - 40s 41ms/step - loss: 0.9999 - acc: 0.6072 - val_loss: 1.5109 - val_acc: 0.3268\n",
      "Epoch 3/50\n",
      "977/977 [==============================] - ETA: 0s - loss: 0.9357 - acc: 0.6362\n",
      "Epoch 3: val_acc improved from 0.32721 to 0.33886, saving model to emo_sentence12_concat3.h5\n",
      "977/977 [==============================] - 38s 39ms/step - loss: 0.9357 - acc: 0.6362 - val_loss: 1.4968 - val_acc: 0.3389\n",
      "Epoch 4/50\n",
      "977/977 [==============================] - ETA: 0s - loss: 0.8772 - acc: 0.6605\n",
      "Epoch 4: val_acc did not improve from 0.33886\n",
      "977/977 [==============================] - 39s 40ms/step - loss: 0.8772 - acc: 0.6605 - val_loss: 1.5540 - val_acc: 0.3367\n",
      "Epoch 5/50\n",
      "977/977 [==============================] - ETA: 0s - loss: 0.8181 - acc: 0.6836\n",
      "Epoch 5: val_acc did not improve from 0.33886\n",
      "977/977 [==============================] - 43s 44ms/step - loss: 0.8181 - acc: 0.6836 - val_loss: 1.6050 - val_acc: 0.3347\n",
      "Epoch 5: early stopping\n"
     ]
    }
   ],
   "source": [
    "embedding_dim = 100\n",
    "hidden_units = 128\n",
    "\n",
    "model = Sequential()\n",
    "model.add(Embedding(vocab_size, embedding_dim))\n",
    "model.add(LSTM(hidden_units))\n",
    "model.add(Dense(5, activation='softmax'))\n",
    "\n",
    "es = EarlyStopping(monitor='val_loss', mode='min', verbose=1, patience=4)\n",
    "mc = ModelCheckpoint('emo_sentence12_concat3.h5', monitor='val_acc', mode='max', verbose=1, save_best_only=True)\n",
    "\n",
    "model.compile(optimizer='adam', loss='categorical_crossentropy', metrics=['acc'])\n",
    "history = model.fit(X_train, one_hot_y_train, epochs=50, callbacks=[es, mc], batch_size=64, validation_split=0.2)"
   ]
  },
  {
   "cell_type": "code",
   "execution_count": 118,
   "metadata": {},
   "outputs": [],
   "source": [
    "loaded_model = load_model('emo_sentence12_concat3.h5')"
   ]
  },
  {
   "cell_type": "code",
   "execution_count": 119,
   "metadata": {},
   "outputs": [],
   "source": [
    "import re\n",
    "\n",
    "def sentiment_predict(new_sentence):\n",
    "  new_sentence = re.sub(r'[^ㄱ-ㅎㅏ-ㅣ가-힣 ]','', new_sentence)\n",
    "  new_sentence = okt.morphs(new_sentence, stem=True) # 토큰화\n",
    "  new_sentence = [word for word in new_sentence if not word in stopwords] # 불용어 제거\n",
    "  encoded = tokenizer.texts_to_sequences([new_sentence]) # 정수 인코딩\n",
    "  pad_new = pad_sequences(encoded, maxlen = max_len) # 패딩\n",
    "  score = float(np.argmax(loaded_model.predict(pad_new), axis=-1)) # 예측\n",
    "  if score == 0:\n",
    "    print('불안')\n",
    "  elif score == 1:\n",
    "    print('분노')\n",
    "  elif score == 2:\n",
    "    print('상처')\n",
    "  elif score == 3:\n",
    "    print('슬픔')\n",
    "  elif score == 4:\n",
    "    print('기쁨')\n",
    "  # print(f'score = {score}')"
   ]
  },
  {
   "attachments": {},
   "cell_type": "markdown",
   "metadata": {},
   "source": [
    "# 5. 모델 예측 확인해보기"
   ]
  },
  {
   "cell_type": "code",
   "execution_count": 120,
   "metadata": {},
   "outputs": [
    {
     "name": "stderr",
     "output_type": "stream",
     "text": [
      "2023-03-06 17:08:03.633561: I tensorflow/core/grappler/optimizers/custom_graph_optimizer_registry.cc:113] Plugin optimizer for device_type GPU is enabled.\n",
      "2023-03-06 17:08:03.712002: I tensorflow/core/grappler/optimizers/custom_graph_optimizer_registry.cc:113] Plugin optimizer for device_type GPU is enabled.\n"
     ]
    },
    {
     "name": "stdout",
     "output_type": "stream",
     "text": [
      "1/1 [==============================] - 0s 391ms/step\n",
      "불안\n"
     ]
    }
   ],
   "source": [
    "sentiment_predict('우리 아들이 사춘기라서 어떡하지')"
   ]
  },
  {
   "attachments": {},
   "cell_type": "markdown",
   "metadata": {},
   "source": [
    "# 6. 검증 데이터 불러오기"
   ]
  },
  {
   "cell_type": "code",
   "execution_count": 121,
   "metadata": {},
   "outputs": [],
   "source": [
    "test_val_df = pd.read_csv('./가공데이터/keyword_emotion_sentence_only_validation.csv', usecols=[1,2,3])\n",
    "# test_val_df = pd.read_csv('/content/keyword_emotion_sentence_only_validation.csv', index_col=0)"
   ]
  },
  {
   "cell_type": "code",
   "execution_count": 122,
   "metadata": {},
   "outputs": [
    {
     "data": {
      "text/html": [
       "<div>\n",
       "<style scoped>\n",
       "    .dataframe tbody tr th:only-of-type {\n",
       "        vertical-align: middle;\n",
       "    }\n",
       "\n",
       "    .dataframe tbody tr th {\n",
       "        vertical-align: top;\n",
       "    }\n",
       "\n",
       "    .dataframe thead th {\n",
       "        text-align: right;\n",
       "    }\n",
       "</style>\n",
       "<table border=\"1\" class=\"dataframe\">\n",
       "  <thead>\n",
       "    <tr style=\"text-align: right;\">\n",
       "      <th></th>\n",
       "      <th>상황키워드</th>\n",
       "      <th>감정_대분류</th>\n",
       "      <th>사람문장</th>\n",
       "    </tr>\n",
       "  </thead>\n",
       "  <tbody>\n",
       "    <tr>\n",
       "      <th>0</th>\n",
       "      <td>진로,취업,직장</td>\n",
       "      <td>불안</td>\n",
       "      <td>이번 프로젝트에서 발표를 하는데 내가 실수하는 바람에 우리 팀이 감점을 받았어. 너...</td>\n",
       "    </tr>\n",
       "    <tr>\n",
       "      <th>1</th>\n",
       "      <td>진로,취업,직장</td>\n",
       "      <td>불안</td>\n",
       "      <td>회사에서 중요한 프로젝트를 혼자 하게 됐는데 솔직히 두렵고 무서워. 나에게 너무 크...</td>\n",
       "    </tr>\n",
       "    <tr>\n",
       "      <th>2</th>\n",
       "      <td>진로,취업,직장</td>\n",
       "      <td>불안</td>\n",
       "      <td>상사가 너무 무섭게 생겨서 친해지는 게 너무 두려워. 무섭게 생겼는데도 업무를 보려...</td>\n",
       "    </tr>\n",
       "    <tr>\n",
       "      <th>3</th>\n",
       "      <td>진로,취업,직장</td>\n",
       "      <td>불안</td>\n",
       "      <td>이번에 힘들게 들어간 첫 직장이거든. 첫 직장이라서 그런지 너무 긴장된다. 첫 직장...</td>\n",
       "    </tr>\n",
       "    <tr>\n",
       "      <th>4</th>\n",
       "      <td>진로,취업,직장</td>\n",
       "      <td>불안</td>\n",
       "      <td>직장에서 동료들이랑 관계가 안 좋아질까 봐 걱정돼. 내가 낯가림이 심해서 친해질 수...</td>\n",
       "    </tr>\n",
       "    <tr>\n",
       "      <th>...</th>\n",
       "      <td>...</td>\n",
       "      <td>...</td>\n",
       "      <td>...</td>\n",
       "    </tr>\n",
       "    <tr>\n",
       "      <th>5588</th>\n",
       "      <td>연애,결혼,출산</td>\n",
       "      <td>기쁨</td>\n",
       "      <td>남자친구랑 헤어질 뻔했는데 다시 화해했어. 정말 다행이야. 내가 과음하고 실수를 해...</td>\n",
       "    </tr>\n",
       "    <tr>\n",
       "      <th>5589</th>\n",
       "      <td>연애,결혼,출산</td>\n",
       "      <td>상처</td>\n",
       "      <td>나 너무 억울하고 속상한 일이 있어. 피곤해서 남자친구 연락에 대답하지 못하고 잠들...</td>\n",
       "    </tr>\n",
       "    <tr>\n",
       "      <th>5590</th>\n",
       "      <td>연애,결혼,출산</td>\n",
       "      <td>상처</td>\n",
       "      <td>친구 결혼식에 갔었는데 내가 안 온 줄 알고 친구가 토라져서 억울해! 바쁜 사정이 ...</td>\n",
       "    </tr>\n",
       "    <tr>\n",
       "      <th>5591</th>\n",
       "      <td>연애,결혼,출산</td>\n",
       "      <td>상처</td>\n",
       "      <td>나는 결혼을 안 하는 건데 주변에서는 결혼을 못 하는 거로 생각해. 강하게 나서서 ...</td>\n",
       "    </tr>\n",
       "    <tr>\n",
       "      <th>5592</th>\n",
       "      <td>연애,결혼,출산</td>\n",
       "      <td>상처</td>\n",
       "      <td>남자친구가 나를 오해해서 싸웠어. 억울해. 한 번 더 진지하게 이야기해보자고 해야겠...</td>\n",
       "    </tr>\n",
       "  </tbody>\n",
       "</table>\n",
       "<p>5593 rows × 3 columns</p>\n",
       "</div>"
      ],
      "text/plain": [
       "         상황키워드 감정_대분류                                               사람문장\n",
       "0     진로,취업,직장     불안  이번 프로젝트에서 발표를 하는데 내가 실수하는 바람에 우리 팀이 감점을 받았어. 너...\n",
       "1     진로,취업,직장     불안  회사에서 중요한 프로젝트를 혼자 하게 됐는데 솔직히 두렵고 무서워. 나에게 너무 크...\n",
       "2     진로,취업,직장     불안  상사가 너무 무섭게 생겨서 친해지는 게 너무 두려워. 무섭게 생겼는데도 업무를 보려...\n",
       "3     진로,취업,직장     불안  이번에 힘들게 들어간 첫 직장이거든. 첫 직장이라서 그런지 너무 긴장된다. 첫 직장...\n",
       "4     진로,취업,직장     불안  직장에서 동료들이랑 관계가 안 좋아질까 봐 걱정돼. 내가 낯가림이 심해서 친해질 수...\n",
       "...        ...    ...                                                ...\n",
       "5588  연애,결혼,출산     기쁨  남자친구랑 헤어질 뻔했는데 다시 화해했어. 정말 다행이야. 내가 과음하고 실수를 해...\n",
       "5589  연애,결혼,출산     상처  나 너무 억울하고 속상한 일이 있어. 피곤해서 남자친구 연락에 대답하지 못하고 잠들...\n",
       "5590  연애,결혼,출산     상처  친구 결혼식에 갔었는데 내가 안 온 줄 알고 친구가 토라져서 억울해! 바쁜 사정이 ...\n",
       "5591  연애,결혼,출산     상처  나는 결혼을 안 하는 건데 주변에서는 결혼을 못 하는 거로 생각해. 강하게 나서서 ...\n",
       "5592  연애,결혼,출산     상처  남자친구가 나를 오해해서 싸웠어. 억울해. 한 번 더 진지하게 이야기해보자고 해야겠...\n",
       "\n",
       "[5593 rows x 3 columns]"
      ]
     },
     "execution_count": 122,
     "metadata": {},
     "output_type": "execute_result"
    }
   ],
   "source": [
    "test_val_df"
   ]
  },
  {
   "attachments": {},
   "cell_type": "markdown",
   "metadata": {},
   "source": [
    "# 7. 검증 데이터 토큰화 및 Pad_Sequences"
   ]
  },
  {
   "cell_type": "code",
   "execution_count": 123,
   "metadata": {},
   "outputs": [
    {
     "name": "stderr",
     "output_type": "stream",
     "text": [
      "100%|██████████| 5593/5593 [00:17<00:00, 322.97it/s]\n"
     ]
    }
   ],
   "source": [
    "test_list = []\n",
    "for sentence in tqdm(test_val_df['사람문장']):\n",
    "    tokenized_sentence = okt.morphs(sentence, stem=True) # 토큰화\n",
    "    stopwords_removed_sentence = [word for word in tokenized_sentence if not word in stopwords] # 불용어 제거\n",
    "    test_list.append(stopwords_removed_sentence)"
   ]
  },
  {
   "cell_type": "code",
   "execution_count": 124,
   "metadata": {},
   "outputs": [],
   "source": [
    "X_test = tokenizer.texts_to_sequences(test_list)\n",
    "X_test = pad_sequences(X_test, maxlen=max_len)"
   ]
  },
  {
   "cell_type": "code",
   "execution_count": 125,
   "metadata": {},
   "outputs": [
    {
     "name": "stdout",
     "output_type": "stream",
     "text": [
      "175/175 [==============================] - 2s 9ms/step\n"
     ]
    }
   ],
   "source": [
    "y_pred = loaded_model.predict(X_test)"
   ]
  },
  {
   "cell_type": "code",
   "execution_count": 126,
   "metadata": {},
   "outputs": [
    {
     "name": "stdout",
     "output_type": "stream",
     "text": [
      "175/175 [==============================] - 1s 9ms/step\n"
     ]
    }
   ],
   "source": [
    "tmp = np.argmax(loaded_model.predict(X_test), axis=-1) # 예측\n"
   ]
  },
  {
   "cell_type": "code",
   "execution_count": 127,
   "metadata": {},
   "outputs": [
    {
     "name": "stdout",
     "output_type": "stream",
     "text": [
      "<class 'pandas.core.frame.DataFrame'>\n",
      "RangeIndex: 5593 entries, 0 to 5592\n",
      "Data columns (total 3 columns):\n",
      " #   Column  Non-Null Count  Dtype \n",
      "---  ------  --------------  ----- \n",
      " 0   상황키워드   5593 non-null   object\n",
      " 1   감정_대분류  5593 non-null   object\n",
      " 2   사람문장    5593 non-null   object\n",
      "dtypes: object(3)\n",
      "memory usage: 131.2+ KB\n"
     ]
    }
   ],
   "source": [
    "test_val_df.info()"
   ]
  },
  {
   "cell_type": "code",
   "execution_count": 128,
   "metadata": {},
   "outputs": [],
   "source": [
    "test_val_df['추정_감정_대분류'] = pd.DataFrame(tmp)"
   ]
  },
  {
   "cell_type": "code",
   "execution_count": 129,
   "metadata": {},
   "outputs": [],
   "source": [
    "def num_to_emo(number):\n",
    "    if number == 0:\n",
    "        return '불안'\n",
    "    elif number == 1:\n",
    "        return '분노'\n",
    "    elif number == 2:\n",
    "        return '상처'\n",
    "    elif number == 3:\n",
    "        return '슬픔'\n",
    "    elif number == 4:\n",
    "        return '기쁨'"
   ]
  },
  {
   "cell_type": "code",
   "execution_count": 130,
   "metadata": {},
   "outputs": [],
   "source": [
    "test_val_df['추정_감정_대분류'] = test_val_df['추정_감정_대분류'].apply(num_to_emo)"
   ]
  },
  {
   "cell_type": "code",
   "execution_count": 131,
   "metadata": {},
   "outputs": [
    {
     "data": {
      "text/plain": [
       "0    1265\n",
       "4    1216\n",
       "1    1203\n",
       "2     971\n",
       "3     938\n",
       "dtype: int64"
      ]
     },
     "execution_count": 131,
     "metadata": {},
     "output_type": "execute_result"
    }
   ],
   "source": [
    "pd.Series(tmp).value_counts()"
   ]
  },
  {
   "cell_type": "code",
   "execution_count": 132,
   "metadata": {},
   "outputs": [],
   "source": [
    "correct_df = test_val_df[test_val_df['감정_대분류'] == test_val_df['추정_감정_대분류']]"
   ]
  },
  {
   "cell_type": "code",
   "execution_count": 133,
   "metadata": {},
   "outputs": [
    {
     "data": {
      "text/plain": [
       "0.7255497943858394"
      ]
     },
     "execution_count": 133,
     "metadata": {},
     "output_type": "execute_result"
    }
   ],
   "source": [
    "len(correct_df) / len(test_val_df)"
   ]
  },
  {
   "cell_type": "code",
   "execution_count": 134,
   "metadata": {},
   "outputs": [],
   "source": [
    "test_val_df.to_csv('val_emo_sentence12_concat3.csv', index=False)"
   ]
  }
 ],
 "metadata": {
  "kernelspec": {
   "display_name": "tensorflow",
   "language": "python",
   "name": "python3"
  },
  "language_info": {
   "codemirror_mode": {
    "name": "ipython",
    "version": 3
   },
   "file_extension": ".py",
   "mimetype": "text/x-python",
   "name": "python",
   "nbconvert_exporter": "python",
   "pygments_lexer": "ipython3",
   "version": "3.8.16"
  },
  "orig_nbformat": 4,
  "vscode": {
   "interpreter": {
    "hash": "04fd9c361be45f4292b225cf55355a67dfa13b4c14ac86b9ffe9743e2c71714e"
   }
  }
 },
 "nbformat": 4,
 "nbformat_minor": 2
}
