{
 "cells": [
  {
   "cell_type": "code",
   "execution_count": 2,
   "metadata": {},
   "outputs": [],
   "source": [
    "import pandas as pd\n",
    "import tensorflow as tf\n",
    "import transformers\n",
    "import numpy as np\n",
    "from transformers import TFBertModel, BertConfig, BertTokenizer, BertModel, DistilBertModel\n",
    "from tokenization_kobert import KoBertTokenizer\n",
    "import pickle\n",
    "from tensorflow.keras.models import load_model"
   ]
  },
  {
   "cell_type": "code",
   "execution_count": 3,
   "metadata": {},
   "outputs": [
    {
     "name": "stdout",
     "output_type": "stream",
     "text": [
      "1/1 [==============================] - 3s 3s/step\n",
      "입력 문장: 어머니 아버지랑 같이 여행을 다녀오려고해.\n",
      "예측된 감정 라벨: 4\n"
     ]
    }
   ],
   "source": [
    "\n",
    "# 모델 불러오기\n",
    "model = load_model('./model_save/kobert_emotion_30epoch.h5', custom_objects={'TFBertModel': TFBertModel})\n",
    "\n",
    "# tokenizer 불러오기\n",
    "with open('./model_save/tokenizer_emotion_30epoch.pickle', 'rb') as handle:\n",
    "    tokenizer = pickle.load(handle)\n",
    "\n",
    "# 입력 데이터 전처리 함수\n",
    "def preprocess_sentence(sentence, MAX_LEN):\n",
    "    encoded_dict = tokenizer.encode_plus(\n",
    "        text=sentence,\n",
    "        add_special_tokens=True,\n",
    "        max_length=MAX_LEN,\n",
    "        padding='max_length',\n",
    "        return_attention_mask=True,\n",
    "        truncation=True\n",
    "    )\n",
    "    input_id = encoded_dict['input_ids']\n",
    "    attention_mask = encoded_dict['attention_mask']\n",
    "    return input_id, attention_mask\n",
    "\n",
    "# 예측 함수\n",
    "def predict_emotion(sentence):\n",
    "    MAX_LEN = 50\n",
    "    input_id, attention_mask = preprocess_sentence(sentence, MAX_LEN)\n",
    "    input_id = np.array(input_id).reshape(1, -1)\n",
    "    attention_mask = np.array(attention_mask).reshape(1, -1)\n",
    "    predicted = model.predict([input_id, attention_mask])\n",
    "    return np.argmax(predicted)\n",
    "\n",
    "# 예측\n",
    "sentence = \"어머니 아버지랑 같이 여행을 다녀오려고해.\"\n",
    "predicted_label = predict_emotion(sentence)\n",
    "print(f\"입력 문장: {sentence}\")\n",
    "print(f\"예측된 감정 라벨: {predicted_label}\")"
   ]
  },
  {
   "cell_type": "code",
   "execution_count": 4,
   "metadata": {},
   "outputs": [
    {
     "name": "stdout",
     "output_type": "stream",
     "text": [
      "1/1 [==============================] - 2s 2s/step\n",
      "입력 문장: 어머니 아버지랑 같이 여행을 다녀오려고해\n",
      "예측된 감정 라벨: 3\n"
     ]
    }
   ],
   "source": [
    "# 모델 불러오기\n",
    "model = load_model('./model_save/kobert_situation_epochs.h5', custom_objects={'TFBertModel': TFBertModel})\n",
    "\n",
    "# tokenizer 불러오기\n",
    "with open('./model_save/tokenizer_situation_epochs.pickle', 'rb') as handle:\n",
    "    tokenizer = pickle.load(handle)\n",
    "\n",
    "# 입력 데이터 전처리 함수\n",
    "def preprocess_sentence(sentence, MAX_LEN):\n",
    "    encoded_dict = tokenizer.encode_plus(\n",
    "        text=sentence,\n",
    "        add_special_tokens=True,\n",
    "        max_length=MAX_LEN,\n",
    "        padding='max_length',\n",
    "        return_attention_mask=True,\n",
    "        truncation=True\n",
    "    )\n",
    "    input_id = encoded_dict['input_ids']\n",
    "    attention_mask = encoded_dict['attention_mask']\n",
    "    return input_id, attention_mask\n",
    "\n",
    "# 예측 함수\n",
    "def predict_situation(sentence):\n",
    "    MAX_LEN = 50\n",
    "    input_id, attention_mask = preprocess_sentence(sentence, MAX_LEN)\n",
    "    input_id = np.array(input_id).reshape(1, -1)\n",
    "    attention_mask = np.array(attention_mask).reshape(1, -1)\n",
    "    predicted = model.predict([input_id, attention_mask])\n",
    "    return np.argmax(predicted)\n",
    "\n",
    "# 예측\n",
    "sentence = \"어머니 아버지랑 같이 여행을 다녀오려고해\"\n",
    "predicted_label = predict_situation(sentence)\n",
    "print(f\"입력 문장: {sentence}\")\n",
    "print(f\"예측된 감정 라벨: {predicted_label}\")"
   ]
  }
 ],
 "metadata": {
  "kernelspec": {
   "display_name": "tf2",
   "language": "python",
   "name": "python3"
  },
  "language_info": {
   "codemirror_mode": {
    "name": "ipython",
    "version": 3
   },
   "file_extension": ".py",
   "mimetype": "text/x-python",
   "name": "python",
   "nbconvert_exporter": "python",
   "pygments_lexer": "ipython3",
   "version": "3.9.16"
  },
  "orig_nbformat": 4
 },
 "nbformat": 4,
 "nbformat_minor": 2
}
