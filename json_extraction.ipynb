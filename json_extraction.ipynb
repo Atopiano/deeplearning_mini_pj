{
 "cells": [
  {
   "cell_type": "code",
   "execution_count": 2,
   "metadata": {},
   "outputs": [],
   "source": [
    "import pandas as pd\n",
    "import json\n",
    "import os"
   ]
  },
  {
   "cell_type": "code",
   "execution_count": 19,
   "metadata": {},
   "outputs": [
    {
     "data": {
      "text/plain": [
       "'BOHE210001459300.json'"
      ]
     },
     "execution_count": 19,
     "metadata": {},
     "output_type": "execute_result"
    }
   ],
   "source": [
    "path = './원천데이터/건강_의학'\n",
    "file_list = os.listdir(path)\n",
    "\n",
    "file_list[1]"
   ]
  },
  {
   "cell_type": "code",
   "execution_count": 20,
   "metadata": {},
   "outputs": [
    {
     "data": {
      "text/plain": [
       "737"
      ]
     },
     "execution_count": 20,
     "metadata": {},
     "output_type": "execute_result"
    }
   ],
   "source": [
    "len(file_list)"
   ]
  },
  {
   "cell_type": "code",
   "execution_count": 21,
   "metadata": {},
   "outputs": [],
   "source": [
    "def sentence_extraction_from_json(json_file: str):\n",
    "    return_list = []\n",
    "    with open(path+'/'+json_file) as f:\n",
    "        js = json.loads(f.read()) ## json 라이브러리 이용\n",
    "    for i in range(len(js['named_entity'])):\n",
    "        return_list.append(js['named_entity'][i]['content'][0]['sentence'])\n",
    "    return return_list"
   ]
  },
  {
   "cell_type": "code",
   "execution_count": null,
   "metadata": {},
   "outputs": [],
   "source": [
    "def sentence_extraction_from_raw_type_json(json_file: str):\n",
    "    return_list = []\n",
    "    with open(path+'/'+json_file) as f:\n",
    "        js = json.loads(f.read()) ## json 라이브러리 이용\n",
    "        js['SJML']['text'][0]['content']\n",
    "    for i in range(len(js['SJML']['text'])):\n",
    "        return_list.append(js['SJML']['text'][0]['content'])\n",
    "    return return_list"
   ]
  },
  {
   "cell_type": "code",
   "execution_count": null,
   "metadata": {},
   "outputs": [],
   "source": [
    "for i in range(10):\n",
    "    sentence_to_series = pd.Series()\n",
    "    sentences = sentence_extraction_from_json(file_list[i])\n",
    "    sentence_to_series = pd.Series(sentences)\n",
    "    sentence_to_series.to_csv(\"sentence_extraction/\"+f\"{i}_data\"+\".csv\")"
   ]
  },
  {
   "cell_type": "code",
   "execution_count": 22,
   "metadata": {},
   "outputs": [
    {
     "ename": "KeyError",
     "evalue": "'named_entity'",
     "output_type": "error",
     "traceback": [
      "\u001b[0;31m---------------------------------------------------------------------------\u001b[0m",
      "\u001b[0;31mKeyError\u001b[0m                                  Traceback (most recent call last)",
      "Cell \u001b[0;32mIn[22], line 4\u001b[0m\n\u001b[1;32m      1\u001b[0m all_sen_list \u001b[39m=\u001b[39m []\n\u001b[1;32m      3\u001b[0m \u001b[39mfor\u001b[39;00m i \u001b[39min\u001b[39;00m \u001b[39mrange\u001b[39m(\u001b[39mlen\u001b[39m(file_list)):\n\u001b[0;32m----> 4\u001b[0m     sentences \u001b[39m=\u001b[39m sentence_extraction_from_json(file_list[i])\n\u001b[1;32m      5\u001b[0m     all_sen_list \u001b[39m+\u001b[39m\u001b[39m=\u001b[39m sentences\n\u001b[1;32m      7\u001b[0m all_sen_list\n",
      "Cell \u001b[0;32mIn[21], line 5\u001b[0m, in \u001b[0;36msentence_extraction_from_json\u001b[0;34m(json_file)\u001b[0m\n\u001b[1;32m      3\u001b[0m \u001b[39mwith\u001b[39;00m \u001b[39mopen\u001b[39m(path\u001b[39m+\u001b[39m\u001b[39m'\u001b[39m\u001b[39m/\u001b[39m\u001b[39m'\u001b[39m\u001b[39m+\u001b[39mjson_file) \u001b[39mas\u001b[39;00m f:\n\u001b[1;32m      4\u001b[0m     js \u001b[39m=\u001b[39m json\u001b[39m.\u001b[39mloads(f\u001b[39m.\u001b[39mread()) \u001b[39m## json 라이브러리 이용\u001b[39;00m\n\u001b[0;32m----> 5\u001b[0m \u001b[39mfor\u001b[39;00m i \u001b[39min\u001b[39;00m \u001b[39mrange\u001b[39m(\u001b[39mlen\u001b[39m(js[\u001b[39m'\u001b[39;49m\u001b[39mnamed_entity\u001b[39;49m\u001b[39m'\u001b[39;49m])):\n\u001b[1;32m      6\u001b[0m     return_list\u001b[39m.\u001b[39mappend(js[\u001b[39m'\u001b[39m\u001b[39mnamed_entity\u001b[39m\u001b[39m'\u001b[39m][i][\u001b[39m'\u001b[39m\u001b[39mcontent\u001b[39m\u001b[39m'\u001b[39m][\u001b[39m0\u001b[39m][\u001b[39m'\u001b[39m\u001b[39msentence\u001b[39m\u001b[39m'\u001b[39m])\n\u001b[1;32m      7\u001b[0m \u001b[39mreturn\u001b[39;00m return_list\n",
      "\u001b[0;31mKeyError\u001b[0m: 'named_entity'"
     ]
    }
   ],
   "source": [
    "all_sen_list = []\n",
    "\n",
    "for i in range(len(file_list)):\n",
    "    sentences = sentence_extraction_from_json(file_list[i])\n",
    "    all_sen_list += sentences\n",
    "\n",
    "all_sen_list\n",
    "sentence_to_series = pd.Series(all_sen_list)\n",
    "sentence_to_series.to_csv(\"sentence_extraction/\"+f\"raw_data_건강_의학\"+\".csv\")"
   ]
  },
  {
   "cell_type": "code",
   "execution_count": null,
   "metadata": {},
   "outputs": [],
   "source": []
  }
 ],
 "metadata": {
  "kernelspec": {
   "display_name": "tf-learning",
   "language": "python",
   "name": "python3"
  },
  "language_info": {
   "codemirror_mode": {
    "name": "ipython",
    "version": 3
   },
   "file_extension": ".py",
   "mimetype": "text/x-python",
   "name": "python",
   "nbconvert_exporter": "python",
   "pygments_lexer": "ipython3",
   "version": "3.8.16"
  },
  "orig_nbformat": 4,
  "vscode": {
   "interpreter": {
    "hash": "669b9d02bcf94e5aa624eb44586bbf73b14f511db4905eee9a657608229042dc"
   }
  }
 },
 "nbformat": 4,
 "nbformat_minor": 2
}
