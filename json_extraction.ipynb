{
 "cells": [
  {
   "cell_type": "code",
   "execution_count": 2,
   "metadata": {},
   "outputs": [],
   "source": [
    "import pandas as pd\n",
    "import json\n",
    "import os"
   ]
  },
  {
   "cell_type": "code",
   "execution_count": 3,
   "metadata": {},
   "outputs": [
    {
     "data": {
      "text/plain": [
       "'BOHE210001381706.json'"
      ]
     },
     "execution_count": 3,
     "metadata": {},
     "output_type": "execute_result"
    }
   ],
   "source": [
    "path = './라벨링데이터'\n",
    "file_list = os.listdir(path)\n",
    "\n",
    "file_list[1]"
   ]
  },
  {
   "cell_type": "code",
   "execution_count": 4,
   "metadata": {},
   "outputs": [
    {
     "data": {
      "text/plain": [
       "19004"
      ]
     },
     "execution_count": 4,
     "metadata": {},
     "output_type": "execute_result"
    }
   ],
   "source": [
    "len(file_list)"
   ]
  },
  {
   "cell_type": "code",
   "execution_count": 5,
   "metadata": {},
   "outputs": [],
   "source": [
    "def sentence_extraction_from_json(json_file: str):\n",
    "    return_list = []\n",
    "    with open('라벨링데이터/'+json_file) as f:\n",
    "        js = json.loads(f.read()) ## json 라이브러리 이용\n",
    "    for i in range(len(js['named_entity'])):\n",
    "        return_list.append(js['named_entity'][i]['content'][0]['sentence'])\n",
    "    return return_list"
   ]
  },
  {
   "cell_type": "code",
   "execution_count": 21,
   "metadata": {},
   "outputs": [
    {
     "name": "stderr",
     "output_type": "stream",
     "text": [
      "/var/folders/s0/5rhprztj2xs1kzwd87bwg_y00000gn/T/ipykernel_82587/3918417563.py:2: FutureWarning: The default dtype for empty Series will be 'object' instead of 'float64' in a future version. Specify a dtype explicitly to silence this warning.\n",
      "  sentence_to_series = pd.Series()\n",
      "/var/folders/s0/5rhprztj2xs1kzwd87bwg_y00000gn/T/ipykernel_82587/3918417563.py:2: FutureWarning: The default dtype for empty Series will be 'object' instead of 'float64' in a future version. Specify a dtype explicitly to silence this warning.\n",
      "  sentence_to_series = pd.Series()\n",
      "/var/folders/s0/5rhprztj2xs1kzwd87bwg_y00000gn/T/ipykernel_82587/3918417563.py:2: FutureWarning: The default dtype for empty Series will be 'object' instead of 'float64' in a future version. Specify a dtype explicitly to silence this warning.\n",
      "  sentence_to_series = pd.Series()\n",
      "/var/folders/s0/5rhprztj2xs1kzwd87bwg_y00000gn/T/ipykernel_82587/3918417563.py:2: FutureWarning: The default dtype for empty Series will be 'object' instead of 'float64' in a future version. Specify a dtype explicitly to silence this warning.\n",
      "  sentence_to_series = pd.Series()\n",
      "/var/folders/s0/5rhprztj2xs1kzwd87bwg_y00000gn/T/ipykernel_82587/3918417563.py:2: FutureWarning: The default dtype for empty Series will be 'object' instead of 'float64' in a future version. Specify a dtype explicitly to silence this warning.\n",
      "  sentence_to_series = pd.Series()\n",
      "/var/folders/s0/5rhprztj2xs1kzwd87bwg_y00000gn/T/ipykernel_82587/3918417563.py:2: FutureWarning: The default dtype for empty Series will be 'object' instead of 'float64' in a future version. Specify a dtype explicitly to silence this warning.\n",
      "  sentence_to_series = pd.Series()\n",
      "/var/folders/s0/5rhprztj2xs1kzwd87bwg_y00000gn/T/ipykernel_82587/3918417563.py:2: FutureWarning: The default dtype for empty Series will be 'object' instead of 'float64' in a future version. Specify a dtype explicitly to silence this warning.\n",
      "  sentence_to_series = pd.Series()\n",
      "/var/folders/s0/5rhprztj2xs1kzwd87bwg_y00000gn/T/ipykernel_82587/3918417563.py:2: FutureWarning: The default dtype for empty Series will be 'object' instead of 'float64' in a future version. Specify a dtype explicitly to silence this warning.\n",
      "  sentence_to_series = pd.Series()\n",
      "/var/folders/s0/5rhprztj2xs1kzwd87bwg_y00000gn/T/ipykernel_82587/3918417563.py:2: FutureWarning: The default dtype for empty Series will be 'object' instead of 'float64' in a future version. Specify a dtype explicitly to silence this warning.\n",
      "  sentence_to_series = pd.Series()\n",
      "/var/folders/s0/5rhprztj2xs1kzwd87bwg_y00000gn/T/ipykernel_82587/3918417563.py:2: FutureWarning: The default dtype for empty Series will be 'object' instead of 'float64' in a future version. Specify a dtype explicitly to silence this warning.\n",
      "  sentence_to_series = pd.Series()\n"
     ]
    }
   ],
   "source": [
    "for i in range(10):\n",
    "    sentence_to_series = pd.Series()\n",
    "    sentences = sentence_extraction_from_json(file_list[i])\n",
    "    sentence_to_series = pd.Series(sentences)\n",
    "    sentence_to_series.to_csv(\"sentence_extraction/\"+f\"{i}_data\"+\".csv\")"
   ]
  },
  {
   "cell_type": "code",
   "execution_count": 7,
   "metadata": {},
   "outputs": [],
   "source": [
    "all_sen_list = []\n",
    "\n",
    "for i in range(10):\n",
    "    sentences = sentence_extraction_from_json(file_list[i])\n",
    "    all_sen_list += sentences\n",
    "\n",
    "all_sen_list\n",
    "sentence_to_series = pd.Series(all_sen_list)\n",
    "sentence_to_series.to_csv(\"sentence_extraction/\"+f\"raw_datas\"+\".csv\")"
   ]
  },
  {
   "cell_type": "code",
   "execution_count": null,
   "metadata": {},
   "outputs": [],
   "source": []
  }
 ],
 "metadata": {
  "kernelspec": {
   "display_name": "tf-learning",
   "language": "python",
   "name": "python3"
  },
  "language_info": {
   "codemirror_mode": {
    "name": "ipython",
    "version": 3
   },
   "file_extension": ".py",
   "mimetype": "text/x-python",
   "name": "python",
   "nbconvert_exporter": "python",
   "pygments_lexer": "ipython3",
   "version": "3.8.16"
  },
  "orig_nbformat": 4,
  "vscode": {
   "interpreter": {
    "hash": "669b9d02bcf94e5aa624eb44586bbf73b14f511db4905eee9a657608229042dc"
   }
  }
 },
 "nbformat": 4,
 "nbformat_minor": 2
}
