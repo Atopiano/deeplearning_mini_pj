{
 "cells": [
  {
   "cell_type": "code",
   "execution_count": 2,
   "metadata": {},
   "outputs": [],
   "source": [
    "import pandas as pd\n",
    "import json\n",
    "import os"
   ]
  },
  {
   "cell_type": "code",
   "execution_count": 37,
   "metadata": {},
   "outputs": [
    {
     "data": {
      "text/plain": [
       "'BOHB210001409655.json'"
      ]
     },
     "execution_count": 37,
     "metadata": {},
     "output_type": "execute_result"
    }
   ],
   "source": [
    "path = './원천데이터/취미'\n",
    "file_list = os.listdir(path)\n",
    "\n",
    "file_list[1]"
   ]
  },
  {
   "cell_type": "code",
   "execution_count": 38,
   "metadata": {},
   "outputs": [
    {
     "data": {
      "text/plain": [
       "1385"
      ]
     },
     "execution_count": 38,
     "metadata": {},
     "output_type": "execute_result"
    }
   ],
   "source": [
    "len(file_list)"
   ]
  },
  {
   "cell_type": "code",
   "execution_count": 21,
   "metadata": {},
   "outputs": [],
   "source": [
    "def sentence_extraction_from_json(json_file: str):\n",
    "    return_list = []\n",
    "    with open(path+'/'+json_file) as f:\n",
    "        js = json.loads(f.read()) ## json 라이브러리 이용\n",
    "    for i in range(len(js['named_entity'])):\n",
    "        return_list.append(js['named_entity'][i]['content'][0]['sentence'])\n",
    "    return return_list"
   ]
  },
  {
   "cell_type": "code",
   "execution_count": 24,
   "metadata": {},
   "outputs": [],
   "source": [
    "def sentence_extraction_from_raw_type_json(json_file: str):\n",
    "    return_list = []\n",
    "    with open(path+'/'+json_file) as f:\n",
    "        js = json.loads(f.read()) ## json 라이브러리 이용\n",
    "        js['SJML']['text'][0]['content']\n",
    "    for i in range(len(js['SJML']['text'])):\n",
    "        return_list.append(js['SJML']['text'][i]['content'])\n",
    "    return return_list"
   ]
  },
  {
   "cell_type": "code",
   "execution_count": null,
   "metadata": {},
   "outputs": [],
   "source": [
    "for i in range(10):\n",
    "    sentence_to_series = pd.Series()\n",
    "    sentences = sentence_extraction_from_json(file_list[i])\n",
    "    sentence_to_series = pd.Series(sentences)\n",
    "    sentence_to_series.to_csv(\"sentence_extraction/\"+f\"{i}_data\"+\".csv\")"
   ]
  },
  {
   "cell_type": "code",
   "execution_count": null,
   "metadata": {},
   "outputs": [],
   "source": [
    "all_sen_list = []\n",
    "\n",
    "for i in range(0,19000,500):\n",
    "    sentences = sentence_extraction_from_json(file_list[i])\n",
    "    all_sen_list += sentences\n",
    "\n",
    "all_sen_list\n",
    "sentence_to_series = pd.Series(all_sen_list)\n",
    "sentence_to_series.to_csv(\"sentence_extraction/\"+f\"raw_data_rand\"+\".csv\")"
   ]
  },
  {
   "cell_type": "code",
   "execution_count": 39,
   "metadata": {},
   "outputs": [],
   "source": [
    "all_sen_list = []\n",
    "\n",
    "for i in range(len(file_list)):\n",
    "    sentences = sentence_extraction_from_raw_type_json(file_list[i])\n",
    "    all_sen_list += sentences\n",
    "\n",
    "all_sen_list\n",
    "sentence_to_series = pd.Series(all_sen_list)\n",
    "sentence_to_series.to_csv(\"sentence_extraction/\"+f\"raw_data_취미\"+\".csv\")"
   ]
  },
  {
   "cell_type": "code",
   "execution_count": null,
   "metadata": {},
   "outputs": [],
   "source": []
  }
 ],
 "metadata": {
  "kernelspec": {
   "display_name": "tf-learning",
   "language": "python",
   "name": "python3"
  },
  "language_info": {
   "codemirror_mode": {
    "name": "ipython",
    "version": 3
   },
   "file_extension": ".py",
   "mimetype": "text/x-python",
   "name": "python",
   "nbconvert_exporter": "python",
   "pygments_lexer": "ipython3",
   "version": "3.8.16"
  },
  "orig_nbformat": 4,
  "vscode": {
   "interpreter": {
    "hash": "669b9d02bcf94e5aa624eb44586bbf73b14f511db4905eee9a657608229042dc"
   }
  }
 },
 "nbformat": 4,
 "nbformat_minor": 2
}
