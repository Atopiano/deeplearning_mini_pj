{
 "cells": [
  {
   "cell_type": "code",
   "execution_count": 14,
   "metadata": {},
   "outputs": [],
   "source": [
    "import pandas as pd\n"
   ]
  },
  {
   "cell_type": "code",
   "execution_count": 15,
   "metadata": {},
   "outputs": [],
   "source": [
    "df = pd.read_csv('감성대화말뭉치(최종데이터)_Training.csv')"
   ]
  },
  {
   "cell_type": "code",
   "execution_count": 16,
   "metadata": {},
   "outputs": [
    {
     "name": "stdout",
     "output_type": "stream",
     "text": [
      "<class 'pandas.core.frame.DataFrame'>\n",
      "RangeIndex: 51630 entries, 0 to 51629\n",
      "Data columns (total 13 columns):\n",
      " #   Column      Non-Null Count  Dtype \n",
      "---  ------      --------------  ----- \n",
      " 0   Unnamed: 0  51630 non-null  int64 \n",
      " 1   연령          51630 non-null  object\n",
      " 2   성별          51630 non-null  object\n",
      " 3   상황키워드       51630 non-null  object\n",
      " 4   신체질환        51630 non-null  object\n",
      " 5   감정_대분류      51630 non-null  object\n",
      " 6   감정_소분류      51630 non-null  object\n",
      " 7   사람문장1       51630 non-null  object\n",
      " 8   시스템문장1      51630 non-null  object\n",
      " 9   사람문장2       51630 non-null  object\n",
      " 10  시스템문장2      51630 non-null  object\n",
      " 11  사람문장3       42695 non-null  object\n",
      " 12  시스템문장3      42695 non-null  object\n",
      "dtypes: int64(1), object(12)\n",
      "memory usage: 5.1+ MB\n"
     ]
    }
   ],
   "source": [
    "df.info()"
   ]
  },
  {
   "cell_type": "code",
   "execution_count": 18,
   "metadata": {},
   "outputs": [],
   "source": [
    "df.상황키워드 = df['상황키워드'].apply(lambda x: '건강,죽음' if x == '건강' else x)"
   ]
  },
  {
   "cell_type": "code",
   "execution_count": 19,
   "metadata": {},
   "outputs": [
    {
     "data": {
      "text/plain": [
       "대인관계            10926\n",
       "건강,죽음            7244\n",
       "진로,취업,직장         5224\n",
       "재정               4962\n",
       "가족관계             4208\n",
       "연애,결혼,출산         4085\n",
       "대인관계(부부, 자녀)     3402\n",
       "학업 및 진로          3283\n",
       "학교폭력/따돌림         3091\n",
       "재정,은퇴,노후준비       2738\n",
       "직장, 업무 스트레스      2467\n",
       "Name: 상황키워드, dtype: int64"
      ]
     },
     "execution_count": 19,
     "metadata": {},
     "output_type": "execute_result"
    }
   ],
   "source": [
    "df['상황키워드'].value_counts()"
   ]
  },
  {
   "cell_type": "code",
   "execution_count": 20,
   "metadata": {},
   "outputs": [
    {
     "name": "stdout",
     "output_type": "stream",
     "text": [
      "<class 'pandas.core.frame.DataFrame'>\n",
      "RangeIndex: 51630 entries, 0 to 51629\n",
      "Data columns (total 13 columns):\n",
      " #   Column      Non-Null Count  Dtype \n",
      "---  ------      --------------  ----- \n",
      " 0   Unnamed: 0  51630 non-null  int64 \n",
      " 1   연령          51630 non-null  object\n",
      " 2   성별          51630 non-null  object\n",
      " 3   상황키워드       51630 non-null  object\n",
      " 4   신체질환        51630 non-null  object\n",
      " 5   감정_대분류      51630 non-null  object\n",
      " 6   감정_소분류      51630 non-null  object\n",
      " 7   사람문장1       51630 non-null  object\n",
      " 8   시스템문장1      51630 non-null  object\n",
      " 9   사람문장2       51630 non-null  object\n",
      " 10  시스템문장2      51630 non-null  object\n",
      " 11  사람문장3       42695 non-null  object\n",
      " 12  시스템문장3      42695 non-null  object\n",
      "dtypes: int64(1), object(12)\n",
      "memory usage: 5.1+ MB\n"
     ]
    }
   ],
   "source": [
    "df.info()"
   ]
  },
  {
   "cell_type": "code",
   "execution_count": 21,
   "metadata": {},
   "outputs": [],
   "source": [
    "new_df = df[['상황키워드','감정_대분류','사람문장1','사람문장2','사람문장3']]"
   ]
  },
  {
   "cell_type": "code",
   "execution_count": 22,
   "metadata": {},
   "outputs": [
    {
     "name": "stderr",
     "output_type": "stream",
     "text": [
      "C:\\Users\\ykh98\\AppData\\Local\\Temp\\ipykernel_7740\\1227825612.py:3: SettingWithCopyWarning: \n",
      "A value is trying to be set on a copy of a slice from a DataFrame.\n",
      "Try using .loc[row_indexer,col_indexer] = value instead\n",
      "\n",
      "See the caveats in the documentation: https://pandas.pydata.org/pandas-docs/stable/user_guide/indexing.html#returning-a-view-versus-a-copy\n",
      "  new_df_merge_sentence['사람문장'] = new_df[['사람문장1','사람문장2']].apply(' '.join, axis=1)\n"
     ]
    }
   ],
   "source": [
    "# df['Full Name'] = df[['First', 'Last']].apply(' '.join, axis=1)\n",
    "new_df_merge_sentence = new_df\n",
    "new_df_merge_sentence['사람문장'] = new_df[['사람문장1','사람문장2']].apply(' '.join, axis=1)"
   ]
  },
  {
   "cell_type": "code",
   "execution_count": 23,
   "metadata": {},
   "outputs": [
    {
     "name": "stderr",
     "output_type": "stream",
     "text": [
      "C:\\Users\\ykh98\\AppData\\Local\\Temp\\ipykernel_7740\\1349727833.py:1: SettingWithCopyWarning: \n",
      "A value is trying to be set on a copy of a slice from a DataFrame\n",
      "\n",
      "See the caveats in the documentation: https://pandas.pydata.org/pandas-docs/stable/user_guide/indexing.html#returning-a-view-versus-a-copy\n",
      "  new_df_merge_sentence['사람문장3'].fillna('.', inplace=True)\n"
     ]
    }
   ],
   "source": [
    "new_df_merge_sentence['사람문장3'].fillna('.', inplace=True)"
   ]
  },
  {
   "cell_type": "code",
   "execution_count": 24,
   "metadata": {},
   "outputs": [
    {
     "name": "stderr",
     "output_type": "stream",
     "text": [
      "C:\\Users\\ykh98\\AppData\\Local\\Temp\\ipykernel_7740\\708296713.py:1: SettingWithCopyWarning: \n",
      "A value is trying to be set on a copy of a slice from a DataFrame.\n",
      "Try using .loc[row_indexer,col_indexer] = value instead\n",
      "\n",
      "See the caveats in the documentation: https://pandas.pydata.org/pandas-docs/stable/user_guide/indexing.html#returning-a-view-versus-a-copy\n",
      "  new_df_merge_sentence['사람문장'] = new_df_merge_sentence[['사람문장','사람문장3']].apply(' '.join, axis=1)\n"
     ]
    }
   ],
   "source": [
    "new_df_merge_sentence['사람문장'] = new_df_merge_sentence[['사람문장','사람문장3']].apply(' '.join, axis=1)"
   ]
  },
  {
   "cell_type": "code",
   "execution_count": 25,
   "metadata": {},
   "outputs": [
    {
     "name": "stdout",
     "output_type": "stream",
     "text": [
      "<class 'pandas.core.frame.DataFrame'>\n",
      "RangeIndex: 51630 entries, 0 to 51629\n",
      "Data columns (total 6 columns):\n",
      " #   Column  Non-Null Count  Dtype \n",
      "---  ------  --------------  ----- \n",
      " 0   상황키워드   51630 non-null  object\n",
      " 1   감정_대분류  51630 non-null  object\n",
      " 2   사람문장1   51630 non-null  object\n",
      " 3   사람문장2   51630 non-null  object\n",
      " 4   사람문장3   51630 non-null  object\n",
      " 5   사람문장    51630 non-null  object\n",
      "dtypes: object(6)\n",
      "memory usage: 2.4+ MB\n"
     ]
    }
   ],
   "source": [
    "new_df_merge_sentence.info()"
   ]
  },
  {
   "cell_type": "code",
   "execution_count": 26,
   "metadata": {},
   "outputs": [],
   "source": [
    "final_df = new_df_merge_sentence[['상황키워드', '감정_대분류', '사람문장']]"
   ]
  },
  {
   "cell_type": "code",
   "execution_count": 27,
   "metadata": {},
   "outputs": [],
   "source": [
    "final_df.to_csv('11kewords_train.csv', index=False)"
   ]
  },
  {
   "cell_type": "code",
   "execution_count": 28,
   "metadata": {},
   "outputs": [
    {
     "name": "stdout",
     "output_type": "stream",
     "text": [
      "<class 'pandas.core.frame.DataFrame'>\n",
      "RangeIndex: 51630 entries, 0 to 51629\n",
      "Data columns (total 3 columns):\n",
      " #   Column  Non-Null Count  Dtype \n",
      "---  ------  --------------  ----- \n",
      " 0   상황키워드   51630 non-null  object\n",
      " 1   감정_대분류  51630 non-null  object\n",
      " 2   사람문장    51630 non-null  object\n",
      "dtypes: object(3)\n",
      "memory usage: 1.2+ MB\n"
     ]
    }
   ],
   "source": [
    "final_df.info()"
   ]
  }
 ],
 "metadata": {
  "kernelspec": {
   "display_name": "Python 3 (ipykernel)",
   "language": "python",
   "name": "python3"
  },
  "language_info": {
   "codemirror_mode": {
    "name": "ipython",
    "version": 3
   },
   "file_extension": ".py",
   "mimetype": "text/x-python",
   "name": "python",
   "nbconvert_exporter": "python",
   "pygments_lexer": "ipython3",
   "version": "3.9.16"
  },
  "vscode": {
   "interpreter": {
    "hash": "669b9d02bcf94e5aa624eb44586bbf73b14f511db4905eee9a657608229042dc"
   }
  }
 },
 "nbformat": 4,
 "nbformat_minor": 4
}
