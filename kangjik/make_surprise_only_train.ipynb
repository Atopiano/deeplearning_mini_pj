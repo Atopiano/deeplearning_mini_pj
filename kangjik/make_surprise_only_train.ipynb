{
 "cells": [
  {
   "attachments": {},
   "cell_type": "markdown",
   "metadata": {},
   "source": [
    "# train 데이터 중 '당황' 감정 대분류에 해당하는 row만 따로 csv로 만드는 파일\n",
    "## 감정 대분류 모델의 validation으로 사용할 예정\n",
    "## 추후 원 train 데이터에 concat해 감정 대분류 모델 재학습 예정"
   ]
  },
  {
   "cell_type": "code",
   "execution_count": 1,
   "metadata": {},
   "outputs": [],
   "source": [
    "import pandas as pd"
   ]
  },
  {
   "cell_type": "code",
   "execution_count": 15,
   "metadata": {},
   "outputs": [],
   "source": [
    "# 원본 데이터의 사본을 train_surprise로 바꿔놨었음, 해당 파일 불러오기\n",
    "df = pd.read_csv('train_surprise.csv')"
   ]
  },
  {
   "cell_type": "code",
   "execution_count": 16,
   "metadata": {},
   "outputs": [
    {
     "data": {
      "text/plain": [
       "당황    8756\n",
       "Name: 감정_대분류, dtype: int64"
      ]
     },
     "execution_count": 16,
     "metadata": {},
     "output_type": "execute_result"
    }
   ],
   "source": [
    "df.감정_대분류.value_counts()"
   ]
  },
  {
   "cell_type": "code",
   "execution_count": 17,
   "metadata": {},
   "outputs": [],
   "source": [
    "surprise_df = df[df['감정_대분류'] == '당황']"
   ]
  },
  {
   "cell_type": "code",
   "execution_count": 18,
   "metadata": {},
   "outputs": [
    {
     "data": {
      "text/html": [
       "<div>\n",
       "<style scoped>\n",
       "    .dataframe tbody tr th:only-of-type {\n",
       "        vertical-align: middle;\n",
       "    }\n",
       "\n",
       "    .dataframe tbody tr th {\n",
       "        vertical-align: top;\n",
       "    }\n",
       "\n",
       "    .dataframe thead th {\n",
       "        text-align: right;\n",
       "    }\n",
       "</style>\n",
       "<table border=\"1\" class=\"dataframe\">\n",
       "  <thead>\n",
       "    <tr style=\"text-align: right;\">\n",
       "      <th></th>\n",
       "      <th>Unnamed: 0.1</th>\n",
       "      <th>Unnamed: 0</th>\n",
       "      <th>상황키워드</th>\n",
       "      <th>감정_대분류</th>\n",
       "      <th>사람문장</th>\n",
       "    </tr>\n",
       "  </thead>\n",
       "  <tbody>\n",
       "    <tr>\n",
       "      <th>0</th>\n",
       "      <td>0</td>\n",
       "      <td>14</td>\n",
       "      <td>진로,취업,직장</td>\n",
       "      <td>당황</td>\n",
       "      <td>길을 가다가 우연히 마주친 동네 아주머니께서 취업했냐고 물어보셔서 당황했어. 평소 ...</td>\n",
       "    </tr>\n",
       "    <tr>\n",
       "      <th>1</th>\n",
       "      <td>1</td>\n",
       "      <td>15</td>\n",
       "      <td>진로,취업,직장</td>\n",
       "      <td>당황</td>\n",
       "      <td>어제 합격 통보를 받은 회사에서 문자를 잘못 발송했다고 연락이 왔어. 너무 당혹스럽...</td>\n",
       "    </tr>\n",
       "    <tr>\n",
       "      <th>2</th>\n",
       "      <td>2</td>\n",
       "      <td>16</td>\n",
       "      <td>진로,취업,직장</td>\n",
       "      <td>당황</td>\n",
       "      <td>나 오늘 첫 출근 했는데 너무 당황스러웠어! 버스 타고 카드를 찍으려고 하는데 지갑...</td>\n",
       "    </tr>\n",
       "    <tr>\n",
       "      <th>3</th>\n",
       "      <td>3</td>\n",
       "      <td>17</td>\n",
       "      <td>진로,취업,직장</td>\n",
       "      <td>당황</td>\n",
       "      <td>이번에 직장을 이직했는데 글쎄 만나고 싶지 않은 사람을 만나서 아주 당황스럽더라고....</td>\n",
       "    </tr>\n",
       "    <tr>\n",
       "      <th>4</th>\n",
       "      <td>4</td>\n",
       "      <td>29</td>\n",
       "      <td>진로,취업,직장</td>\n",
       "      <td>당황</td>\n",
       "      <td>이번에 중소기업에 취업하게 되었어. 친구들에게 말하기가 조금 부끄러워. 요즘같이 어...</td>\n",
       "    </tr>\n",
       "    <tr>\n",
       "      <th>...</th>\n",
       "      <td>...</td>\n",
       "      <td>...</td>\n",
       "      <td>...</td>\n",
       "      <td>...</td>\n",
       "      <td>...</td>\n",
       "    </tr>\n",
       "    <tr>\n",
       "      <th>8751</th>\n",
       "      <td>8751</td>\n",
       "      <td>51601</td>\n",
       "      <td>진로,취업,직장</td>\n",
       "      <td>당황</td>\n",
       "      <td>남편의 사업이 망했어. 남은 자금도 없어서 생계에 문제가 생길까 봐 두려워. 남편에...</td>\n",
       "    </tr>\n",
       "    <tr>\n",
       "      <th>8752</th>\n",
       "      <td>8752</td>\n",
       "      <td>51613</td>\n",
       "      <td>가족관계</td>\n",
       "      <td>당황</td>\n",
       "      <td>부모님이 내가 밖에 나가려고만 하면 간섭을 하셔. 속상해. 내가 너무 험하게 놀고 ...</td>\n",
       "    </tr>\n",
       "    <tr>\n",
       "      <th>8753</th>\n",
       "      <td>8753</td>\n",
       "      <td>51616</td>\n",
       "      <td>대인관계</td>\n",
       "      <td>당황</td>\n",
       "      <td>결혼 후 독립에 대한 양가 부모님의 생각이 달라. 어떻게 하면 좋을지 모르겠어. 장...</td>\n",
       "    </tr>\n",
       "    <tr>\n",
       "      <th>8754</th>\n",
       "      <td>8754</td>\n",
       "      <td>51617</td>\n",
       "      <td>대인관계</td>\n",
       "      <td>당황</td>\n",
       "      <td>내가 아내한테 정말 잘해주고 있는 게 맞는지 의문이 들어. 속상해. 아내가 많이 힘...</td>\n",
       "    </tr>\n",
       "    <tr>\n",
       "      <th>8755</th>\n",
       "      <td>8755</td>\n",
       "      <td>51623</td>\n",
       "      <td>건강,죽음</td>\n",
       "      <td>당황</td>\n",
       "      <td>이제 몸이 점점 약해진다는 게 느껴져. 아내에게 미안하고 속상한 마음이 들어. 이젠...</td>\n",
       "    </tr>\n",
       "  </tbody>\n",
       "</table>\n",
       "<p>8756 rows × 5 columns</p>\n",
       "</div>"
      ],
      "text/plain": [
       "      Unnamed: 0.1  Unnamed: 0     상황키워드 감정_대분류  \\\n",
       "0                0          14  진로,취업,직장     당황   \n",
       "1                1          15  진로,취업,직장     당황   \n",
       "2                2          16  진로,취업,직장     당황   \n",
       "3                3          17  진로,취업,직장     당황   \n",
       "4                4          29  진로,취업,직장     당황   \n",
       "...            ...         ...       ...    ...   \n",
       "8751          8751       51601  진로,취업,직장     당황   \n",
       "8752          8752       51613      가족관계     당황   \n",
       "8753          8753       51616      대인관계     당황   \n",
       "8754          8754       51617      대인관계     당황   \n",
       "8755          8755       51623     건강,죽음     당황   \n",
       "\n",
       "                                                   사람문장  \n",
       "0     길을 가다가 우연히 마주친 동네 아주머니께서 취업했냐고 물어보셔서 당황했어. 평소 ...  \n",
       "1     어제 합격 통보를 받은 회사에서 문자를 잘못 발송했다고 연락이 왔어. 너무 당혹스럽...  \n",
       "2     나 오늘 첫 출근 했는데 너무 당황스러웠어! 버스 타고 카드를 찍으려고 하는데 지갑...  \n",
       "3     이번에 직장을 이직했는데 글쎄 만나고 싶지 않은 사람을 만나서 아주 당황스럽더라고....  \n",
       "4     이번에 중소기업에 취업하게 되었어. 친구들에게 말하기가 조금 부끄러워. 요즘같이 어...  \n",
       "...                                                 ...  \n",
       "8751  남편의 사업이 망했어. 남은 자금도 없어서 생계에 문제가 생길까 봐 두려워. 남편에...  \n",
       "8752  부모님이 내가 밖에 나가려고만 하면 간섭을 하셔. 속상해. 내가 너무 험하게 놀고 ...  \n",
       "8753  결혼 후 독립에 대한 양가 부모님의 생각이 달라. 어떻게 하면 좋을지 모르겠어. 장...  \n",
       "8754  내가 아내한테 정말 잘해주고 있는 게 맞는지 의문이 들어. 속상해. 아내가 많이 힘...  \n",
       "8755  이제 몸이 점점 약해진다는 게 느껴져. 아내에게 미안하고 속상한 마음이 들어. 이젠...  \n",
       "\n",
       "[8756 rows x 5 columns]"
      ]
     },
     "execution_count": 18,
     "metadata": {},
     "output_type": "execute_result"
    }
   ],
   "source": [
    "surprise_df"
   ]
  },
  {
   "cell_type": "code",
   "execution_count": 14,
   "metadata": {},
   "outputs": [],
   "source": [
    "surprise_df.to_csv('train_surprise.csv')"
   ]
  },
  {
   "cell_type": "code",
   "execution_count": null,
   "metadata": {},
   "outputs": [],
   "source": []
  }
 ],
 "metadata": {
  "kernelspec": {
   "display_name": "tf",
   "language": "python",
   "name": "python3"
  },
  "language_info": {
   "codemirror_mode": {
    "name": "ipython",
    "version": 3
   },
   "file_extension": ".py",
   "mimetype": "text/x-python",
   "name": "python",
   "nbconvert_exporter": "python",
   "pygments_lexer": "ipython3",
   "version": "3.8.16"
  },
  "orig_nbformat": 4
 },
 "nbformat": 4,
 "nbformat_minor": 2
}
