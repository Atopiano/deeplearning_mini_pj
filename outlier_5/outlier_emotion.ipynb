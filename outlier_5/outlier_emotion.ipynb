{
 "cells": [
  {
   "attachments": {},
   "cell_type": "markdown",
   "metadata": {},
   "source": [
    "## 감정대분류 5가지 이상치 탐색 (21437 ~ 42874)"
   ]
  },
  {
   "cell_type": "code",
   "execution_count": null,
   "metadata": {},
   "outputs": [],
   "source": [
    "import pandas as pd\n",
    "\n",
    "# 데이터셋 로드\n",
    "data_df = pd.read_csv('C:/playdata/DL_miniproject/jiin/outlier_5/outlier_search.csv')\n",
    "outliner = pd.read_csv('C:/playdata/DL_miniproject/jiin/outlier_5/outliner_sentence_only.csv')\n",
    "\n",
    "# 추가할 열 추출\n",
    "new_col = data_df['column_name']\n",
    "\n",
    "# df2에 새로운 열 추가\n",
    "outliner['new_column'] = new_col\n",
    "\n",
    "# 결과를 파일로 저장\n",
    "outliner.to_csv('new_file.csv', index=False)"
   ]
  },
  {
   "attachments": {},
   "cell_type": "markdown",
   "metadata": {},
   "source": [
    "위 코드에서는 먼저 pd.read_csv() 함수를 이용하여 두 개의 CSV 파일을 각각 data_df, outliner 변수에 저장합니다. 그리고 data_df에서 추가하고자 하는 열을 선택하여 new_col 변수에 저장합니다.\n",
    "\n",
    "그 다음으로는 outliner에 새로운 열을 추가합니다. 이때는 df2['new_column'] = new_col과 같이 outliner에 추가하고자 하는 열의 이름을 지정하고, 그 값으로는 new_col 변수를 지정합니다.\n",
    "\n",
    "마지막으로는 outliner를 새로운 CSV 파일로 저장합니다. 이때, index=False를 설정하여 인덱스를 파일에 저장하지 않도록 합니다."
   ]
  }
 ],
 "metadata": {
  "kernelspec": {
   "display_name": "tf2",
   "language": "python",
   "name": "python3"
  },
  "language_info": {
   "codemirror_mode": {
    "name": "ipython",
    "version": 3
   },
   "file_extension": ".py",
   "mimetype": "text/x-python",
   "name": "python",
   "nbconvert_exporter": "python",
   "pygments_lexer": "ipython3",
   "version": "3.8.16"
  },
  "orig_nbformat": 4
 },
 "nbformat": 4,
 "nbformat_minor": 2
}
